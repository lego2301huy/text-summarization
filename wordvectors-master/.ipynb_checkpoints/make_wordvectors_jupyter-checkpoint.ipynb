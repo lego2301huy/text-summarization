{
 "cells": [
  {
   "cell_type": "raw",
   "id": "d784fe7e-6d87-4b7c-8f27-b4c6db92c35b",
   "metadata": {},
   "source": [
    "# coding: utf-8\n",
    "#!/usr/bin/python2\n",
    "import nltk\n",
    "import os\n",
    "import codecs\n",
    "import argparse\n",
    "import numpy as np\n",
    "import string\n",
    "import re\n",
    "from pyvi import ViTokenizer\n",
    "import gensim # In case you have difficulties installing gensim, you need to consider installing conda.\n",
    "from gensim.models.callbacks import CallbackAny2Vec\n",
    "import pickle as pickle\n",
    "\n",
    "\n",
    "pattern = r'[' + string.punctuation +']'"
   ]
  },
  {
   "cell_type": "code",
   "execution_count": 1,
   "id": "6db6b6c3-f5c6-4af5-84ec-fc8f1467cd24",
   "metadata": {},
   "outputs": [],
   "source": [
    "import nltk\n",
    "import os\n",
    "import codecs\n",
    "import argparse\n",
    "import numpy as np\n",
    "import string\n",
    "import re\n",
    "from pyvi import ViTokenizer\n",
    "import gensim # In case you have difficulties installing gensim, you need to consider installing conda.\n",
    "from gensim.models.callbacks import CallbackAny2Vec\n",
    "import pickle as pickle\n",
    "\n",
    "\n",
    "pattern = r'[' + string.punctuation +']'"
   ]
  },
  {
   "cell_type": "code",
   "execution_count": 2,
   "id": "3c6ae484-05ce-435f-8921-5154f6610da1",
   "metadata": {},
   "outputs": [],
   "source": [
    "epoch_losses = []"
   ]
  },
  {
   "cell_type": "code",
   "execution_count": 3,
   "id": "2af6a76c",
   "metadata": {},
   "outputs": [],
   "source": [
    "        \n",
    "class callback(CallbackAny2Vec):\n",
    "    '''Callback to print loss after each epoch.'''\n",
    "\n",
    "    def __init__(self):\n",
    "        self.epoch = 0\n",
    "        self.loss_to_be_subed = 0\n",
    "        self.losses = []\n",
    "\n",
    "    def on_epoch_end(self, model):\n",
    "        loss = model.get_latest_training_loss()\n",
    "        loss_now = loss - self.loss_to_be_subed\n",
    "        self.loss_to_be_subed = loss\n",
    "        print('Loss after epoch {}: {}'.format(self.epoch, loss_now))\n",
    "        self.epoch += 1\n",
    "        self.losses.append(loss_now)\n",
    "        epoch_losses.append(loss_now)\n",
    "        \n",
    "        \n",
    "def get_min_count(sents):\n",
    "    '''\n",
    "    Args:\n",
    "      sents: A list of lists. E.g., [[\"I\", \"am\", \"a\", \"boy\", \".\"], [\"You\", \"are\", \"a\", \"girl\", \".\"]]\n",
    "     \n",
    "    Returns:\n",
    "      min_count: A uint. Should be set as the parameter value of word2vec `min_count`.   \n",
    "    '''\n",
    "    global vocab_size\n",
    "    from itertools import chain\n",
    "     \n",
    "    fdist = nltk.FreqDist(chain.from_iterable(sents))\n",
    "    min_count = fdist.most_common(vocab_size)[-1][1] # the count of the the top-kth word\n",
    "    \n",
    "    return min_count\n",
    "\n",
    "\n",
    "\n"
   ]
  },
  {
   "cell_type": "markdown",
   "id": "7d894555",
   "metadata": {},
   "source": [
    "Make sentences list"
   ]
  },
  {
   "cell_type": "code",
   "execution_count": 5,
   "id": "8bd73b6a",
   "metadata": {},
   "outputs": [
    {
     "name": "stdout",
     "output_type": "stream",
     "text": [
      "Making sentences as list...\n",
      "Done making sentence list\n"
     ]
    }
   ],
   "source": [
    "global lcode\n",
    "print (\"Making sentences as list...\")\n",
    "sents = []\n",
    "with codecs.open('data/corpus/corpus-split-2.txt', 'r', 'utf-8-sig') as fin:\n",
    "    while 1:\n",
    "        line = fin.readline()\n",
    "        line = re.sub(pattern, '', line)\n",
    "        if not line: break\n",
    "\n",
    "        words = ViTokenizer.tokenize(line)\n",
    "        words = words.split()\n",
    "        sents.append(words)\n",
    "        \n",
    "print (\"Done making sentence list\")"
   ]
  },
  {
   "cell_type": "code",
   "execution_count": 6,
   "id": "0462c971",
   "metadata": {},
   "outputs": [],
   "source": [
    "# arguments setting \n",
    "lcode = \"vi\"\n",
    "vector_size =300\n",
    "window_size = 5\n",
    "vocab_size = 30000\n",
    "num_negative = 10\n",
    "epochs = 15"
   ]
  },
  {
   "cell_type": "code",
   "execution_count": 7,
   "id": "cf69756c",
   "metadata": {},
   "outputs": [
    {
     "name": "stdout",
     "output_type": "stream",
     "text": [
      "Making word vectors...\n",
      "Loss after epoch 0: 32967932.0\n",
      "Loss after epoch 1: 28765676.0\n",
      "Loss after epoch 2: 8660648.0\n",
      "Loss after epoch 3: 4019224.0\n",
      "Loss after epoch 4: 3814832.0\n",
      "Loss after epoch 5: 3796976.0\n",
      "Loss after epoch 6: 3610480.0\n",
      "Loss after epoch 7: 3506136.0\n",
      "Loss after epoch 8: 3386840.0\n",
      "Loss after epoch 9: 3285656.0\n",
      "Loss after epoch 10: 3219688.0\n",
      "Loss after epoch 11: 3106600.0\n",
      "Loss after epoch 12: 3000576.0\n",
      "Loss after epoch 13: 2852344.0\n",
      "Loss after epoch 14: 2769408.0\n",
      "Done.\n"
     ]
    }
   ],
   "source": [
    "\n",
    "print (\"Making word vectors...\")   \n",
    "\n",
    "call_back = callback()\n",
    "\n",
    "model = gensim.models.Word2Vec(update_sents, size=vector_size, min_count=100,\n",
    "                               negative=num_negative, \n",
    "                               window=window_size,\n",
    "                               max_final_vocab=vocab_size,\n",
    "                               callbacks=[call_back],\n",
    "                               compute_loss=True,\n",
    "                               sg = 1,\n",
    "                               workers = 6,\n",
    "                               iter=epochs)\n",
    "\n",
    "# Save vector to file\n",
    "model.wv.save_word2vec_format('data/vectors-sg/{}-{}-{}-{}-{}-loss.vec'.format(lcode, vector_size, window_size, vocab_size, num_negative), binary=False)\n",
    "\n",
    "# Save to file\n",
    "#with codecs.open('data/vectors-sg/{}-{}-{}-{}-{}-fullsplit8-sg-token.tsv'.format(lcode, vector_size, window_size, vocab_size, num_negative), 'w', 'utf-8') as fout:\n",
    "#    for i, word in enumerate(model.wv.index2word):\n",
    "#        fout.write(u\"{}{}\\n\".format(word.encode('utf8').decode('utf8'),\n",
    "#                                          np.array_str(model[word])[1:-1]\n",
    "#                                          ))\n",
    "model.save('data/vectors-sg/{}-{}-{}-{}-{}-loss.model'.format(lcode, vector_size, window_size, vocab_size, num_negative))\n",
    "print (\"Done.\")\n"
   ]
  },
  {
   "cell_type": "code",
   "execution_count": 12,
   "id": "3bf3427f",
   "metadata": {},
   "outputs": [],
   "source": [
    "model.save('data/vectors-sg/{}-{}-{}-{}-{}-fullsplit8-sg-token-token.model'.format(lcode, vector_size, window_size, vocab_size, num_negative))"
   ]
  },
  {
   "cell_type": "code",
   "execution_count": 9,
   "id": "b959220b-e3aa-47d6-a349-e4ab9d6d1919",
   "metadata": {},
   "outputs": [
    {
     "name": "stdout",
     "output_type": "stream",
     "text": [
      "Making word vectors...\n",
      "Loss after epoch 0: 0.0\n",
      "Loss after epoch 1: 0.0\n",
      "Loss after epoch 2: 0.0\n",
      "Loss after epoch 3: 0.0\n",
      "Loss after epoch 4: 0.0\n",
      "Loss after epoch 5: 0.0\n",
      "Loss after epoch 6: 0.0\n",
      "Loss after epoch 7: 0.0\n",
      "Loss after epoch 8: 0.0\n",
      "Loss after epoch 9: 0.0\n"
     ]
    }
   ],
   "source": [
    "print (\"Making word vectors...\")   \n",
    "\n",
    "call_back = callback()\n",
    "\n",
    "test_model1 = gensim.models.Word2Vec(min_count = 300,\n",
    "                                    negative = 0,\n",
    "                                    window = 5,\n",
    "                                    compute_loss=True,\n",
    "                                    sg = 1,\n",
    "                                    workers = 6,)\n",
    "test_model1.build_vocab(sents)\n",
    "\n",
    "test_model1.train(sents,\n",
    "                 total_examples = test_model.corpus_count,\n",
    "                 epochs = 10,\n",
    "                 compute_loss = True,\n",
    "                 callbacks=[call_back],)\n",
    "\n",
    "test_model1.save('data/vectors-sg/test_model-split2.model')\n",
    "test_model1.wv.save_word2vec_format('data/vectors-sg/test_model-split2.vec', binary=False)\n"
   ]
  },
  {
   "cell_type": "code",
   "execution_count": 8,
   "id": "1c8723c0-cc30-4948-970a-86c019dc75aa",
   "metadata": {},
   "outputs": [
    {
     "data": {
      "text/plain": [
       "[32967932.0,\n",
       " 28765676.0,\n",
       " 8660648.0,\n",
       " 4019224.0,\n",
       " 3814832.0,\n",
       " 3796976.0,\n",
       " 3610480.0,\n",
       " 3506136.0,\n",
       " 3386840.0,\n",
       " 3285656.0,\n",
       " 3219688.0,\n",
       " 3106600.0,\n",
       " 3000576.0,\n",
       " 2852344.0,\n",
       " 2769408.0]"
      ]
     },
     "execution_count": 8,
     "metadata": {},
     "output_type": "execute_result"
    }
   ],
   "source": [
    "epoch_losses"
   ]
  },
  {
   "cell_type": "code",
   "execution_count": 9,
   "id": "f32f8f84",
   "metadata": {},
   "outputs": [
    {
     "data": {
      "text/plain": [
       "[<matplotlib.lines.Line2D at 0x1ca1bcba518>]"
      ]
     },
     "execution_count": 9,
     "metadata": {},
     "output_type": "execute_result"
    },
    {
     "data": {
      "image/png": "[encoded data removed]",
      "text/plain": [
       "<Figure size 432x288 with 1 Axes>"
      ]
     },
     "metadata": {
      "needs_background": "light"
     },
     "output_type": "display_data"
    }
   ],
   "source": [
    "import matplotlib.pyplot as plt\n",
    "norm = [float(i)/max(call_back.losses) for i in call_back.losses]\n",
    "plt.plot(norm)"
   ]
  },
  {
   "cell_type": "code",
   "execution_count": 10,
   "id": "27a0c1f4",
   "metadata": {},
   "outputs": [
    {
     "data": {
      "text/plain": [
       "[1.0,\n",
       " 0.8725350440543252,\n",
       " 0.26269915868547655,\n",
       " 0.12191313668082063,\n",
       " 0.11571341508469503,\n",
       " 0.11517179785495796,\n",
       " 0.10951490678881526,\n",
       " 0.10634989176755157,\n",
       " 0.10273134511439784,\n",
       " 0.09966218081255446,\n",
       " 0.09766120604713696,\n",
       " 0.09423096359213554,\n",
       " 0.09101498996054712,\n",
       " 0.0865187419095623,\n",
       " 0.08400308517986509]"
      ]
     },
     "execution_count": 10,
     "metadata": {},
     "output_type": "execute_result"
    }
   ],
   "source": [
    "norm"
   ]
  },
  {
   "cell_type": "code",
   "execution_count": 19,
   "id": "2ba92d05",
   "metadata": {
    "scrolled": true
   },
   "outputs": [
    {
     "data": {
      "text/plain": [
       "[('mèo', 0.7886817455291748),\n",
       " ('Chó', 0.7447218298912048),\n",
       " ('khỉ', 0.6874362230300903),\n",
       " ('cún', 0.629489541053772),\n",
       " ('dê', 0.6191039085388184),\n",
       " ('thỏ', 0.6176832914352417),\n",
       " ('voi', 0.6150242686271667),\n",
       " ('chú', 0.6122985482215881),\n",
       " ('cừu', 0.6077669262886047),\n",
       " ('thú', 0.6032854914665222)]"
      ]
     },
     "execution_count": 19,
     "metadata": {},
     "output_type": "execute_result"
    }
   ],
   "source": [
    "model.wv.most_similar('chó')"
   ]
  },
  {
   "cell_type": "code",
   "execution_count": 18,
   "id": "9e0eef64",
   "metadata": {},
   "outputs": [
    {
     "data": {
      "text/plain": [
       "[('vua', 0.7888818979263306),\n",
       " ('Vua', 0.7106341123580933),\n",
       " ('hoàng_hậu', 0.5910625457763672),\n",
       " ('nhà_vua', 0.572587251663208),\n",
       " ('hoàng', 0.5406604409217834),\n",
       " ('Thái_hậu', 0.5298261046409607),\n",
       " ('Hoàng_hậu', 0.5247060656547546),\n",
       " ('thái_tử', 0.49926233291625977),\n",
       " ('nữ_hoàng', 0.49619436264038086),\n",
       " ('đại_thần', 0.4897298812866211)]"
      ]
     },
     "execution_count": 18,
     "metadata": {},
     "output_type": "execute_result"
    }
   ],
   "source": [
    "vec = (model.wv['vua'] - model.wv['nam'] + model.wv['nữ'])\n",
    "model.wv.most_similar([vec])\n"
   ]
  },
  {
   "cell_type": "code",
   "execution_count": 30,
   "id": "be31ea0a",
   "metadata": {},
   "outputs": [
    {
     "data": {
      "text/plain": [
       "5"
      ]
     },
     "execution_count": 30,
     "metadata": {},
     "output_type": "execute_result"
    }
   ],
   "source": []
  },
  {
   "cell_type": "code",
   "execution_count": 12,
   "id": "b9395b48",
   "metadata": {},
   "outputs": [
    {
     "data": {
      "text/plain": [
       "15000000"
      ]
     },
     "execution_count": 12,
     "metadata": {},
     "output_type": "execute_result"
    }
   ],
   "source": [
    "len(sents)"
   ]
  },
  {
   "cell_type": "code",
   "execution_count": 20,
   "id": "eeb66d00",
   "metadata": {},
   "outputs": [
    {
     "data": {
      "text/plain": [
       "['Chây_ì', 'nộp', 'phạt', 'nguội']"
      ]
     },
     "execution_count": 20,
     "metadata": {},
     "output_type": "execute_result"
    }
   ],
   "source": []
  },
  {
   "cell_type": "code",
   "execution_count": 4,
   "id": "7901f073",
   "metadata": {},
   "outputs": [],
   "source": [
    "\n",
    "update_model = gensim.models.Word2Vec.load(\"data/vectors-sg/vi-300-5-40000-5-fullsplit23-sg-token.model\")"
   ]
  },
  {
   "cell_type": "code",
   "execution_count": 24,
   "id": "6777ceb2",
   "metadata": {},
   "outputs": [
    {
     "data": {
      "text/plain": [
       "[('mèo', 0.7389146089553833),\n",
       " ('Chó', 0.6998444199562073),\n",
       " ('khỉ', 0.616094708442688),\n",
       " ('cún', 0.6158772110939026),\n",
       " ('chú', 0.6070456504821777),\n",
       " ('trăn', 0.6029890775680542),\n",
       " ('rọ_mõm', 0.575445294380188),\n",
       " ('thú', 0.5589847564697266),\n",
       " ('rông', 0.5570400953292847),\n",
       " ('gấu', 0.5502318739891052)]"
      ]
     },
     "execution_count": 24,
     "metadata": {},
     "output_type": "execute_result"
    }
   ],
   "source": [
    "update_model.wv.most_similar('chó')"
   ]
  },
  {
   "cell_type": "code",
   "execution_count": 27,
   "id": "e914c0e1",
   "metadata": {},
   "outputs": [
    {
     "data": {
      "text/plain": [
       "[('vua', 0.8182204961776733),\n",
       " ('Vua', 0.7052838802337646),\n",
       " ('hoàng', 0.5773242115974426),\n",
       " ('thái_hậu', 0.5597052574157715),\n",
       " ('nhà_vua', 0.5456334352493286),\n",
       " ('Hoàng_hậu', 0.5413065552711487),\n",
       " ('hoàng_hậu', 0.5402228832244873),\n",
       " ('phi_tần', 0.5306573510169983),\n",
       " ('Gia_Long', 0.5211273431777954),\n",
       " ('Thái_hậu', 0.5184483528137207)]"
      ]
     },
     "execution_count": 27,
     "metadata": {},
     "output_type": "execute_result"
    }
   ],
   "source": [
    "vec = (update_model1.wv['vua'] - update_model1.wv['nam'] + update_model1.wv['nữ'])\n",
    "update_model1.wv.most_similar([vec])"
   ]
  },
  {
   "cell_type": "code",
   "execution_count": 4,
   "id": "7186109a",
   "metadata": {},
   "outputs": [
    {
     "name": "stdout",
     "output_type": "stream",
     "text": [
      "Making update sentences as list...\n",
      "Done update making sentence list\n"
     ]
    }
   ],
   "source": [
    "print (\"Making update sentences as list...\")\n",
    "update_sents = []\n",
    "with codecs.open('data/corpus/corpus-split-8-2.txt', 'r', 'utf-8-sig') as fin:\n",
    "    while 1:\n",
    "        line = fin.readline()\n",
    "        line = re.sub(pattern, '', line)\n",
    "        if not line: break\n",
    "\n",
    "        words = ViTokenizer.tokenize(line)\n",
    "        words = words.split()\n",
    "        update_sents.append(words)\n",
    "        \n",
    "print (\"Done update making sentence list\")"
   ]
  },
  {
   "cell_type": "code",
   "execution_count": 6,
   "id": "7ff9368b",
   "metadata": {},
   "outputs": [],
   "source": [
    "update_model.build_vocab(update_sents, update  = True)"
   ]
  },
  {
   "cell_type": "code",
   "execution_count": 12,
   "id": "14b05c68",
   "metadata": {},
   "outputs": [
    {
     "data": {
      "text/plain": [
       "15000000"
      ]
     },
     "execution_count": 12,
     "metadata": {},
     "output_type": "execute_result"
    }
   ],
   "source": [
    "update_model.corpus_count"
   ]
  },
  {
   "cell_type": "code",
   "execution_count": 15,
   "id": "10494dac",
   "metadata": {},
   "outputs": [
    {
     "name": "stdout",
     "output_type": "stream",
     "text": [
      "Update word vectors...\n",
      "Loss after epoch 0: 88407584.0\n",
      "Loss after epoch 1: 25412568.0\n",
      "Loss after epoch 2: 20397576.0\n",
      "Loss after epoch 3: 0.0\n",
      "Loss after epoch 4: 0.0\n"
     ]
    }
   ],
   "source": [
    "call_back = callback()\n",
    "\n",
    "print (\"Update word vectors...\")  \n",
    "update_model.train(update_sents, total_examples = update_model.corpus_count,\n",
    "                   callbacks=[call_back],\n",
    "                   compute_loss = True,\n",
    "                   epochs = update_model.epochs\n",
    "                  )\n",
    "\n",
    "#update_model.wv.save_word2vec_format('data/vectors-sg/update_model-split23.vec')\n",
    "#update_model.save('data/vectors-sg/update_model-split23.model')"
   ]
  },
  {
   "cell_type": "code",
   "execution_count": 30,
   "id": "d702d2a9",
   "metadata": {},
   "outputs": [
    {
     "name": "stderr",
     "output_type": "stream",
     "text": [
      "C:\\Users\\lego2\\anaconda3\\envs\\python36-clone-GUI\\lib\\site-packages\\ipykernel_launcher.py:7: DeprecationWarning: Call to deprecated `__getitem__` (Method will be removed in 4.0.0, use self.wv.__getitem__() instead).\n",
      "  import sys\n"
     ]
    }
   ],
   "source": [
    "update_model.wv.save_word2vec_format('data/vectors-sg/{}-{}-{}-{}-{}-fullsplit23-sg-token.vec'.format(lcode, vector_size, window_size, vocab_size, num_negative), binary=False)\n",
    "\n",
    "\n",
    "with codecs.open('data/vectors-sg/{}-{}-{}-{}-{}-fullsplit23-sg-token.tsv'.format(lcode, vector_size, window_size, vocab_size, num_negative), 'w', 'utf-8') as fout:\n",
    "    for i, word in enumerate(update_model.wv.index2word):\n",
    "        fout.write(u\"{}{}\\n\".format(word.encode('utf8').decode('utf8'),\n",
    "                                          np.array_str(update_model[word])[1:-1]\n",
    "                                          ))\n",
    "\n",
    "update_model.save('data/vectors-sg/{}-{}-{}-{}-{}-fullsplit23-sg-token.model'.format(lcode, vector_size, window_size, vocab_size, num_negative))"
   ]
  },
  {
   "cell_type": "code",
   "execution_count": 20,
   "id": "d71ffc82",
   "metadata": {},
   "outputs": [],
   "source": []
  },
  {
   "cell_type": "code",
   "execution_count": 21,
   "id": "10e015a0",
   "metadata": {},
   "outputs": [
    {
     "data": {
      "text/plain": [
       "36593"
      ]
     },
     "execution_count": 21,
     "metadata": {},
     "output_type": "execute_result"
    }
   ],
   "source": []
  },
  {
   "cell_type": "code",
   "execution_count": 22,
   "id": "404525d9",
   "metadata": {},
   "outputs": [
    {
     "data": {
      "text/plain": [
       "3500000"
      ]
     },
     "execution_count": 22,
     "metadata": {},
     "output_type": "execute_result"
    }
   ],
   "source": [
    "len(update_sents)"
   ]
  },
  {
   "cell_type": "code",
   "execution_count": null,
   "id": "4d818f18",
   "metadata": {},
   "outputs": [],
   "source": []
  }
 ],
 "metadata": {
  "kernelspec": {
   "display_name": "Python 3",
   "language": "python",
   "name": "python3"
  },
  "language_info": {
   "codemirror_mode": {
    "name": "ipython",
    "version": 3
   },
   "file_extension": ".py",
   "mimetype": "text/x-python",
   "name": "python",
   "nbconvert_exporter": "python",
   "pygments_lexer": "ipython3",
   "version": "3.6.13"
  }
 },
 "nbformat": 4,
 "nbformat_minor": 5
}
