{
 "cells": [
  {
   "cell_type": "code",
   "execution_count": 1,
   "id": "80d38e34",
   "metadata": {},
   "outputs": [],
   "source": [
    "# coding: utf-8\n",
    "#!/usr/bin/python2\n",
    "import nltk\n",
    "import os\n",
    "import codecs\n",
    "import argparse\n",
    "import numpy as np\n",
    "import gensim # In case you have difficulties installing gensim, you need to consider installing conda.\n",
    "from gensim.models.callbacks import CallbackAny2Vec\n",
    "import pickle as pickle\n",
    "\n",
    "\n"
   ]
  },
  {
   "cell_type": "code",
   "execution_count": 33,
   "id": "2af6a76c",
   "metadata": {},
   "outputs": [],
   "source": [
    "# arguments setting \n",
    "\n",
    "lcode = \"vi\"\n",
    "vector_size = 300\n",
    "window_size = 5\n",
    "vocab_size = 40000\n",
    "num_negative = 5\n",
    "epochs = 5\n",
    "\n",
    "        \n",
    "class callback(CallbackAny2Vec):\n",
    "    '''Callback to print loss after each epoch.'''\n",
    "\n",
    "    def __init__(self):\n",
    "        self.epoch = 0\n",
    "        self.loss_to_be_subed = 0\n",
    "        self.losses = []\n",
    "\n",
    "    def on_epoch_end(self, model):\n",
    "        loss = model.get_latest_training_loss()\n",
    "        loss_now = loss - self.loss_to_be_subed\n",
    "        self.loss_to_be_subed = loss\n",
    "        print('Loss after epoch {}: {}'.format(self.epoch, loss_now))\n",
    "        self.epoch += 1\n",
    "        self.losses.append(loss_now)\n",
    "        \n",
    "        \n",
    "def get_min_count(sents):\n",
    "    '''\n",
    "    Args:\n",
    "      sents: A list of lists. E.g., [[\"I\", \"am\", \"a\", \"boy\", \".\"], [\"You\", \"are\", \"a\", \"girl\", \".\"]]\n",
    "     \n",
    "    Returns:\n",
    "      min_count: A uint. Should be set as the parameter value of word2vec `min_count`.   \n",
    "    '''\n",
    "    global vocab_size\n",
    "    from itertools import chain\n",
    "     \n",
    "    fdist = nltk.FreqDist(chain.from_iterable(sents))\n",
    "    min_count = fdist.most_common(vocab_size)[-1][1] # the count of the the top-kth word\n",
    "    \n",
    "    return min_count\n",
    "\n",
    "def make_wordvectors():\n",
    "    global lcode\n",
    "    \n",
    "     \n",
    "    print (\"Making sentences as list...\")\n",
    "    sents = []\n",
    "    with codecs.open('data/corpus/vi-wiki.txt', 'r', 'utf-8') as fin:\n",
    "        while 1:\n",
    "            line = fin.readline()\n",
    "            if not line: break\n",
    "             \n",
    "            words = line.split()\n",
    "            sents.append(words)\n",
    "\n",
    "    print (\"Making word vectors...\")   \n",
    "    min_count = get_min_count(sents)\n",
    "\n",
    "    model = gensim.models.Word2Vec(sents, size=vector_size, min_count=min_count,\n",
    "                                   negative=num_negative, \n",
    "                                   window=window_size,\n",
    "                                   callbacks=[callback()],\n",
    "                                   compute_loss=True,\n",
    "                                   iter=epochs)\n",
    "\n",
    "    # Save vector to file\n",
    "    model.wv.save_word2vec_format('data/vectors/{}-{}-{}-{}-{}-wiki.vec'.format(lcode, vector_size, window_size, vocab_size, num_negative), binary=False)\n",
    "    \n",
    "    # Save to file\n",
    "\n",
    "    with codecs.open('data/vectors/{}-{}-{}-{}-{}-wiki.tsv'.format(lcode, vector_size, window_size, vocab_size, num_negative), 'w', 'utf-8') as fout:\n",
    "        for i, word in enumerate(model.wv.index2word):\n",
    "            fout.write(u\"{}{}\\n\".format(word.encode('utf8').decode('utf8'),\n",
    "                                              np.array_str(model[word])[1:-1]\n",
    "                                              ))\n",
    "\n"
   ]
  },
  {
   "cell_type": "code",
   "execution_count": 11,
   "id": "d3d9e3d7",
   "metadata": {},
   "outputs": [],
   "source": [
    "#if __name__ == \"__main__\":\n",
    "    #make_wordvectors()\n",
    "    \n",
    "    #print (\"Done\")"
   ]
  },
  {
   "cell_type": "code",
   "execution_count": 3,
   "id": "8bd73b6a",
   "metadata": {},
   "outputs": [
    {
     "name": "stdout",
     "output_type": "stream",
     "text": [
      "Making sentences as list...\n",
      "Done making sentence list\n"
     ]
    }
   ],
   "source": [
    "global lcode\n",
    "print (\"Making sentences as list...\")\n",
    "sents = []\n",
    "with codecs.open('data/corpus/corpus-split-2.txt', 'r', 'utf-8-sig') as fin:\n",
    "    while 1:\n",
    "        line = fin.readline()\n",
    "        if not line: break\n",
    "\n",
    "        words = line.split()\n",
    "        sents.append(words)\n",
    "        \n",
    "print (\"Done making sentence list\")"
   ]
  },
  {
   "cell_type": "code",
   "execution_count": 29,
   "id": "13693f72",
   "metadata": {},
   "outputs": [
    {
     "name": "stdout",
     "output_type": "stream",
     "text": [
      "Done getting min_count\n"
     ]
    }
   ],
   "source": [
    "min_count = get_min_count(sents)\n",
    "print (\"Done getting min_count \")"
   ]
  },
  {
   "cell_type": "code",
   "execution_count": 30,
   "id": "0462c971",
   "metadata": {},
   "outputs": [
    {
     "name": "stdout",
     "output_type": "stream",
     "text": [
      "813\n"
     ]
    }
   ],
   "source": [
    "print(min_count)"
   ]
  },
  {
   "cell_type": "code",
   "execution_count": 34,
   "id": "cf69756c",
   "metadata": {
    "scrolled": true
   },
   "outputs": [
    {
     "name": "stdout",
     "output_type": "stream",
     "text": [
      "Making word vectors...\n",
      "Loss after epoch 0: 90459160.0\n",
      "Loss after epoch 1: 43758568.0\n",
      "Loss after epoch 2: 0.0\n",
      "Loss after epoch 3: 0.0\n",
      "Loss after epoch 4: 0.0\n"
     ]
    },
    {
     "name": "stderr",
     "output_type": "stream",
     "text": [
      "C:\\Users\\lego2\\anaconda3\\envs\\python36-clone-GUI\\lib\\site-packages\\ipykernel_launcher.py:19: DeprecationWarning: Call to deprecated `__getitem__` (Method will be removed in 4.0.0, use self.wv.__getitem__() instead).\n"
     ]
    },
    {
     "name": "stdout",
     "output_type": "stream",
     "text": [
      "Done.\n"
     ]
    }
   ],
   "source": [
    "\n",
    "print (\"Making word vectors...\")   \n",
    "\n",
    "call_back = callback()\n",
    "\n",
    "model = gensim.models.Word2Vec(sents, size=vector_size, min_count=300,\n",
    "                               negative=num_negative, \n",
    "                               window=window_size,\n",
    "                               callbacks=[call_back],\n",
    "                               compute_loss=True,\n",
    "                               iter=epochs)\n",
    "\n",
    "# Save vector to file\n",
    "model.wv.save_word2vec_format('data/vectors/{}-{}-{}-{}-{}-test.vec'.format(lcode, vector_size, window_size, vocab_size, num_negative), binary=False)\n",
    "\n",
    "# Save to file\n",
    "with codecs.open('data/vectors/{}-{}-{}-{}-{}-test.tsv'.format(lcode, vector_size, window_size, vocab_size, num_negative), 'w', 'utf-8') as fout:\n",
    "    for i, word in enumerate(model.wv.index2word):\n",
    "        fout.write(u\"{}{}\\n\".format(word.encode('utf8').decode('utf8'),\n",
    "                                          np.array_str(model[word])[1:-1]\n",
    "                                          ))\n",
    "print (\"Done.\")\n"
   ]
  },
  {
   "cell_type": "code",
   "execution_count": 5,
   "id": "3bf3427f",
   "metadata": {},
   "outputs": [
    {
     "name": "stdout",
     "output_type": "stream",
     "text": [
      "[92968680.0, 41249048.0, 0.0, 0.0, 0.0, 0.0, 0.0, 0.0, 0.0, 0.0]\n"
     ]
    }
   ],
   "source": [
    "print(call_back.losses)"
   ]
  },
  {
   "cell_type": "code",
   "execution_count": 10,
   "id": "cb39a856",
   "metadata": {},
   "outputs": [],
   "source": [
    "\n",
    "y=np.array([38978128.0,25219024.0,8884136.0,6655376.0,6398920.0,6074936.0,5633144.0,5013496.0,4267192.0,3323312.0])\n"
   ]
  },
  {
   "cell_type": "code",
   "execution_count": 32,
   "id": "f32f8f84",
   "metadata": {},
   "outputs": [
    {
     "data": {
      "text/plain": [
       "[<matplotlib.lines.Line2D at 0x1c9e0133550>]"
      ]
     },
     "execution_count": 32,
     "metadata": {},
     "output_type": "execute_result"
    },
    {
     "data": {
      "image/png": "[encoded data removed]",
      "text/plain": [
       "<Figure size 432x288 with 1 Axes>"
      ]
     },
     "metadata": {
      "needs_background": "light"
     },
     "output_type": "display_data"
    }
   ],
   "source": [
    "import matplotlib.pyplot as plt\n",
    "norm = [float(i)/max(call_back.losses) for i in call_back.losses]\n",
    "plt.plot(norm)"
   ]
  },
  {
   "cell_type": "code",
   "execution_count": 28,
   "id": "2ba92d05",
   "metadata": {
    "scrolled": true
   },
   "outputs": [
    {
     "name": "stderr",
     "output_type": "stream",
     "text": [
      "C:\\Users\\lego2\\anaconda3\\envs\\python36-clone-GUI\\lib\\site-packages\\ipykernel_launcher.py:1: DeprecationWarning: Call to deprecated `most_similar` (Method will be removed in 4.0.0, use self.wv.most_similar() instead).\n",
      "  \"\"\"Entry point for launching an IPython kernel.\n"
     ]
    },
    {
     "data": {
      "text/plain": [
       "[('mẹ,', 0.8252959251403809),\n",
       " ('mẹ.', 0.7252343893051147),\n",
       " ('Mẹ', 0.6655176281929016),\n",
       " ('dượng', 0.64325350522995),\n",
       " ('vợ', 0.5996155738830566),\n",
       " ('cháu', 0.5902571082115173),\n",
       " ('con,', 0.5804028511047363),\n",
       " ('dì', 0.5673509836196899),\n",
       " ('đẻ', 0.5526345372200012),\n",
       " ('mẹ:', 0.5435689687728882)]"
      ]
     },
     "execution_count": 28,
     "metadata": {},
     "output_type": "execute_result"
    }
   ],
   "source": [
    "model.most_similar('mẹ')"
   ]
  },
  {
   "cell_type": "code",
   "execution_count": 31,
   "id": "9e0eef64",
   "metadata": {},
   "outputs": [
    {
     "data": {
      "text/plain": [
       "[('mẹ', 0.6152399182319641),\n",
       " ('mẹ,', 0.5310037136077881),\n",
       " ('phụ', 0.42369943857192993),\n",
       " ('dượng', 0.40940457582473755),\n",
       " ('cháu', 0.38958561420440674),\n",
       " ('mẹ.', 0.38572168350219727),\n",
       " ('Mẹ', 0.38554081320762634),\n",
       " ('dì', 0.365641713142395),\n",
       " ('mẹ:', 0.36028555035591125),\n",
       " ('đẻ', 0.3540491759777069)]"
      ]
     },
     "execution_count": 31,
     "metadata": {},
     "output_type": "execute_result"
    }
   ],
   "source": [
    "vec = (model.wv['mẹ'] - model.wv['nữ'] )\n",
    "model.wv.most_similar([vec])\n"
   ]
  },
  {
   "cell_type": "code",
   "execution_count": null,
   "id": "be31ea0a",
   "metadata": {},
   "outputs": [],
   "source": []
  },
  {
   "cell_type": "code",
   "execution_count": null,
   "id": "b9395b48",
   "metadata": {},
   "outputs": [],
   "source": []
  }
 ],
 "metadata": {
  "kernelspec": {
   "display_name": "Python 3",
   "language": "python",
   "name": "python3"
  },
  "language_info": {
   "codemirror_mode": {
    "name": "ipython",
    "version": 3
   },
   "file_extension": ".py",
   "mimetype": "text/x-python",
   "name": "python",
   "nbconvert_exporter": "python",
   "pygments_lexer": "ipython3",
   "version": "3.6.13"
  }
 },
 "nbformat": 4,
 "nbformat_minor": 5
}
