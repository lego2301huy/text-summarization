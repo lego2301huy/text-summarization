{
 "cells": [
  {
   "cell_type": "markdown",
   "id": "042951a5",
   "metadata": {},
   "source": [
    "# Import lib"
   ]
  },
  {
   "cell_type": "code",
   "execution_count": 1,
   "id": "b195b8fb",
   "metadata": {},
   "outputs": [],
   "source": [
    "import pickle\n",
    "import numpy as np\n",
    "import string\n",
    "import re\n",
    "from pyvi import ViTokenizer\n",
    "import matplotlib.pyplot as plt\n",
    "import nltk\n",
    "import asyncio\n",
    "\n",
    "from tkinter import *\n",
    "\n",
    "\n",
    "\n",
    "\n",
    "pattern = r'[' + string.punctuation +']'\n",
    "#from nltk.tokenize import word_tokenize"
   ]
  },
  {
   "cell_type": "code",
   "execution_count": null,
   "id": "3cd6d8b4",
   "metadata": {},
   "outputs": [],
   "source": []
  },
  {
   "cell_type": "code",
   "execution_count": 2,
   "id": "27618608",
   "metadata": {
    "scrolled": true
   },
   "outputs": [],
   "source": [
    "#sentences = (\"Trong khi đó, trong kỳ họp Quốc hội bất thường khai mạc ngày 4/1, Chính phủ có trình Quốc hội dự thảo một luật sửa 8 luật (trong đó có Luật Đầu tư), nhưng lại không có nội dung về sửa đổi phân cấp, phân quyền chấp thuận chủ trương đầu tư xây dựng khu công nghiệp. 'Chúng tôi đề nghị Chính phủ bổ sung vấn đề này vào để sớm sửa quy định. Đi theo với sự phân cấp, phân quyền là tăng cường kiểm tra, giám sát, cá thể hóa trách nhiệm', ông Quảng đề xuất. Được mời phát biểu, Chủ tịch UBND TP.HCM Phan Văn Mãi cũng nhắc đến một luật sửa 8 luật đang được Chính phủ trình Quốc hội. Ông đề nghị sau khi Quốc hội thông qua thì Chính phủ sớm có hướng dẫn, phân cấp, phân quyền để luật đi vào cuộc sống. Những vấn đề cần phân cấp, phân quyền được Chủ tịch UBND TP.HCM đề xuất là phê chuẩn, điều chỉnh cục bộ quy hoạch, tách dự án giải phóng mặt bằng ra khỏi dự án thông thường... Lãnh đạo TP.HCM cũng đề nghị, kiến nghị sớm sửa đổi Luật Đất đai. Là tham luận cuối cùng trong buổi sáng, Bí thư Thành ủy Thái Nguyên Nguyễn Thanh Hải cũng đề nghị quan tâm phân cấp, phân quyền nhiều hơn cho địa phương. Bà Hải đặc biệt nhấn mạnh đến việc triển khai tách dự án giải phóng mặt bằng ra khỏi dự án thông thường, như vậy mới có thể tạo sự đột biến trong việc thu hút đầu tư.\")"
   ]
  },
  {
   "cell_type": "code",
   "execution_count": 3,
   "id": "be687007",
   "metadata": {},
   "outputs": [],
   "source": [
    "\n",
    "def btn_clicked():\n",
    "    scale_value = scale.get()\n",
    "    entry1.delete('1.0', END)\n",
    "    \n",
    "    sentences = entry0.get(\"1.0\", \"end-1c\")\n",
    "    #print(sentences)\n",
    "    if sentences == '':\n",
    "        print('empty')\n",
    "        entry1.insert(END, \"Empty..\")\n",
    "    else:\n",
    "        OUTPUT = \"   \" + summarize(sentences, scale_value)\n",
    "    \n",
    "        entry1.delete('1.0', END)\n",
    "        entry1.insert(END, OUTPUT)\n",
    "    \n",
    "    \n",
    "    \n",
    "    "
   ]
  },
  {
   "cell_type": "code",
   "execution_count": 10,
   "id": "418dcb6d",
   "metadata": {},
   "outputs": [],
   "source": [
    "def summarize(sentences, scale_value):\n",
    "    #Number of words in input text\n",
    "    words_in = ViTokenizer.tokenize(sentences)\n",
    "    words_in = re.sub(pattern, '', words_in)\n",
    "    number_of_words_in = len(words_in.split())\n",
    "    \n",
    "    #split sentences - lowercase\n",
    "    #sentences=sentences.lower().strip()\n",
    "    sentences=sentences.strip()\n",
    "    print(sentences)\n",
    "    \n",
    "    sentences = nltk.sent_tokenize(sentences)\n",
    "    \n",
    "    number_of_sentences = len(sentences)\n",
    "    \n",
    "    \n",
    "    import sklearn.model_selection\n",
    "    from gensim.models import KeyedVectors \n",
    "    w2v = KeyedVectors.load_word2vec_format(\"Vectors-sg/model.vec\")\n",
    "    \n",
    "    vocab = w2v.vocab\n",
    "    \n",
    "    sentences_vec_array = []\n",
    "    for sentence in sentences:\n",
    "        sentence = re.sub(pattern, '', sentence)\n",
    "        sentence = ViTokenizer.tokenize(sentence).strip()\n",
    "        words = sentence.split()\n",
    "        sentence_vec = np.zeros((300))\n",
    "        for word in words:\n",
    "            if word in vocab:\n",
    "                sentence_vec+=w2v.wv[word]\n",
    "        sentences_vec_array.append(sentence_vec)\n",
    "        \n",
    "    #cluster\n",
    "    from sklearn.cluster import KMeans\n",
    "\n",
    "    #n_clusters = 5\n",
    "    n_clusters = round((number_of_sentences/8)*scale_value)\n",
    "    kmeans = KMeans(n_clusters=n_clusters)\n",
    "    kmeans = kmeans.fit(sentences_vec_array)\n",
    "    \n",
    "    #choose sentence for each cluster\n",
    "    from sklearn.metrics import pairwise_distances_argmin_min\n",
    "\n",
    "    avg = []\n",
    "    for j in range(n_clusters):\n",
    "        idx = np.where(kmeans.labels_ == j)[0]\n",
    "        avg.append(np.mean(idx))\n",
    "\n",
    "    closest, _ = pairwise_distances_argmin_min(kmeans.cluster_centers_, sentences_vec_array)\n",
    "    ordering = sorted(range(n_clusters), key=lambda k: avg[k])\n",
    "    summary = '\\n\\n   '.join([sentences[closest[idx]] for idx in ordering])\n",
    "    summary_e = ' '.join([sentences[closest[idx]] for idx in ordering])\n",
    "    \n",
    "    #Number of words in final text\n",
    "    words_out = ViTokenizer.tokenize(summary)\n",
    "    number_of_words_out = len(words_out.split())\n",
    "    \n",
    "    \n",
    "    #print(\"tom tat: \")\n",
    "    #print(words_out)\n",
    "    print(summary_e)\n",
    "    print(\"Number_of_sentences: \" + str(number_of_sentences))\n",
    "    print(\"number_of_words_in: \" + str(number_of_words_in))\n",
    "    print(\"number_of_words_out: \" + str(number_of_words_out))\n",
    "    print(\"div: \" + str((number_of_words_out/number_of_words_in)*100))\n",
    "    print(\"number_of_cluster: \" + str(n_clusters))\n",
    "    return summary\n",
    "    \n",
    "    \n",
    "    "
   ]
  },
  {
   "cell_type": "code",
   "execution_count": 11,
   "id": "ef88c75a",
   "metadata": {},
   "outputs": [
    {
     "name": "stdout",
     "output_type": "stream",
     "text": [
      "Chuyên gia, cộng đồng doanh nghiệp cho rằng Bộ Tài chính nên cân nhắc trình thêm phương án với mức giảm mạnh hơn hoặc xem xét giảm thêm thuế nhập khẩu và thuế tiêu thụ đặc biệt. Theo đó, cơ quan này dự kiến đề xuất giảm thuế bảo vệ môi trường 1.000 đồng/lít với xăng , tức từ 4.000 đồng xuống còn 3.000 đồng. Thuế bảo vệ môi trường với dầu diesel, mazut, dầu nhờn dự kiến giảm 500 đồng mỗi lít, từ 2.000 đồng xuống 1.500 đồng/lít. Dầu hỏa giảm 500 đồng, từ 1.000 đồng xuống 500 đồng/lít.\n",
      "\n",
      "Mỡ nhờn giảm 500 đồng/kg, từ 2.000 đồng xuống 1.500 đồng/kg. Nếu Ủy ban thường vụ Quốc hội đồng ý giảm thuế bảo vệ môi trường theo đề xuất của Bộ Tài chính là 1.000 đồng/lít xăng , thì việc giảm thuế này chỉ có thể kéo CPI giảm 0,15%. «Việc giảm 1.000 đồng cố định trên mỗi lít xăng càng ít ý nghĩa trong bối cảnh giá xăng dầu thế giới dự báo tiếp tục tăng. Do đó, việc đề xuất giảm thuế như vậy trong tình hình hiện nay sẽ không tác động quá nhiều tới việc giảm CPI và khó đạt được mục tiêu kìm chế lạm phát, hỗ trợ phục hồi tăng trưởng, giảm khó khăn cho người dân và doanh nghiệp», ông Việt đánh giá.\n",
      "\n",
      "Lãnh đạo VEPR đề xuất bên cạnh việc giảm cố định 1.000 đồng/lít từ thuế bảo vệ môi trường, nên cân nhắc xem xét giảm thêm thuế nhập khẩu hoặc tạm miễn thuế tiêu thụ đặc biệt đến 31/12. 'Bởi so với việc giảm một mức cố định thì việc giảm hoặc miễn các loại thuế tính trên tỷ lệ phần trăm giá thành sẽ đảm bảo tính linh hoạt và khả năng tác động tới các yếu tố vĩ mô của nền kinh tế hơn so với mức giảm cố định mà Bộ Tài chính đang đề xuất', ông Việt nêu quan điểm. Ở góc độ doanh nghiệp, nhiều đơn vị mong muốn mức giảm sâu hơn. Theo VCCI, đây là phương án tích cực nhưng theo phản ánh của các doanh nghiệp và hiệp hội thì việc giảm thuế bảo vệ môi trường cần cân nhắc tiến hành mạnh mẽ hơn.\n",
      "\n",
      "Thời hạn giảm có thể ngắn hơn, chẳng hạn 3-6 tháng nếu giá xăng dầu ổn định trở lại thay vì áp dụng một mức cố định trong cả 8 tháng, đến hết năm 2022.\n"
     ]
    },
    {
     "name": "stderr",
     "output_type": "stream",
     "text": [
      "C:\\Users\\lego2\\anaconda3\\envs\\python36-clone-GUI\\lib\\site-packages\\ipykernel_launcher.py:31: DeprecationWarning: Call to deprecated `wv` (Attribute will be removed in 4.0.0, use self instead).\n"
     ]
    },
    {
     "name": "stdout",
     "output_type": "stream",
     "text": [
      "Theo đó, cơ quan này dự kiến đề xuất giảm thuế bảo vệ môi trường 1.000 đồng/lít với xăng , tức từ 4.000 đồng xuống còn 3.000 đồng. Chuyên gia, cộng đồng doanh nghiệp cho rằng Bộ Tài chính nên cân nhắc trình thêm phương án với mức giảm mạnh hơn hoặc xem xét giảm thêm thuế nhập khẩu và thuế tiêu thụ đặc biệt.\n",
      "Number_of_sentences: 13\n",
      "number_of_words_in: 325\n",
      "number_of_words_out: 55\n",
      "div: 16.923076923076923\n",
      "number_of_cluster: 2\n",
      "Tổng thống Ukraine Volodymyr Zelensky sẽ phát biểu trước Thượng viện Mỹ vào sáng 5/3 (theo giờ Washington), một nhà lập pháp Mỹ cho biết.\n",
      "Theo yêu cầu của Ukraine, ông Zelensky sẽ thảo luận với các thượng nghị sĩ qua nền tảng Zoom, AFP đưa tin.\n",
      "\n",
      "Khi xung đột tại Ukraine tiếp tục leo thang, một số nhà lập pháp Mỹ đang thúc giục Tổng thống Joe Biden có lập trường cứng rắn hơn đối với Nga, chẳng hạn ngừng nhập khẩu dầu của nước này.\n",
      "\n",
      "Tuy nhiên, cho đến nay, Nhà Trắng đã bác bỏ động thái đó. Họ lo ngại rằng lệnh trừng phạt có thể đẩy giá dầu tăng cao hơn nữa và làm tổn hại tới người tiêu dùng Mỹ do lạm phát kỷ lục.Trước đó, Tổng thống Zelensky đã thúc giục NATO thực thi vùng cấm bay trên lãnh thổ Ukraine nhằm ngăn quân đội Nga không kích gây thiệt hại quy mô lớn cho các thành phố, thị trấn, khu dân cư của nước này.\n",
      "\n",
      "Tuy nhiên, chính quyền ông Biden đã từ chối đề xuất này, vì lo ngại nó có thể dẫn đến một cuộc chiến toàn diện giữa phương Tây và Nga. Trong khi đó, một số nhà lập pháp Mỹ lại ủng hộ việc thiết lập vùng cấm bay.\n",
      "\n",
      "Sau khi Tổng thư ký NATO Jens Stoltenberg khẳng định các lực lượng của liên minh sẽ không áp đặt lệnh cấm bay tại Ukraine, ông Zelensky hôm 4/3 đã lên tiếng chỉ trích liên minh này.\n",
      "\n",
      "\"Dù biết rằng các cuộc tấn công mới (của Nga - PV) và thương vong là không thể tránh khỏi, NATO cố tình quyết định không đóng cửa không phận Ukraine\", ông Zelensky nói.\n"
     ]
    },
    {
     "name": "stderr",
     "output_type": "stream",
     "text": [
      "C:\\Users\\lego2\\anaconda3\\envs\\python36-clone-GUI\\lib\\site-packages\\ipykernel_launcher.py:31: DeprecationWarning: Call to deprecated `wv` (Attribute will be removed in 4.0.0, use self instead).\n"
     ]
    },
    {
     "name": "stdout",
     "output_type": "stream",
     "text": [
      "Tuy nhiên, chính quyền ông Biden đã từ chối đề xuất này, vì lo ngại nó có thể dẫn đến một cuộc chiến toàn diện giữa phương Tây và Nga.\n",
      "Number_of_sentences: 9\n",
      "number_of_words_in: 221\n",
      "number_of_words_out: 25\n",
      "div: 11.312217194570136\n",
      "number_of_cluster: 1\n",
      "Tổng thống Ukraine Volodymyr Zelensky sẽ phát biểu trước Thượng viện Mỹ vào sáng 5/3 (theo giờ Washington), một nhà lập pháp Mỹ cho biết.\n",
      "Theo yêu cầu của Ukraine, ông Zelensky sẽ thảo luận với các thượng nghị sĩ qua nền tảng Zoom, AFP đưa tin.\n",
      "\n",
      "Khi xung đột tại Ukraine tiếp tục leo thang, một số nhà lập pháp Mỹ đang thúc giục Tổng thống Joe Biden có lập trường cứng rắn hơn đối với Nga, chẳng hạn ngừng nhập khẩu dầu của nước này.\n",
      "\n",
      "Tuy nhiên, cho đến nay, Nhà Trắng đã bác bỏ động thái đó. Họ lo ngại rằng lệnh trừng phạt có thể đẩy giá dầu tăng cao hơn nữa và làm tổn hại tới người tiêu dùng Mỹ do lạm phát kỷ lục.Trước đó, Tổng thống Zelensky đã thúc giục NATO thực thi vùng cấm bay trên lãnh thổ Ukraine nhằm ngăn quân đội Nga không kích gây thiệt hại quy mô lớn cho các thành phố, thị trấn, khu dân cư của nước này.\n",
      "\n",
      "Tuy nhiên, chính quyền ông Biden đã từ chối đề xuất này, vì lo ngại nó có thể dẫn đến một cuộc chiến toàn diện giữa phương Tây và Nga. Trong khi đó, một số nhà lập pháp Mỹ lại ủng hộ việc thiết lập vùng cấm bay.\n",
      "\n",
      "Sau khi Tổng thư ký NATO Jens Stoltenberg khẳng định các lực lượng của liên minh sẽ không áp đặt lệnh cấm bay tại Ukraine, ông Zelensky hôm 4/3 đã lên tiếng chỉ trích liên minh này.\n",
      "\n",
      "\"Dù biết rằng các cuộc tấn công mới (của Nga - PV) và thương vong là không thể tránh khỏi, NATO cố tình quyết định không đóng cửa không phận Ukraine\", ông Zelensky nói.\n"
     ]
    },
    {
     "name": "stderr",
     "output_type": "stream",
     "text": [
      "C:\\Users\\lego2\\anaconda3\\envs\\python36-clone-GUI\\lib\\site-packages\\ipykernel_launcher.py:31: DeprecationWarning: Call to deprecated `wv` (Attribute will be removed in 4.0.0, use self instead).\n"
     ]
    },
    {
     "name": "stdout",
     "output_type": "stream",
     "text": [
      "Tuy nhiên, chính quyền ông Biden đã từ chối đề xuất này, vì lo ngại nó có thể dẫn đến một cuộc chiến toàn diện giữa phương Tây và Nga. Họ lo ngại rằng lệnh trừng phạt có thể đẩy giá dầu tăng cao hơn nữa và làm tổn hại tới người tiêu dùng Mỹ do lạm phát kỷ lục.Trước đó, Tổng thống Zelensky đã thúc giục NATO thực thi vùng cấm bay trên lãnh thổ Ukraine nhằm ngăn quân đội Nga không kích gây thiệt hại quy mô lớn cho các thành phố, thị trấn, khu dân cư của nước này.\n",
      "Number_of_sentences: 9\n",
      "number_of_words_in: 221\n",
      "number_of_words_out: 85\n",
      "div: 38.46153846153847\n",
      "number_of_cluster: 2\n",
      "Tổng thống Ukraine Volodymyr Zelensky sẽ phát biểu trước Thượng viện Mỹ vào sáng 5/3 (theo giờ Washington), một nhà lập pháp Mỹ cho biết.\n",
      "Theo yêu cầu của Ukraine, ông Zelensky sẽ thảo luận với các thượng nghị sĩ qua nền tảng Zoom, AFP đưa tin.\n",
      "\n",
      "Khi xung đột tại Ukraine tiếp tục leo thang, một số nhà lập pháp Mỹ đang thúc giục Tổng thống Joe Biden có lập trường cứng rắn hơn đối với Nga, chẳng hạn ngừng nhập khẩu dầu của nước này.\n",
      "\n",
      "Tuy nhiên, cho đến nay, Nhà Trắng đã bác bỏ động thái đó. Họ lo ngại rằng lệnh trừng phạt có thể đẩy giá dầu tăng cao hơn nữa và làm tổn hại tới người tiêu dùng Mỹ do lạm phát kỷ lục.Trước đó, Tổng thống Zelensky đã thúc giục NATO thực thi vùng cấm bay trên lãnh thổ Ukraine nhằm ngăn quân đội Nga không kích gây thiệt hại quy mô lớn cho các thành phố, thị trấn, khu dân cư của nước này.\n",
      "\n",
      "Tuy nhiên, chính quyền ông Biden đã từ chối đề xuất này, vì lo ngại nó có thể dẫn đến một cuộc chiến toàn diện giữa phương Tây và Nga. Trong khi đó, một số nhà lập pháp Mỹ lại ủng hộ việc thiết lập vùng cấm bay.\n",
      "\n",
      "Sau khi Tổng thư ký NATO Jens Stoltenberg khẳng định các lực lượng của liên minh sẽ không áp đặt lệnh cấm bay tại Ukraine, ông Zelensky hôm 4/3 đã lên tiếng chỉ trích liên minh này.\n",
      "\n",
      "\"Dù biết rằng các cuộc tấn công mới (của Nga - PV) và thương vong là không thể tránh khỏi, NATO cố tình quyết định không đóng cửa không phận Ukraine\", ông Zelensky nói.\n"
     ]
    },
    {
     "name": "stderr",
     "output_type": "stream",
     "text": [
      "C:\\Users\\lego2\\anaconda3\\envs\\python36-clone-GUI\\lib\\site-packages\\ipykernel_launcher.py:31: DeprecationWarning: Call to deprecated `wv` (Attribute will be removed in 4.0.0, use self instead).\n"
     ]
    },
    {
     "name": "stdout",
     "output_type": "stream",
     "text": [
      "Theo yêu cầu của Ukraine, ông Zelensky sẽ thảo luận với các thượng nghị sĩ qua nền tảng Zoom, AFP đưa tin. Họ lo ngại rằng lệnh trừng phạt có thể đẩy giá dầu tăng cao hơn nữa và làm tổn hại tới người tiêu dùng Mỹ do lạm phát kỷ lục.Trước đó, Tổng thống Zelensky đã thúc giục NATO thực thi vùng cấm bay trên lãnh thổ Ukraine nhằm ngăn quân đội Nga không kích gây thiệt hại quy mô lớn cho các thành phố, thị trấn, khu dân cư của nước này. Sau khi Tổng thư ký NATO Jens Stoltenberg khẳng định các lực lượng của liên minh sẽ không áp đặt lệnh cấm bay tại Ukraine, ông Zelensky hôm 4/3 đã lên tiếng chỉ trích liên minh này.\n",
      "Number_of_sentences: 9\n",
      "number_of_words_in: 221\n",
      "number_of_words_out: 112\n",
      "div: 50.678733031674206\n",
      "number_of_cluster: 3\n",
      "Bộ Y tế nhận định biến thể Omicron có xu hướng gia tăng lây nhiễm nhanh và đang dần thay thế chủng Delta. Tại Hà Nội, 20/30 quận, huyện đã ghi nhận chủng Omicron.\n",
      "Bộ Y tế cho hay số ca mắc Covid-19 liên tục tăng nhanh, đặc biệt với nhóm người chưa tiêm vaccine và tỷ lệ tử vong do mắc Covid-19 gia tăng.\n",
      "\n",
      "Đến nay, Việt Nam ghi nhận hơn 4 triệu ca mắc Covid-19. Trong đó, hơn 2,5 triệu người đã khỏi bệnh và hơn 40.600 ca tử vong.\n",
      "\n",
      "Phân bố tỷ lệ nhiễm theo độ tuổi trong tháng 2 so với tháng 1 cho thấy nhóm 18-49 tuổi chiếm 54,3% tổng số ca mắc (871.083 ca) - tăng 2,5 lần. Nhóm 50-65 tuổi chiếm 10,8% (173.254 ca) - tăng 2,2 lần. Nhóm trên 65 tuổi chiếm 4,5% (72.189 ca) - tăng 2 lần.\n",
      "\n",
      "Bộ Y tế nhận định dịch Covid-19 cơ bản đang được kiểm soát trên phạm vi cả nước. Tất cả địa phương đã chuyển sang trạng thái thích ứng an toàn, linh hoạt, kiểm soát hiệu quả dịch, song số mắc mới có xu hướng gia tăng nhanh tại hầu hết tỉnh, thành phố với khoảng 50.000-75.000 ca mỗi ngày, ngày cao nhất là hơn 125.000 ca.\n",
      "\n",
      "Số trường hợp mắc bệnh tăng nhiều hơn ở nhóm chưa tiêm vaccine, nhất là nhóm dưới 12 tuổi (tháng 1 chiếm 18,4% và tháng 2 khoảng 24,3%).\n",
      "\n",
      "Số trường hợp nặng, nguy kịch bắt đầu có sự gia tăng 37,6% so với tháng trước, số trường hợp tử vong trên dưới 100 ca mỗi ngày, hiện vẫn trong khả năng đáp ứng của hệ thống y tế.\n",
      "\n",
      "Đáng lưu ý, biến thể Omicron có xu hướng gia tăng lây nhiễm nhanh và thay thế dần chủng Delta, nhất là tại Hà Nội và TP.HCM.\n",
      "\n",
      "Theo báo cáo, biến thể Omicron đã ghi nhận ở 20/30 quận, huyện của Hà Nội; trong đó, biến thể BA.2 chiếm 87% tổng số các mẫu phát hiện biến thể Omicron (biến thể phụ BA.2 có khả năng lây lan nhanh hơn 1,5 lần biến thể gốc BA.1 và có khả năng tránh tác động miễn dịch của các loại vaccine hiện tại hơn biến thể gốc BA.1 khoảng 30%).\n",
      "\n",
      "Tại TP.HCM, biến thể Omicron chiếm tới 76% số mẫu có kết quả giải trình tự gene. Tuy nhiên, tỷ lệ bao phủ vaccine cao trên phạm vi toàn quốc, đặc biệt là đã có sự chăm sóc đối tượng nguy cơ cao nên tỷ lệ chết trên phạm vi toàn quốc giảm sâu (ngày 1/2 là 0,9% và ngày 03/3 là 0,1%).\n",
      "\n",
      "Kể từ khi triển khai thí điểm mở lại các đường bay quốc tế ngày 1/1 đến hết 14/2, cả nước ghi nhận hơn 800.000 ca mắc, trong đó hơn 500.000 ca cộng đồng.\n",
      "\n",
      "Trả lời Zing trước đó về dự báo diễn biến dịch, Thứ trưởng Bộ Y tế Đỗ Xuân Tuyên cho biết từ khi xuất hiện tại Việt Nam, virus SARS-CoV-2 đã xuất hiện nhiều biến chủng như Alpha, Beta, Gamma, Delta và Omicron.\n",
      "\n",
      "Chủng Delta đã gây ra đợt dịch thứ 4 trong TP.HCM và các tỉnh miền Nam có tốc độ lây lan trên 3 lần so với chủng cũ. Chủng Omicron lây lan tăng trên 2 lần so với chủng Delta, nghĩa là tốc độ lây lan của chủng Omicron gấp 5 lần chủng cũ. “Đây là nguyên nhân gây tăng cao ca F0”, ông Tuyên nhận định.\n",
      "\n",
      "Bên cạnh đó, với tỷ lệ bao phủ vaccine rất cao cộng với việc đáp ứng được yêu cầu về thuốc điều trị nên ông Tuyên cho rằng một số người dân có tâm lý chủ quan trước dịch bệnh.\n",
      "\n",
      "Dẫn quan điểm của Tổ chức Y tế Thế giới, Thứ trưởng Bộ Y tế cho biết chủng Omicron đang lây lan nhanh chưa từng thấy. Năm 2022, tình hình dịch vẫn diễn biến phức tạp, chưa thể chấm dứt.\n",
      "\n",
      "Dù số ca mắc liên tục tăng nhanh, Thứ trưởng Bộ Y tế khuyến cáo người dân chỉ nên mua kit xét nghiệm khi thực sự cần thiết để tránh mặt hàng này bị đẩy giá lên cao. Ông tư vấn người dân có thể thực hiện test mẫu gộp ở gia đình và 2-3 ngày mới test một lần (nếu cần) vì chu kỳ lây nhiễm của biến chủng Omicron là khoảng 2-3 ngày.\n"
     ]
    },
    {
     "name": "stderr",
     "output_type": "stream",
     "text": [
      "C:\\Users\\lego2\\anaconda3\\envs\\python36-clone-GUI\\lib\\site-packages\\ipykernel_launcher.py:31: DeprecationWarning: Call to deprecated `wv` (Attribute will be removed in 4.0.0, use self instead).\n"
     ]
    },
    {
     "name": "stdout",
     "output_type": "stream",
     "text": [
      "Bộ Y tế nhận định biến thể Omicron có xu hướng gia tăng lây nhiễm nhanh và đang dần thay thế chủng Delta. Phân bố tỷ lệ nhiễm theo độ tuổi trong tháng 2 so với tháng 1 cho thấy nhóm 18-49 tuổi chiếm 54,3% tổng số ca mắc (871.083 ca) - tăng 2,5 lần. Tất cả địa phương đã chuyển sang trạng thái thích ứng an toàn, linh hoạt, kiểm soát hiệu quả dịch, song số mắc mới có xu hướng gia tăng nhanh tại hầu hết tỉnh, thành phố với khoảng 50.000-75.000 ca mỗi ngày, ngày cao nhất là hơn 125.000 ca. Nhóm 50-65 tuổi chiếm 10,8% (173.254 ca) - tăng 2,2 lần. Theo báo cáo, biến thể Omicron đã ghi nhận ở 20/30 quận, huyện của Hà Nội; trong đó, biến thể BA.2 chiếm 87% tổng số các mẫu phát hiện biến thể Omicron (biến thể phụ BA.2 có khả năng lây lan nhanh hơn 1,5 lần biến thể gốc BA.1 và có khả năng tránh tác động miễn dịch của các loại vaccine hiện tại hơn biến thể gốc BA.1 khoảng 30%). Tuy nhiên, tỷ lệ bao phủ vaccine cao trên phạm vi toàn quốc, đặc biệt là đã có sự chăm sóc đối tượng nguy cơ cao nên tỷ lệ chết trên phạm vi toàn quốc giảm sâu (ngày 1/2 là 0,9% và ngày 03/3 là 0,1%). Dù số ca mắc liên tục tăng nhanh, Thứ trưởng Bộ Y tế khuyến cáo người dân chỉ nên mua kit xét nghiệm khi thực sự cần thiết để tránh mặt hàng này bị đẩy giá lên cao. Chủng Omicron lây lan tăng trên 2 lần so với chủng Delta, nghĩa là tốc độ lây lan của chủng Omicron gấp 5 lần chủng cũ. Trả lời Zing trước đó về dự báo diễn biến dịch, Thứ trưởng Bộ Y tế Đỗ Xuân Tuyên cho biết từ khi xuất hiện tại Việt Nam, virus SARS-CoV-2 đã xuất hiện nhiều biến chủng như Alpha, Beta, Gamma, Delta và Omicron. Ông tư vấn người dân có thể thực hiện test mẫu gộp ở gia đình và 2-3 ngày mới test một lần (nếu cần) vì chu kỳ lây nhiễm của biến chủng Omicron là khoảng 2-3 ngày.\n",
      "Number_of_sentences: 26\n",
      "number_of_words_in: 610\n",
      "number_of_words_out: 361\n",
      "div: 59.18032786885246\n",
      "number_of_cluster: 10\n",
      "Bộ Y tế nhận định biến thể Omicron có xu hướng gia tăng lây nhiễm nhanh và đang dần thay thế chủng Delta. Tại Hà Nội, 20/30 quận, huyện đã ghi nhận chủng Omicron.\n",
      "Bộ Y tế cho hay số ca mắc Covid-19 liên tục tăng nhanh, đặc biệt với nhóm người chưa tiêm vaccine và tỷ lệ tử vong do mắc Covid-19 gia tăng.\n",
      "\n",
      "Đến nay, Việt Nam ghi nhận hơn 4 triệu ca mắc Covid-19. Trong đó, hơn 2,5 triệu người đã khỏi bệnh và hơn 40.600 ca tử vong.\n",
      "\n",
      "Phân bố tỷ lệ nhiễm theo độ tuổi trong tháng 2 so với tháng 1 cho thấy nhóm 18-49 tuổi chiếm 54,3% tổng số ca mắc (871.083 ca) - tăng 2,5 lần. Nhóm 50-65 tuổi chiếm 10,8% (173.254 ca) - tăng 2,2 lần. Nhóm trên 65 tuổi chiếm 4,5% (72.189 ca) - tăng 2 lần.\n",
      "\n",
      "Bộ Y tế nhận định dịch Covid-19 cơ bản đang được kiểm soát trên phạm vi cả nước. Tất cả địa phương đã chuyển sang trạng thái thích ứng an toàn, linh hoạt, kiểm soát hiệu quả dịch, song số mắc mới có xu hướng gia tăng nhanh tại hầu hết tỉnh, thành phố với khoảng 50.000-75.000 ca mỗi ngày, ngày cao nhất là hơn 125.000 ca.\n",
      "\n",
      "Số trường hợp mắc bệnh tăng nhiều hơn ở nhóm chưa tiêm vaccine, nhất là nhóm dưới 12 tuổi (tháng 1 chiếm 18,4% và tháng 2 khoảng 24,3%).\n",
      "\n",
      "Số trường hợp nặng, nguy kịch bắt đầu có sự gia tăng 37,6% so với tháng trước, số trường hợp tử vong trên dưới 100 ca mỗi ngày, hiện vẫn trong khả năng đáp ứng của hệ thống y tế.\n",
      "\n",
      "Đáng lưu ý, biến thể Omicron có xu hướng gia tăng lây nhiễm nhanh và thay thế dần chủng Delta, nhất là tại Hà Nội và TP.HCM.\n",
      "\n",
      "Theo báo cáo, biến thể Omicron đã ghi nhận ở 20/30 quận, huyện của Hà Nội; trong đó, biến thể BA.2 chiếm 87% tổng số các mẫu phát hiện biến thể Omicron (biến thể phụ BA.2 có khả năng lây lan nhanh hơn 1,5 lần biến thể gốc BA.1 và có khả năng tránh tác động miễn dịch của các loại vaccine hiện tại hơn biến thể gốc BA.1 khoảng 30%).\n",
      "\n",
      "Tại TP.HCM, biến thể Omicron chiếm tới 76% số mẫu có kết quả giải trình tự gene. Tuy nhiên, tỷ lệ bao phủ vaccine cao trên phạm vi toàn quốc, đặc biệt là đã có sự chăm sóc đối tượng nguy cơ cao nên tỷ lệ chết trên phạm vi toàn quốc giảm sâu (ngày 1/2 là 0,9% và ngày 03/3 là 0,1%).\n",
      "\n",
      "Kể từ khi triển khai thí điểm mở lại các đường bay quốc tế ngày 1/1 đến hết 14/2, cả nước ghi nhận hơn 800.000 ca mắc, trong đó hơn 500.000 ca cộng đồng.\n",
      "\n",
      "Trả lời Zing trước đó về dự báo diễn biến dịch, Thứ trưởng Bộ Y tế Đỗ Xuân Tuyên cho biết từ khi xuất hiện tại Việt Nam, virus SARS-CoV-2 đã xuất hiện nhiều biến chủng như Alpha, Beta, Gamma, Delta và Omicron.\n",
      "\n",
      "Chủng Delta đã gây ra đợt dịch thứ 4 trong TP.HCM và các tỉnh miền Nam có tốc độ lây lan trên 3 lần so với chủng cũ. Chủng Omicron lây lan tăng trên 2 lần so với chủng Delta, nghĩa là tốc độ lây lan của chủng Omicron gấp 5 lần chủng cũ. “Đây là nguyên nhân gây tăng cao ca F0”, ông Tuyên nhận định.\n",
      "\n",
      "Bên cạnh đó, với tỷ lệ bao phủ vaccine rất cao cộng với việc đáp ứng được yêu cầu về thuốc điều trị nên ông Tuyên cho rằng một số người dân có tâm lý chủ quan trước dịch bệnh.\n",
      "\n",
      "Dẫn quan điểm của Tổ chức Y tế Thế giới, Thứ trưởng Bộ Y tế cho biết chủng Omicron đang lây lan nhanh chưa từng thấy. Năm 2022, tình hình dịch vẫn diễn biến phức tạp, chưa thể chấm dứt.\n",
      "\n",
      "Dù số ca mắc liên tục tăng nhanh, Thứ trưởng Bộ Y tế khuyến cáo người dân chỉ nên mua kit xét nghiệm khi thực sự cần thiết để tránh mặt hàng này bị đẩy giá lên cao. Ông tư vấn người dân có thể thực hiện test mẫu gộp ở gia đình và 2-3 ngày mới test một lần (nếu cần) vì chu kỳ lây nhiễm của biến chủng Omicron là khoảng 2-3 ngày.\n"
     ]
    },
    {
     "name": "stderr",
     "output_type": "stream",
     "text": [
      "C:\\Users\\lego2\\anaconda3\\envs\\python36-clone-GUI\\lib\\site-packages\\ipykernel_launcher.py:31: DeprecationWarning: Call to deprecated `wv` (Attribute will be removed in 4.0.0, use self instead).\n"
     ]
    },
    {
     "name": "stdout",
     "output_type": "stream",
     "text": [
      "Phân bố tỷ lệ nhiễm theo độ tuổi trong tháng 2 so với tháng 1 cho thấy nhóm 18-49 tuổi chiếm 54,3% tổng số ca mắc (871.083 ca) - tăng 2,5 lần. Nhóm 50-65 tuổi chiếm 10,8% (173.254 ca) - tăng 2,2 lần. Theo báo cáo, biến thể Omicron đã ghi nhận ở 20/30 quận, huyện của Hà Nội; trong đó, biến thể BA.2 chiếm 87% tổng số các mẫu phát hiện biến thể Omicron (biến thể phụ BA.2 có khả năng lây lan nhanh hơn 1,5 lần biến thể gốc BA.1 và có khả năng tránh tác động miễn dịch của các loại vaccine hiện tại hơn biến thể gốc BA.1 khoảng 30%). Bộ Y tế nhận định biến thể Omicron có xu hướng gia tăng lây nhiễm nhanh và đang dần thay thế chủng Delta. Số trường hợp nặng, nguy kịch bắt đầu có sự gia tăng 37,6% so với tháng trước, số trường hợp tử vong trên dưới 100 ca mỗi ngày, hiện vẫn trong khả năng đáp ứng của hệ thống y tế. Dù số ca mắc liên tục tăng nhanh, Thứ trưởng Bộ Y tế khuyến cáo người dân chỉ nên mua kit xét nghiệm khi thực sự cần thiết để tránh mặt hàng này bị đẩy giá lên cao.\n",
      "Number_of_sentences: 26\n",
      "number_of_words_in: 610\n",
      "number_of_words_out: 202\n",
      "div: 33.114754098360656\n",
      "number_of_cluster: 6\n"
     ]
    }
   ],
   "source": [
    "if __name__ == \"__main__\":\n",
    "    window = Tk()\n",
    "\n",
    "    window.geometry(\"1005x571\")\n",
    "    window.configure(bg = \"#ffffff\")\n",
    "    window.title(\"Auto Text Summarization\")\n",
    "    canvas = Canvas(\n",
    "        window,\n",
    "        bg = \"#ffffff\",\n",
    "        height = 571,\n",
    "        width = 1005,\n",
    "        bd = 0,\n",
    "        highlightthickness = 0,\n",
    "        relief = \"ridge\")\n",
    "    canvas.place(x = 0, y = 0)\n",
    "\n",
    "    background_img = PhotoImage(file = f\"GUI/background.png\")\n",
    "    background = canvas.create_image(\n",
    "        496.5, 291.0,\n",
    "        image=background_img)\n",
    "\n",
    "    entry0_img = PhotoImage(file = f\"GUI/img_textBox0.png\")\n",
    "    entry0_bg = canvas.create_image(\n",
    "        253.5, 280.5,\n",
    "        image = entry0_img)\n",
    "\n",
    "    entry0 = Text(\n",
    "        bd = 0,\n",
    "        bg = \"#feffff\",\n",
    "        highlightthickness = 0,\n",
    "        wrap=WORD)\n",
    "\n",
    "    entry0.place(\n",
    "        x = 35.0, y = 56,\n",
    "        width = 437.0,\n",
    "        height = 457)\n",
    "\n",
    "    entry1_img = PhotoImage(file = f\"GUI/img_textBox1.png\")\n",
    "    entry1_bg = canvas.create_image(\n",
    "        754.5, 280.5,\n",
    "        image = entry1_img)\n",
    "\n",
    "    entry1 = Text(\n",
    "        bd = 0,\n",
    "        bg = \"#feffff\",\n",
    "        highlightthickness = 0,\n",
    "        wrap=WORD)\n",
    "\n",
    "    entry1.place(\n",
    "        x = 536.0, y = 56,\n",
    "        width = 437.0,\n",
    "        height = 457)\n",
    "    \n",
    "    scale = Scale(\n",
    "        window,\n",
    "        from_=1,\n",
    "        to=5,\n",
    "        orient = 'horizontal',\n",
    "        length = 150,)\n",
    "    scale.place(x = 115, y = 5)\n",
    "    \n",
    "    label = Label(window, text = \"Mức độ tóm tắt:\")\n",
    "    label.place(x = 25, y = 5)\n",
    "\n",
    "    img0 = PhotoImage(file = f\"GUI/img0.png\")\n",
    "    b0 = Button(\n",
    "        image = img0,\n",
    "        borderwidth = 0,\n",
    "        highlightthickness = 0,\n",
    "        command = lambda:btn_clicked(),\n",
    "        relief = \"flat\")\n",
    "\n",
    "    b0.place(\n",
    "        x = 200, y = 525,\n",
    "        width = 108,\n",
    "        height = 39)\n",
    "    \n",
    "    window.resizable(False, False)\n",
    "    window.mainloop()"
   ]
  },
  {
   "cell_type": "code",
   "execution_count": null,
   "id": "4cb4a0fd",
   "metadata": {},
   "outputs": [],
   "source": []
  },
  {
   "cell_type": "code",
   "execution_count": null,
   "id": "6d8a1f46",
   "metadata": {},
   "outputs": [],
   "source": []
  },
  {
   "cell_type": "code",
   "execution_count": null,
   "id": "56985900",
   "metadata": {},
   "outputs": [],
   "source": []
  },
  {
   "cell_type": "code",
   "execution_count": null,
   "id": "6ca2fc10",
   "metadata": {},
   "outputs": [],
   "source": []
  },
  {
   "cell_type": "code",
   "execution_count": null,
   "id": "c0221fab",
   "metadata": {},
   "outputs": [],
   "source": []
  },
  {
   "cell_type": "code",
   "execution_count": null,
   "id": "7cc2b6b5",
   "metadata": {},
   "outputs": [],
   "source": []
  },
  {
   "cell_type": "code",
   "execution_count": null,
   "id": "4a6eec32",
   "metadata": {},
   "outputs": [],
   "source": []
  },
  {
   "cell_type": "code",
   "execution_count": null,
   "id": "02722ade",
   "metadata": {},
   "outputs": [],
   "source": []
  },
  {
   "cell_type": "code",
   "execution_count": null,
   "id": "f5f68ad4",
   "metadata": {},
   "outputs": [],
   "source": []
  },
  {
   "cell_type": "code",
   "execution_count": null,
   "id": "255bb8bb",
   "metadata": {},
   "outputs": [],
   "source": []
  },
  {
   "cell_type": "code",
   "execution_count": null,
   "id": "44c49fe3",
   "metadata": {},
   "outputs": [],
   "source": []
  },
  {
   "cell_type": "code",
   "execution_count": null,
   "id": "67a2fe4e",
   "metadata": {},
   "outputs": [],
   "source": []
  },
  {
   "cell_type": "code",
   "execution_count": null,
   "id": "52374add",
   "metadata": {},
   "outputs": [],
   "source": []
  },
  {
   "cell_type": "code",
   "execution_count": null,
   "id": "21c65930",
   "metadata": {},
   "outputs": [],
   "source": [
    "\n"
   ]
  },
  {
   "cell_type": "code",
   "execution_count": 9,
   "id": "fe416d93",
   "metadata": {},
   "outputs": [],
   "source": []
  },
  {
   "cell_type": "code",
   "execution_count": null,
   "id": "acffd507",
   "metadata": {},
   "outputs": [],
   "source": []
  },
  {
   "cell_type": "code",
   "execution_count": null,
   "id": "f6cb5f13",
   "metadata": {},
   "outputs": [],
   "source": [
    "\n"
   ]
  },
  {
   "cell_type": "code",
   "execution_count": null,
   "id": "c85b2524",
   "metadata": {},
   "outputs": [],
   "source": []
  },
  {
   "cell_type": "code",
   "execution_count": null,
   "id": "ecc94851",
   "metadata": {
    "scrolled": true
   },
   "outputs": [],
   "source": []
  },
  {
   "cell_type": "code",
   "execution_count": null,
   "id": "002aba1b",
   "metadata": {},
   "outputs": [],
   "source": []
  }
 ],
 "metadata": {
  "kernelspec": {
   "display_name": "Python 3",
   "language": "python",
   "name": "python3"
  },
  "language_info": {
   "codemirror_mode": {
    "name": "ipython",
    "version": 3
   },
   "file_extension": ".py",
   "mimetype": "text/x-python",
   "name": "python",
   "nbconvert_exporter": "python",
   "pygments_lexer": "ipython3",
   "version": "3.6.13"
  }
 },
 "nbformat": 4,
 "nbformat_minor": 5
}
