{
 "cells": [
  {
   "cell_type": "markdown",
   "id": "042951a5",
   "metadata": {},
   "source": [
    "# Import lib"
   ]
  },
  {
   "cell_type": "code",
   "execution_count": 1,
   "id": "b195b8fb",
   "metadata": {},
   "outputs": [],
   "source": [
    "import pickle\n",
    "import numpy as np\n",
    "import string\n",
    "import re\n",
    "from pyvi import ViTokenizer\n",
    "import matplotlib.pyplot as plt\n",
    "import nltk\n",
    "import asyncio\n",
    "\n",
    "from tkinter import *\n",
    "\n",
    "\n",
    "\n",
    "\n",
    "pattern = r'[' + string.punctuation +']'\n",
    "#from nltk.tokenize import word_tokenize"
   ]
  },
  {
   "cell_type": "code",
   "execution_count": 3,
   "id": "be687007",
   "metadata": {},
   "outputs": [],
   "source": [
    "\n",
    "def btn_clicked():\n",
    "    scale_value = scale.get()\n",
    "    entry1.delete('1.0', END)\n",
    "    \n",
    "    sentences = entry0.get(\"1.0\", \"end-1c\")\n",
    "    #print(sentences)\n",
    "    if sentences == '':\n",
    "        print('empty')\n",
    "        entry1.insert(END, \"Empty..\")\n",
    "    else:\n",
    "        OUTPUT = \"   \" + summarize(sentences, scale_value)\n",
    "    \n",
    "        entry1.delete('1.0', END)\n",
    "        entry1.insert(END, OUTPUT)\n",
    "    \n",
    "    \n",
    "    \n",
    "    "
   ]
  },
  {
   "cell_type": "code",
   "execution_count": 4,
   "id": "418dcb6d",
   "metadata": {},
   "outputs": [],
   "source": [
    "def summarize(sentences, scale_value):\n",
    "    #Number of words in input text\n",
    "    words_in = ViTokenizer.tokenize(sentences)\n",
    "    words_in = re.sub(pattern, '', words_in)\n",
    "    number_of_words_in = len(words_in.split())\n",
    "    \n",
    "    #split sentences - lowercase\n",
    "    #sentences=sentences.lower().strip()\n",
    "    sentences=sentences.strip()\n",
    "    print(sentences)\n",
    "    \n",
    "    sentences = nltk.sent_tokenize(sentences)\n",
    "    \n",
    "    number_of_sentences = len(sentences)\n",
    "    \n",
    "    \n",
    "    import sklearn.model_selection\n",
    "    from gensim.models import KeyedVectors \n",
    "    w2v = KeyedVectors.load_word2vec_format(\"Vectors-sg/model.vec\")\n",
    "    \n",
    "    vocab = w2v.vocab\n",
    "    \n",
    "    sentences_vec_array = []\n",
    "    for sentence in sentences:\n",
    "        sentence = re.sub(pattern, '', sentence)\n",
    "        sentence = ViTokenizer.tokenize(sentence).strip()\n",
    "        words = sentence.split()\n",
    "        sentence_vec = np.zeros((300))\n",
    "        for word in words:\n",
    "            if word in vocab:\n",
    "                sentence_vec+=w2v.wv[word]\n",
    "        sentences_vec_array.append(sentence_vec)\n",
    "        \n",
    "    #cluster\n",
    "    from sklearn.cluster import KMeans\n",
    "\n",
    "    #n_clusters = 5\n",
    "    n_clusters = round((number_of_sentences/8)*scale_value)\n",
    "    kmeans = KMeans(n_clusters=n_clusters)\n",
    "    kmeans = kmeans.fit(sentences_vec_array)\n",
    "    \n",
    "    #choose sentence for each cluster\n",
    "    from sklearn.metrics import pairwise_distances_argmin_min\n",
    "\n",
    "    avg = []\n",
    "    for j in range(n_clusters):\n",
    "        idx = np.where(kmeans.labels_ == j)[0]\n",
    "        avg.append(np.mean(idx))\n",
    "\n",
    "    closest, _ = pairwise_distances_argmin_min(kmeans.cluster_centers_, sentences_vec_array)\n",
    "    ordering = sorted(range(n_clusters), key=lambda k: avg[k])\n",
    "    summary = '\\n\\n   '.join([sentences[closest[idx]] for idx in ordering])\n",
    "    summary_e = ' '.join([sentences[closest[idx]] for idx in ordering])\n",
    "    \n",
    "    #Number of words in final text\n",
    "    words_out = ViTokenizer.tokenize(summary)\n",
    "    number_of_words_out = len(words_out.split())\n",
    "    \n",
    "    \n",
    "    #print(\"tom tat: \")\n",
    "    #print(words_out)\n",
    "    print(summary_e)\n",
    "    print(\"Number_of_sentences: \" + str(number_of_sentences))\n",
    "    print(\"number_of_words_in: \" + str(number_of_words_in))\n",
    "    print(\"number_of_words_out: \" + str(number_of_words_out))\n",
    "    print(\"div: \" + str((number_of_words_out/number_of_words_in)*100))\n",
    "    print(\"number_of_cluster: \" + str(n_clusters))\n",
    "    return summary\n",
    "    \n",
    "    \n",
    "    "
   ]
  },
  {
   "cell_type": "code",
   "execution_count": 5,
   "id": "ef88c75a",
   "metadata": {},
   "outputs": [
    {
     "name": "stdout",
     "output_type": "stream",
     "text": [
      "Phát biểu sau chiến thắng nghẹt thở của Everton trước Newcastle, huấn luyện viên (HLV) Frank Lampard đưa tay về phía ống kính và nói: \"Tôi đã bị gãy tay khi ăn mừng. Tôi sẽ đổi vết đau này lấy 3 điểm. Ban đầu, tôi không nhận ra, nhưng một lúc sau, tay của tôi bị nhức và run lên. Dù sao, mọi chuyện vẫn ổn. Tôi cũng chẳng bận tâm\".\n",
      "\n",
      "Phút 99, Seamus Coleman đoạt bóng ở giữa sân để mở ra tình huống phản công cho Everton. Alex Iwobi phối hợp ăn ý với Dominic Calvert-Lewin, trước khi dứt điểm gọn gàng trong vùng cấm để mở tỷ số.Do trận đấu có 14 phút bù giờ, Everton vẫn phải gồng mình phòng ngự trong những phút còn lại. Nỗ lực của chủ nhà đã được đền đáp bằng 3 điểm quý giá trước đối thủ đang có phong độ cao.\n",
      "\n",
      "\"Đó là đêm tuyệt vời. Chúng tôi cần thêm những khoảnh khắc như thế này, bởi mùa giải vẫn còn chặng đường dài trước mắt\", HLV Lampard nói thêm.\n",
      "\n",
      "\"Các cầu thủ hãy tận hưởng, nhưng đừng quên điều gì đã giúp Everton giành chiến thắng. Đó chính là tinh thần không bỏ cuộc và cả sự đoàn kết. Tôi nói chuyện với các cầu thủ trong tuần qua và nhiều người trong số họ đã thi đấu quật cường vào hôm nay\", cựu danh thủ người Anh nhấn mạnh.\n",
      "\n",
      "Hiệp 2 trận đấu trên sân Goodison Park có hàng loạt biến cố. Đầu tiên, trận đấu bị gián đoạn trong 6 phút do một CĐV quá khích tự buộc cổ vào cầu môn Everton. Phút 84, \"The Toffees\" còn 10 người khi trọng tài chính rút thẻ đỏ cho Allan. Phút 99, Everton tận dụng sai lầm của Saint-Maximin để ghi bàn ấn định thắng lợi.\n",
      "\n",
      "Newcastle thua trận thứ 2 liên tiếp. Trong khi đó, Everton có trận thứ 2 liên tiếp phải chơi với 10 người, nhưng đã thu về chiến thắng đầu tiên sau 4 vòng toàn thua. Thầy trò HLV Lampard đang hơn nhóm \"cầm đèn đỏ\" 3 điểm và còn 2 trận chưa đấu.\n",
      "\n",
      "Chia sẻ về tấm thẻ đỏ của Allan, HLV Lampard cho biết: \"Trọng tài không nhìn rõ pha bóng, nên ông ấy cần sự trợ giúp từ tổ VAR. Trong khi đó, tổ VAR lại không hiểu tính chất của tình huống nên đưa ra quyết định gây bất lợi cho chúng tôi. Everton giành 3 điểm, nhưng chúng tôi lại mất Allan ở 3 vòng tiếp theo, đó mới là vấn đề\".\n"
     ]
    },
    {
     "name": "stderr",
     "output_type": "stream",
     "text": [
      "C:\\Users\\lego2\\anaconda3\\envs\\python36-clone-GUI\\lib\\site-packages\\ipykernel_launcher.py:31: DeprecationWarning: Call to deprecated `wv` (Attribute will be removed in 4.0.0, use self instead).\n"
     ]
    },
    {
     "name": "stdout",
     "output_type": "stream",
     "text": [
      "Alex Iwobi phối hợp ăn ý với Dominic Calvert-Lewin, trước khi dứt điểm gọn gàng trong vùng cấm để mở tỷ số.Do trận đấu có 14 phút bù giờ, Everton vẫn phải gồng mình phòng ngự trong những phút còn lại. \"Đó là đêm tuyệt vời. Phát biểu sau chiến thắng nghẹt thở của Everton trước Newcastle, huấn luyện viên (HLV) Frank Lampard đưa tay về phía ống kính và nói: \"Tôi đã bị gãy tay khi ăn mừng. Phút 99, Seamus Coleman đoạt bóng ở giữa sân để mở ra tình huống phản công cho Everton. Everton giành 3 điểm, nhưng chúng tôi lại mất Allan ở 3 vòng tiếp theo, đó mới là vấn đề\". Chúng tôi cần thêm những khoảnh khắc như thế này, bởi mùa giải vẫn còn chặng đường dài trước mắt\", HLV Lampard nói thêm.\n",
      "Number_of_sentences: 23\n",
      "number_of_words_in: 356\n",
      "number_of_words_out: 140\n",
      "div: 39.325842696629216\n",
      "number_of_cluster: 6\n",
      "Phát biểu sau chiến thắng nghẹt thở của Everton trước Newcastle, huấn luyện viên (HLV) Frank Lampard đưa tay về phía ống kính và nói: \"Tôi đã bị gãy tay khi ăn mừng. Tôi sẽ đổi vết đau này lấy 3 điểm. Ban đầu, tôi không nhận ra, nhưng một lúc sau, tay của tôi bị nhức và run lên. Dù sao, mọi chuyện vẫn ổn. Tôi cũng chẳng bận tâm\".\n",
      "\n",
      "Phút 99, Seamus Coleman đoạt bóng ở giữa sân để mở ra tình huống phản công cho Everton. Alex Iwobi phối hợp ăn ý với Dominic Calvert-Lewin, trước khi dứt điểm gọn gàng trong vùng cấm để mở tỷ số.Do trận đấu có 14 phút bù giờ, Everton vẫn phải gồng mình phòng ngự trong những phút còn lại. Nỗ lực của chủ nhà đã được đền đáp bằng 3 điểm quý giá trước đối thủ đang có phong độ cao.\n",
      "\n",
      "\"Đó là đêm tuyệt vời. Chúng tôi cần thêm những khoảnh khắc như thế này, bởi mùa giải vẫn còn chặng đường dài trước mắt\", HLV Lampard nói thêm.\n",
      "\n",
      "\"Các cầu thủ hãy tận hưởng, nhưng đừng quên điều gì đã giúp Everton giành chiến thắng. Đó chính là tinh thần không bỏ cuộc và cả sự đoàn kết. Tôi nói chuyện với các cầu thủ trong tuần qua và nhiều người trong số họ đã thi đấu quật cường vào hôm nay\", cựu danh thủ người Anh nhấn mạnh.\n",
      "\n",
      "Hiệp 2 trận đấu trên sân Goodison Park có hàng loạt biến cố. Đầu tiên, trận đấu bị gián đoạn trong 6 phút do một CĐV quá khích tự buộc cổ vào cầu môn Everton. Phút 84, \"The Toffees\" còn 10 người khi trọng tài chính rút thẻ đỏ cho Allan. Phút 99, Everton tận dụng sai lầm của Saint-Maximin để ghi bàn ấn định thắng lợi.\n",
      "\n",
      "Newcastle thua trận thứ 2 liên tiếp. Trong khi đó, Everton có trận thứ 2 liên tiếp phải chơi với 10 người, nhưng đã thu về chiến thắng đầu tiên sau 4 vòng toàn thua. Thầy trò HLV Lampard đang hơn nhóm \"cầm đèn đỏ\" 3 điểm và còn 2 trận chưa đấu.\n",
      "\n",
      "Chia sẻ về tấm thẻ đỏ của Allan, HLV Lampard cho biết: \"Trọng tài không nhìn rõ pha bóng, nên ông ấy cần sự trợ giúp từ tổ VAR. Trong khi đó, tổ VAR lại không hiểu tính chất của tình huống nên đưa ra quyết định gây bất lợi cho chúng tôi. Everton giành 3 điểm, nhưng chúng tôi lại mất Allan ở 3 vòng tiếp theo, đó mới là vấn đề\".\n"
     ]
    },
    {
     "name": "stderr",
     "output_type": "stream",
     "text": [
      "C:\\Users\\lego2\\anaconda3\\envs\\python36-clone-GUI\\lib\\site-packages\\ipykernel_launcher.py:31: DeprecationWarning: Call to deprecated `wv` (Attribute will be removed in 4.0.0, use self instead).\n"
     ]
    },
    {
     "name": "stdout",
     "output_type": "stream",
     "text": [
      "Phát biểu sau chiến thắng nghẹt thở của Everton trước Newcastle, huấn luyện viên (HLV) Frank Lampard đưa tay về phía ống kính và nói: \"Tôi đã bị gãy tay khi ăn mừng. Alex Iwobi phối hợp ăn ý với Dominic Calvert-Lewin, trước khi dứt điểm gọn gàng trong vùng cấm để mở tỷ số.Do trận đấu có 14 phút bù giờ, Everton vẫn phải gồng mình phòng ngự trong những phút còn lại. \"Đó là đêm tuyệt vời. Phút 99, Everton tận dụng sai lầm của Saint-Maximin để ghi bàn ấn định thắng lợi. Tôi nói chuyện với các cầu thủ trong tuần qua và nhiều người trong số họ đã thi đấu quật cường vào hôm nay\", cựu danh thủ người Anh nhấn mạnh. Ban đầu, tôi không nhận ra, nhưng một lúc sau, tay của tôi bị nhức và run lên. Everton giành 3 điểm, nhưng chúng tôi lại mất Allan ở 3 vòng tiếp theo, đó mới là vấn đề\". Trong khi đó, Everton có trận thứ 2 liên tiếp phải chơi với 10 người, nhưng đã thu về chiến thắng đầu tiên sau 4 vòng toàn thua. Chia sẻ về tấm thẻ đỏ của Allan, HLV Lampard cho biết: \"Trọng tài không nhìn rõ pha bóng, nên ông ấy cần sự trợ giúp từ tổ VAR.\n",
      "Number_of_sentences: 23\n",
      "number_of_words_in: 356\n",
      "number_of_words_out: 217\n",
      "div: 60.95505617977528\n",
      "number_of_cluster: 9\n",
      "Theo thông tin từ các nhà bán lẻ lớn, Apple sắp giảm giá loạt thiết bị của công ty tại Việt Nam. Tùy model, đại lý mà mức giảm dao động từ 15-30%. Động thái này của Apple được cho là để kích cầu mua sắm trong giai đoạn thị trường thấp điểm.\n",
      "\n",
      "Trao đổi với Zing, ông Phùng Ngọc Tuyên, Giám đốc Ngành hàng Viễn thông di động của Thế Giới Di Động cho biết việc giảm giá của Apple nhằm bán thêm nhiều sản phẩm ra mắt đã lâu. “Phân khúc giá từ 11-20 triệu đồng, Apple không có nhiều model còn bán. Các dòng iPhone 11, iPhone 12 ra mắt lâu nên việc giảm giá là cần thiết để thu hút khách hàng”, ông Tuyên nói.\n",
      "\n",
      "Trong khi đó, FPT Shop cũng áp dụng chương trình khuyến mãi ngắn hạn (flash sale) cho nhiều sản phẩm Táo khuyết. Các sản phẩm có mức giảm sâu như dòng iPhone 12 mini 128 GB, còn 16,5 triệu đồng, iPhone 12 Pro giá 26 triệu đồng, giảm 4 triệu đồng. Nhiều sản phẩm khác như iPad, MacBook, AirPods cũng có mức giảm 10-20%.\n",
      "\n",
      "Theo ông Nguyễn Lạc Huy, đại diện hệ thống CellphoneS, nhà bán lẻ này sẽ áp dụng chính sách giá mới từ 27/3. “Các sản phẩm được điều chỉnh nhiều đợt này gồm iPhone 12 mini giảm khoảng 2 triệu đồng, về mức 17 triệu đồng, iPhone 11 còn 13 triệu đồng, giảm 2 triệu đồng. Đây là mức giá rất tốt trong ngắn hạn vì Apple hiếm khi hạ giá quá 2 triệu đồng cho một mẫu iPhone tại Việt Nam”, ông Huy cho biết.\n",
      "\n",
      "Ngoài ra, các dòng iPad Pro, Apple Watch Series 6/7/SE cũng được giảm giá từ 2-5 triệu đồng tùy phiên bản. Tuy nhiên theo đại lý này, chương trình khuyến mãi chỉ được áp dụng từ cuối tháng 3 sang tháng 4, sau đó có thể xảy ra biến động về giá.\n",
      "\n",
      "Ông Phạm Tuấn Anh, đại diện hệ thống ShopDunk cho biết việc điều chỉnh giá các sản phẩm của Apple sẽ diễn ra vào đầu tháng 4, nhưng nhà bán lẻ này đã bắt đầu giảm một số model. “Các sản phẩm được giảm giá trước gồm iPhone 11 và iPhone 12. Mức giảm khoảng 500.000-1 triệu đồng tùy phiên bản. Trong đó, iPhone 11 64 GB với giá 13 triệu đồng là lựa chọn tốt cho khách hàng”, ông Tuấn Anh nói.\n",
      "\n",
      "Theo các nhà bán lẻ trong nước, tháng 3-4 là giai đoạn thị trường trầm lắng, sức mua thấp. Do đó, việc Apple giảm giá loạt sản phẩm sẽ giúp kích cầu tiêu dùng, gia tăng doanh số bán.\n",
      "\n",
      "Apple từng có hành động tương tự vào tháng 6/2021. Công ty điều chỉnh giảm giá 2 triệu đồng cho dòng iPhone 11, về mức 15 triệu đồng. Đợt khuyến mãi này giúp gia tăng doanh số bán trong thời gian ngắn, iPhone 11 cháy hàng ở nhiều đại lý tại giai đoạn này.\n",
      "\n",
      "Ngoài ra, Apple không điều chỉnh giá của dòng iPhone 13 mới ra mắt cuối năm ngoái. Theo các đại lý, iPhone 13 series vẫn có sức mua rất tốt, nhất là trong giai đoạn Tết Nguyên đán. Số liệu từ hãng nghiên cứu thị trường GfK cho thấy iPhone 13 Pro Max bán được gần 30.000 máy trong tháng 1/2022 tại các kênh online và thành phố lớn. Với giá bán trung bình khoảng 31 triệu đồng, Táo khuyết đã thu về hơn 930 tỷ đồng chỉ với một model.\n"
     ]
    },
    {
     "name": "stderr",
     "output_type": "stream",
     "text": [
      "C:\\Users\\lego2\\anaconda3\\envs\\python36-clone-GUI\\lib\\site-packages\\ipykernel_launcher.py:31: DeprecationWarning: Call to deprecated `wv` (Attribute will be removed in 4.0.0, use self instead).\n"
     ]
    },
    {
     "name": "stdout",
     "output_type": "stream",
     "text": [
      "Trao đổi với Zing, ông Phùng Ngọc Tuyên, Giám đốc Ngành hàng Viễn thông di động của Thế Giới Di Động cho biết việc giảm giá của Apple nhằm bán thêm nhiều sản phẩm ra mắt đã lâu. Các sản phẩm có mức giảm sâu như dòng iPhone 12 mini 128 GB, còn 16,5 triệu đồng, iPhone 12 Pro giá 26 triệu đồng, giảm 4 triệu đồng. Ngoài ra, các dòng iPad Pro, Apple Watch Series 6/7/SE cũng được giảm giá từ 2-5 triệu đồng tùy phiên bản. Mức giảm khoảng 500.000-1 triệu đồng tùy phiên bản. Động thái này của Apple được cho là để kích cầu mua sắm trong giai đoạn thị trường thấp điểm. Trong đó, iPhone 11 64 GB với giá 13 triệu đồng là lựa chọn tốt cho khách hàng”, ông Tuấn Anh nói. Tuy nhiên theo đại lý này, chương trình khuyến mãi chỉ được áp dụng từ cuối tháng 3 sang tháng 4, sau đó có thể xảy ra biến động về giá.\n",
      "Number_of_sentences: 27\n",
      "number_of_words_in: 504\n",
      "number_of_words_out: 165\n",
      "div: 32.73809523809524\n",
      "number_of_cluster: 7\n",
      "Theo thông tin từ các nhà bán lẻ lớn, Apple sắp giảm giá loạt thiết bị của công ty tại Việt Nam. Tùy model, đại lý mà mức giảm dao động từ 15-30%. Động thái này của Apple được cho là để kích cầu mua sắm trong giai đoạn thị trường thấp điểm.\n",
      "\n",
      "Trao đổi với Zing, ông Phùng Ngọc Tuyên, Giám đốc Ngành hàng Viễn thông di động của Thế Giới Di Động cho biết việc giảm giá của Apple nhằm bán thêm nhiều sản phẩm ra mắt đã lâu. “Phân khúc giá từ 11-20 triệu đồng, Apple không có nhiều model còn bán. Các dòng iPhone 11, iPhone 12 ra mắt lâu nên việc giảm giá là cần thiết để thu hút khách hàng”, ông Tuyên nói.\n",
      "\n",
      "Trong khi đó, FPT Shop cũng áp dụng chương trình khuyến mãi ngắn hạn (flash sale) cho nhiều sản phẩm Táo khuyết. Các sản phẩm có mức giảm sâu như dòng iPhone 12 mini 128 GB, còn 16,5 triệu đồng, iPhone 12 Pro giá 26 triệu đồng, giảm 4 triệu đồng. Nhiều sản phẩm khác như iPad, MacBook, AirPods cũng có mức giảm 10-20%.\n",
      "\n",
      "Theo ông Nguyễn Lạc Huy, đại diện hệ thống CellphoneS, nhà bán lẻ này sẽ áp dụng chính sách giá mới từ 27/3. “Các sản phẩm được điều chỉnh nhiều đợt này gồm iPhone 12 mini giảm khoảng 2 triệu đồng, về mức 17 triệu đồng, iPhone 11 còn 13 triệu đồng, giảm 2 triệu đồng. Đây là mức giá rất tốt trong ngắn hạn vì Apple hiếm khi hạ giá quá 2 triệu đồng cho một mẫu iPhone tại Việt Nam”, ông Huy cho biết.\n",
      "\n",
      "Ngoài ra, các dòng iPad Pro, Apple Watch Series 6/7/SE cũng được giảm giá từ 2-5 triệu đồng tùy phiên bản. Tuy nhiên theo đại lý này, chương trình khuyến mãi chỉ được áp dụng từ cuối tháng 3 sang tháng 4, sau đó có thể xảy ra biến động về giá.\n",
      "\n",
      "Ông Phạm Tuấn Anh, đại diện hệ thống ShopDunk cho biết việc điều chỉnh giá các sản phẩm của Apple sẽ diễn ra vào đầu tháng 4, nhưng nhà bán lẻ này đã bắt đầu giảm một số model. “Các sản phẩm được giảm giá trước gồm iPhone 11 và iPhone 12. Mức giảm khoảng 500.000-1 triệu đồng tùy phiên bản. Trong đó, iPhone 11 64 GB với giá 13 triệu đồng là lựa chọn tốt cho khách hàng”, ông Tuấn Anh nói.\n",
      "\n",
      "Theo các nhà bán lẻ trong nước, tháng 3-4 là giai đoạn thị trường trầm lắng, sức mua thấp. Do đó, việc Apple giảm giá loạt sản phẩm sẽ giúp kích cầu tiêu dùng, gia tăng doanh số bán.\n",
      "\n",
      "Apple từng có hành động tương tự vào tháng 6/2021. Công ty điều chỉnh giảm giá 2 triệu đồng cho dòng iPhone 11, về mức 15 triệu đồng. Đợt khuyến mãi này giúp gia tăng doanh số bán trong thời gian ngắn, iPhone 11 cháy hàng ở nhiều đại lý tại giai đoạn này.\n",
      "\n",
      "Ngoài ra, Apple không điều chỉnh giá của dòng iPhone 13 mới ra mắt cuối năm ngoái. Theo các đại lý, iPhone 13 series vẫn có sức mua rất tốt, nhất là trong giai đoạn Tết Nguyên đán. Số liệu từ hãng nghiên cứu thị trường GfK cho thấy iPhone 13 Pro Max bán được gần 30.000 máy trong tháng 1/2022 tại các kênh online và thành phố lớn. Với giá bán trung bình khoảng 31 triệu đồng, Táo khuyết đã thu về hơn 930 tỷ đồng chỉ với một model.\n"
     ]
    },
    {
     "name": "stderr",
     "output_type": "stream",
     "text": [
      "C:\\Users\\lego2\\anaconda3\\envs\\python36-clone-GUI\\lib\\site-packages\\ipykernel_launcher.py:31: DeprecationWarning: Call to deprecated `wv` (Attribute will be removed in 4.0.0, use self instead).\n"
     ]
    },
    {
     "name": "stdout",
     "output_type": "stream",
     "text": [
      "Trao đổi với Zing, ông Phùng Ngọc Tuyên, Giám đốc Ngành hàng Viễn thông di động của Thế Giới Di Động cho biết việc giảm giá của Apple nhằm bán thêm nhiều sản phẩm ra mắt đã lâu. Các sản phẩm có mức giảm sâu như dòng iPhone 12 mini 128 GB, còn 16,5 triệu đồng, iPhone 12 Pro giá 26 triệu đồng, giảm 4 triệu đồng. Theo thông tin từ các nhà bán lẻ lớn, Apple sắp giảm giá loạt thiết bị của công ty tại Việt Nam. Mức giảm khoảng 500.000-1 triệu đồng tùy phiên bản. Ngoài ra, các dòng iPad Pro, Apple Watch Series 6/7/SE cũng được giảm giá từ 2-5 triệu đồng tùy phiên bản. Ông Phạm Tuấn Anh, đại diện hệ thống ShopDunk cho biết việc điều chỉnh giá các sản phẩm của Apple sẽ diễn ra vào đầu tháng 4, nhưng nhà bán lẻ này đã bắt đầu giảm một số model. Theo các đại lý, iPhone 13 series vẫn có sức mua rất tốt, nhất là trong giai đoạn Tết Nguyên đán. Trong đó, iPhone 11 64 GB với giá 13 triệu đồng là lựa chọn tốt cho khách hàng”, ông Tuấn Anh nói. Đợt khuyến mãi này giúp gia tăng doanh số bán trong thời gian ngắn, iPhone 11 cháy hàng ở nhiều đại lý tại giai đoạn này. Với giá bán trung bình khoảng 31 triệu đồng, Táo khuyết đã thu về hơn 930 tỷ đồng chỉ với một model.\n",
      "Number_of_sentences: 27\n",
      "number_of_words_in: 504\n",
      "number_of_words_out: 238\n",
      "div: 47.22222222222222\n",
      "number_of_cluster: 10\n",
      "Theo thông tin từ các nhà bán lẻ lớn, Apple sắp giảm giá loạt thiết bị của công ty tại Việt Nam. Tùy model, đại lý mà mức giảm dao động từ 15-30%. Động thái này của Apple được cho là để kích cầu mua sắm trong giai đoạn thị trường thấp điểm.\n",
      "\n",
      "Trao đổi với Zing, ông Phùng Ngọc Tuyên, Giám đốc Ngành hàng Viễn thông di động của Thế Giới Di Động cho biết việc giảm giá của Apple nhằm bán thêm nhiều sản phẩm ra mắt đã lâu. “Phân khúc giá từ 11-20 triệu đồng, Apple không có nhiều model còn bán. Các dòng iPhone 11, iPhone 12 ra mắt lâu nên việc giảm giá là cần thiết để thu hút khách hàng”, ông Tuyên nói.\n",
      "\n",
      "Trong khi đó, FPT Shop cũng áp dụng chương trình khuyến mãi ngắn hạn (flash sale) cho nhiều sản phẩm Táo khuyết. Các sản phẩm có mức giảm sâu như dòng iPhone 12 mini 128 GB, còn 16,5 triệu đồng, iPhone 12 Pro giá 26 triệu đồng, giảm 4 triệu đồng. Nhiều sản phẩm khác như iPad, MacBook, AirPods cũng có mức giảm 10-20%.\n",
      "\n",
      "Theo ông Nguyễn Lạc Huy, đại diện hệ thống CellphoneS, nhà bán lẻ này sẽ áp dụng chính sách giá mới từ 27/3. “Các sản phẩm được điều chỉnh nhiều đợt này gồm iPhone 12 mini giảm khoảng 2 triệu đồng, về mức 17 triệu đồng, iPhone 11 còn 13 triệu đồng, giảm 2 triệu đồng. Đây là mức giá rất tốt trong ngắn hạn vì Apple hiếm khi hạ giá quá 2 triệu đồng cho một mẫu iPhone tại Việt Nam”, ông Huy cho biết.\n",
      "\n",
      "Ngoài ra, các dòng iPad Pro, Apple Watch Series 6/7/SE cũng được giảm giá từ 2-5 triệu đồng tùy phiên bản. Tuy nhiên theo đại lý này, chương trình khuyến mãi chỉ được áp dụng từ cuối tháng 3 sang tháng 4, sau đó có thể xảy ra biến động về giá.\n",
      "\n",
      "Ông Phạm Tuấn Anh, đại diện hệ thống ShopDunk cho biết việc điều chỉnh giá các sản phẩm của Apple sẽ diễn ra vào đầu tháng 4, nhưng nhà bán lẻ này đã bắt đầu giảm một số model. “Các sản phẩm được giảm giá trước gồm iPhone 11 và iPhone 12. Mức giảm khoảng 500.000-1 triệu đồng tùy phiên bản. Trong đó, iPhone 11 64 GB với giá 13 triệu đồng là lựa chọn tốt cho khách hàng”, ông Tuấn Anh nói.\n",
      "\n",
      "Theo các nhà bán lẻ trong nước, tháng 3-4 là giai đoạn thị trường trầm lắng, sức mua thấp. Do đó, việc Apple giảm giá loạt sản phẩm sẽ giúp kích cầu tiêu dùng, gia tăng doanh số bán.\n",
      "\n",
      "Apple từng có hành động tương tự vào tháng 6/2021. Công ty điều chỉnh giảm giá 2 triệu đồng cho dòng iPhone 11, về mức 15 triệu đồng. Đợt khuyến mãi này giúp gia tăng doanh số bán trong thời gian ngắn, iPhone 11 cháy hàng ở nhiều đại lý tại giai đoạn này.\n",
      "\n",
      "Ngoài ra, Apple không điều chỉnh giá của dòng iPhone 13 mới ra mắt cuối năm ngoái. Theo các đại lý, iPhone 13 series vẫn có sức mua rất tốt, nhất là trong giai đoạn Tết Nguyên đán. Số liệu từ hãng nghiên cứu thị trường GfK cho thấy iPhone 13 Pro Max bán được gần 30.000 máy trong tháng 1/2022 tại các kênh online và thành phố lớn. Với giá bán trung bình khoảng 31 triệu đồng, Táo khuyết đã thu về hơn 930 tỷ đồng chỉ với một model.\n"
     ]
    },
    {
     "name": "stderr",
     "output_type": "stream",
     "text": [
      "C:\\Users\\lego2\\anaconda3\\envs\\python36-clone-GUI\\lib\\site-packages\\ipykernel_launcher.py:31: DeprecationWarning: Call to deprecated `wv` (Attribute will be removed in 4.0.0, use self instead).\n"
     ]
    },
    {
     "name": "stdout",
     "output_type": "stream",
     "text": [
      "Các sản phẩm có mức giảm sâu như dòng iPhone 12 mini 128 GB, còn 16,5 triệu đồng, iPhone 12 Pro giá 26 triệu đồng, giảm 4 triệu đồng. Trao đổi với Zing, ông Phùng Ngọc Tuyên, Giám đốc Ngành hàng Viễn thông di động của Thế Giới Di Động cho biết việc giảm giá của Apple nhằm bán thêm nhiều sản phẩm ra mắt đã lâu. “Các sản phẩm được giảm giá trước gồm iPhone 11 và iPhone 12. Tùy model, đại lý mà mức giảm dao động từ 15-30%. Đây là mức giá rất tốt trong ngắn hạn vì Apple hiếm khi hạ giá quá 2 triệu đồng cho một mẫu iPhone tại Việt Nam”, ông Huy cho biết. Công ty điều chỉnh giảm giá 2 triệu đồng cho dòng iPhone 11, về mức 15 triệu đồng. Đợt khuyến mãi này giúp gia tăng doanh số bán trong thời gian ngắn, iPhone 11 cháy hàng ở nhiều đại lý tại giai đoạn này.\n",
      "Number_of_sentences: 27\n",
      "number_of_words_in: 504\n",
      "number_of_words_out: 157\n",
      "div: 31.150793650793652\n",
      "number_of_cluster: 7\n",
      "Theo thông tin từ các nhà bán lẻ lớn, Apple sắp giảm giá loạt thiết bị của công ty tại Việt Nam. Tùy model, đại lý mà mức giảm dao động từ 15-30%. Động thái này của Apple được cho là để kích cầu mua sắm trong giai đoạn thị trường thấp điểm.\n",
      "\n",
      "Trao đổi với Zing, ông Phùng Ngọc Tuyên, Giám đốc Ngành hàng Viễn thông di động của Thế Giới Di Động cho biết việc giảm giá của Apple nhằm bán thêm nhiều sản phẩm ra mắt đã lâu. “Phân khúc giá từ 11-20 triệu đồng, Apple không có nhiều model còn bán. Các dòng iPhone 11, iPhone 12 ra mắt lâu nên việc giảm giá là cần thiết để thu hút khách hàng”, ông Tuyên nói.\n",
      "\n",
      "Trong khi đó, FPT Shop cũng áp dụng chương trình khuyến mãi ngắn hạn (flash sale) cho nhiều sản phẩm Táo khuyết. Các sản phẩm có mức giảm sâu như dòng iPhone 12 mini 128 GB, còn 16,5 triệu đồng, iPhone 12 Pro giá 26 triệu đồng, giảm 4 triệu đồng. Nhiều sản phẩm khác như iPad, MacBook, AirPods cũng có mức giảm 10-20%.\n",
      "\n",
      "Theo ông Nguyễn Lạc Huy, đại diện hệ thống CellphoneS, nhà bán lẻ này sẽ áp dụng chính sách giá mới từ 27/3. “Các sản phẩm được điều chỉnh nhiều đợt này gồm iPhone 12 mini giảm khoảng 2 triệu đồng, về mức 17 triệu đồng, iPhone 11 còn 13 triệu đồng, giảm 2 triệu đồng. Đây là mức giá rất tốt trong ngắn hạn vì Apple hiếm khi hạ giá quá 2 triệu đồng cho một mẫu iPhone tại Việt Nam”, ông Huy cho biết.\n",
      "\n",
      "Ngoài ra, các dòng iPad Pro, Apple Watch Series 6/7/SE cũng được giảm giá từ 2-5 triệu đồng tùy phiên bản. Tuy nhiên theo đại lý này, chương trình khuyến mãi chỉ được áp dụng từ cuối tháng 3 sang tháng 4, sau đó có thể xảy ra biến động về giá.\n",
      "\n",
      "Ông Phạm Tuấn Anh, đại diện hệ thống ShopDunk cho biết việc điều chỉnh giá các sản phẩm của Apple sẽ diễn ra vào đầu tháng 4, nhưng nhà bán lẻ này đã bắt đầu giảm một số model. “Các sản phẩm được giảm giá trước gồm iPhone 11 và iPhone 12. Mức giảm khoảng 500.000-1 triệu đồng tùy phiên bản. Trong đó, iPhone 11 64 GB với giá 13 triệu đồng là lựa chọn tốt cho khách hàng”, ông Tuấn Anh nói.\n",
      "\n",
      "Theo các nhà bán lẻ trong nước, tháng 3-4 là giai đoạn thị trường trầm lắng, sức mua thấp. Do đó, việc Apple giảm giá loạt sản phẩm sẽ giúp kích cầu tiêu dùng, gia tăng doanh số bán.\n",
      "\n",
      "Apple từng có hành động tương tự vào tháng 6/2021. Công ty điều chỉnh giảm giá 2 triệu đồng cho dòng iPhone 11, về mức 15 triệu đồng. Đợt khuyến mãi này giúp gia tăng doanh số bán trong thời gian ngắn, iPhone 11 cháy hàng ở nhiều đại lý tại giai đoạn này.\n",
      "\n",
      "Ngoài ra, Apple không điều chỉnh giá của dòng iPhone 13 mới ra mắt cuối năm ngoái. Theo các đại lý, iPhone 13 series vẫn có sức mua rất tốt, nhất là trong giai đoạn Tết Nguyên đán. Số liệu từ hãng nghiên cứu thị trường GfK cho thấy iPhone 13 Pro Max bán được gần 30.000 máy trong tháng 1/2022 tại các kênh online và thành phố lớn. Với giá bán trung bình khoảng 31 triệu đồng, Táo khuyết đã thu về hơn 930 tỷ đồng chỉ với một model.\n"
     ]
    },
    {
     "name": "stderr",
     "output_type": "stream",
     "text": [
      "C:\\Users\\lego2\\anaconda3\\envs\\python36-clone-GUI\\lib\\site-packages\\ipykernel_launcher.py:31: DeprecationWarning: Call to deprecated `wv` (Attribute will be removed in 4.0.0, use self instead).\n"
     ]
    },
    {
     "name": "stdout",
     "output_type": "stream",
     "text": [
      "Trao đổi với Zing, ông Phùng Ngọc Tuyên, Giám đốc Ngành hàng Viễn thông di động của Thế Giới Di Động cho biết việc giảm giá của Apple nhằm bán thêm nhiều sản phẩm ra mắt đã lâu. Trong khi đó, FPT Shop cũng áp dụng chương trình khuyến mãi ngắn hạn (flash sale) cho nhiều sản phẩm Táo khuyết. “Các sản phẩm được điều chỉnh nhiều đợt này gồm iPhone 12 mini giảm khoảng 2 triệu đồng, về mức 17 triệu đồng, iPhone 11 còn 13 triệu đồng, giảm 2 triệu đồng. Theo thông tin từ các nhà bán lẻ lớn, Apple sắp giảm giá loạt thiết bị của công ty tại Việt Nam. “Các sản phẩm được giảm giá trước gồm iPhone 11 và iPhone 12. Đây là mức giá rất tốt trong ngắn hạn vì Apple hiếm khi hạ giá quá 2 triệu đồng cho một mẫu iPhone tại Việt Nam”, ông Huy cho biết. Ngoài ra, các dòng iPad Pro, Apple Watch Series 6/7/SE cũng được giảm giá từ 2-5 triệu đồng tùy phiên bản. Tùy model, đại lý mà mức giảm dao động từ 15-30%. Tuy nhiên theo đại lý này, chương trình khuyến mãi chỉ được áp dụng từ cuối tháng 3 sang tháng 4, sau đó có thể xảy ra biến động về giá. Ông Phạm Tuấn Anh, đại diện hệ thống ShopDunk cho biết việc điều chỉnh giá các sản phẩm của Apple sẽ diễn ra vào đầu tháng 4, nhưng nhà bán lẻ này đã bắt đầu giảm một số model. Theo các đại lý, iPhone 13 series vẫn có sức mua rất tốt, nhất là trong giai đoạn Tết Nguyên đán. Trong đó, iPhone 11 64 GB với giá 13 triệu đồng là lựa chọn tốt cho khách hàng”, ông Tuấn Anh nói. Số liệu từ hãng nghiên cứu thị trường GfK cho thấy iPhone 13 Pro Max bán được gần 30.000 máy trong tháng 1/2022 tại các kênh online và thành phố lớn. Với giá bán trung bình khoảng 31 triệu đồng, Táo khuyết đã thu về hơn 930 tỷ đồng chỉ với một model.\n",
      "Number_of_sentences: 27\n",
      "number_of_words_in: 504\n",
      "number_of_words_out: 343\n",
      "div: 68.05555555555556\n",
      "number_of_cluster: 14\n"
     ]
    }
   ],
   "source": [
    "if __name__ == \"__main__\":\n",
    "    window = Tk()\n",
    "\n",
    "    window.geometry(\"1005x571\")\n",
    "    window.configure(bg = \"#ffffff\")\n",
    "    window.title(\"Auto Text Summarization\")\n",
    "    canvas = Canvas(\n",
    "        window,\n",
    "        bg = \"#ffffff\",\n",
    "        height = 571,\n",
    "        width = 1005,\n",
    "        bd = 0,\n",
    "        highlightthickness = 0,\n",
    "        relief = \"ridge\")\n",
    "    canvas.place(x = 0, y = 0)\n",
    "\n",
    "    background_img = PhotoImage(file = f\"GUI/background.png\")\n",
    "    background = canvas.create_image(\n",
    "        496.5, 291.0,\n",
    "        image=background_img)\n",
    "\n",
    "    entry0_img = PhotoImage(file = f\"GUI/img_textBox0.png\")\n",
    "    entry0_bg = canvas.create_image(\n",
    "        253.5, 280.5,\n",
    "        image = entry0_img)\n",
    "\n",
    "    entry0 = Text(\n",
    "        bd = 0,\n",
    "        bg = \"#feffff\",\n",
    "        highlightthickness = 0,\n",
    "        wrap=WORD)\n",
    "\n",
    "    entry0.place(\n",
    "        x = 35.0, y = 56,\n",
    "        width = 437.0,\n",
    "        height = 457)\n",
    "\n",
    "    entry1_img = PhotoImage(file = f\"GUI/img_textBox1.png\")\n",
    "    entry1_bg = canvas.create_image(\n",
    "        754.5, 280.5,\n",
    "        image = entry1_img)\n",
    "\n",
    "    entry1 = Text(\n",
    "        bd = 0,\n",
    "        bg = \"#feffff\",\n",
    "        highlightthickness = 0,\n",
    "        wrap=WORD)\n",
    "\n",
    "    entry1.place(\n",
    "        x = 536.0, y = 56,\n",
    "        width = 437.0,\n",
    "        height = 457)\n",
    "    \n",
    "    scale = Scale(\n",
    "        window,\n",
    "        from_=1,\n",
    "        to=5,\n",
    "        orient = 'horizontal',\n",
    "        length = 150,)\n",
    "    scale.place(x = 115, y = 5)\n",
    "    \n",
    "    label = Label(window, text = \"Mức độ tóm tắt:\")\n",
    "    label.place(x = 25, y = 5)\n",
    "\n",
    "    img0 = PhotoImage(file = f\"GUI/img0.png\")\n",
    "    b0 = Button(\n",
    "        image = img0,\n",
    "        borderwidth = 0,\n",
    "        highlightthickness = 0,\n",
    "        command = lambda:btn_clicked(),\n",
    "        relief = \"flat\")\n",
    "\n",
    "    b0.place(\n",
    "        x = 200, y = 525,\n",
    "        width = 108,\n",
    "        height = 39)\n",
    "    \n",
    "    window.resizable(False, False)\n",
    "    window.mainloop()"
   ]
  },
  {
   "cell_type": "code",
   "execution_count": null,
   "id": "4cb4a0fd",
   "metadata": {},
   "outputs": [],
   "source": []
  },
  {
   "cell_type": "code",
   "execution_count": null,
   "id": "6d8a1f46",
   "metadata": {},
   "outputs": [],
   "source": []
  },
  {
   "cell_type": "code",
   "execution_count": null,
   "id": "56985900",
   "metadata": {},
   "outputs": [],
   "source": []
  },
  {
   "cell_type": "code",
   "execution_count": null,
   "id": "6ca2fc10",
   "metadata": {},
   "outputs": [],
   "source": []
  },
  {
   "cell_type": "code",
   "execution_count": null,
   "id": "c0221fab",
   "metadata": {},
   "outputs": [],
   "source": []
  },
  {
   "cell_type": "code",
   "execution_count": null,
   "id": "7cc2b6b5",
   "metadata": {},
   "outputs": [],
   "source": []
  },
  {
   "cell_type": "code",
   "execution_count": null,
   "id": "4a6eec32",
   "metadata": {},
   "outputs": [],
   "source": []
  },
  {
   "cell_type": "code",
   "execution_count": null,
   "id": "02722ade",
   "metadata": {},
   "outputs": [],
   "source": []
  },
  {
   "cell_type": "code",
   "execution_count": null,
   "id": "f5f68ad4",
   "metadata": {},
   "outputs": [],
   "source": []
  },
  {
   "cell_type": "code",
   "execution_count": null,
   "id": "255bb8bb",
   "metadata": {},
   "outputs": [],
   "source": []
  },
  {
   "cell_type": "code",
   "execution_count": null,
   "id": "44c49fe3",
   "metadata": {},
   "outputs": [],
   "source": []
  },
  {
   "cell_type": "code",
   "execution_count": null,
   "id": "67a2fe4e",
   "metadata": {},
   "outputs": [],
   "source": []
  },
  {
   "cell_type": "code",
   "execution_count": null,
   "id": "52374add",
   "metadata": {},
   "outputs": [],
   "source": []
  },
  {
   "cell_type": "code",
   "execution_count": null,
   "id": "21c65930",
   "metadata": {},
   "outputs": [],
   "source": [
    "\n"
   ]
  },
  {
   "cell_type": "code",
   "execution_count": 9,
   "id": "fe416d93",
   "metadata": {},
   "outputs": [],
   "source": []
  },
  {
   "cell_type": "code",
   "execution_count": null,
   "id": "acffd507",
   "metadata": {},
   "outputs": [],
   "source": []
  },
  {
   "cell_type": "code",
   "execution_count": null,
   "id": "f6cb5f13",
   "metadata": {},
   "outputs": [],
   "source": [
    "\n"
   ]
  },
  {
   "cell_type": "code",
   "execution_count": null,
   "id": "c85b2524",
   "metadata": {},
   "outputs": [],
   "source": []
  },
  {
   "cell_type": "code",
   "execution_count": null,
   "id": "ecc94851",
   "metadata": {
    "scrolled": true
   },
   "outputs": [],
   "source": []
  },
  {
   "cell_type": "code",
   "execution_count": null,
   "id": "002aba1b",
   "metadata": {},
   "outputs": [],
   "source": []
  }
 ],
 "metadata": {
  "kernelspec": {
   "display_name": "Python 3",
   "language": "python",
   "name": "python3"
  },
  "language_info": {
   "codemirror_mode": {
    "name": "ipython",
    "version": 3
   },
   "file_extension": ".py",
   "mimetype": "text/x-python",
   "name": "python",
   "nbconvert_exporter": "python",
   "pygments_lexer": "ipython3",
   "version": "3.6.13"
  }
 },
 "nbformat": 4,
 "nbformat_minor": 5
}
