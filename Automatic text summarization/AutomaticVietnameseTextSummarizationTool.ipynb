{
 "cells": [
  {
   "cell_type": "markdown",
   "id": "042951a5",
   "metadata": {},
   "source": [
    "# Import lib"
   ]
  },
  {
   "cell_type": "code",
   "execution_count": 1,
   "id": "b195b8fb",
   "metadata": {},
   "outputs": [],
   "source": [
    "import pickle\n",
    "import numpy as np\n",
    "import string\n",
    "import re\n",
    "from pyvi import ViTokenizer\n",
    "import matplotlib.pyplot as plt\n",
    "import nltk\n",
    "import asyncio\n",
    "\n",
    "from tkinter import *\n",
    "\n",
    "\n",
    "\n",
    "\n",
    "pattern = r'[' + string.punctuation +']'\n",
    "#from nltk.tokenize import word_tokenize"
   ]
  },
  {
   "cell_type": "code",
   "execution_count": 2,
   "id": "be687007",
   "metadata": {},
   "outputs": [],
   "source": [
    "\n",
    "def btn_clicked():\n",
    "    scale_value = scale.get()\n",
    "    entry1.delete('1.0', END)\n",
    "    \n",
    "    sentences = entry0.get(\"1.0\", \"end-1c\")\n",
    "    #print(sentences)\n",
    "    if sentences == '':\n",
    "        print('empty')\n",
    "        entry1.insert(END, \"Empty..\")\n",
    "    else:\n",
    "        OUTPUT = \"   \" + summarize(sentences, scale_value)\n",
    "    \n",
    "        entry1.delete('1.0', END)\n",
    "        entry1.insert(END, OUTPUT)\n",
    "    \n",
    "    \n",
    "    \n",
    "    "
   ]
  },
  {
   "cell_type": "code",
   "execution_count": 3,
   "id": "418dcb6d",
   "metadata": {},
   "outputs": [],
   "source": [
    "def summarize(sentences, scale_value):\n",
    "    #Number of words in input text\n",
    "    words_in = ViTokenizer.tokenize(sentences)\n",
    "    words_in = re.sub(pattern, '', words_in)\n",
    "    number_of_words_in = len(words_in.split())\n",
    "    \n",
    "    #split sentences - lowercase\n",
    "    #sentences=sentences.lower().strip()\n",
    "    sentences=sentences.strip()\n",
    "    print(sentences)\n",
    "    \n",
    "    sentences = nltk.sent_tokenize(sentences)\n",
    "    \n",
    "    number_of_sentences = len(sentences)\n",
    "    \n",
    "    \n",
    "    import sklearn.model_selection\n",
    "    from gensim.models import KeyedVectors \n",
    "    w2v = KeyedVectors.load_word2vec_format(\"Vectors-sg/model.vec\")\n",
    "    \n",
    "    vocab = w2v.vocab\n",
    "    \n",
    "    sentences_vec_array = []\n",
    "    for sentence in sentences:\n",
    "        sentence = re.sub(pattern, '', sentence)\n",
    "        sentence = ViTokenizer.tokenize(sentence).strip()\n",
    "        words = sentence.split()\n",
    "        sentence_vec = np.zeros((300))\n",
    "        for word in words:\n",
    "            if word in vocab:\n",
    "                sentence_vec+=w2v.wv[word]\n",
    "        sentences_vec_array.append(sentence_vec)\n",
    "        \n",
    "    #cluster\n",
    "    from sklearn.cluster import KMeans\n",
    "\n",
    "    #n_clusters = 5\n",
    "    n_clusters = round((number_of_sentences/8)*scale_value)\n",
    "    kmeans = KMeans(n_clusters=n_clusters)\n",
    "    kmeans = kmeans.fit(sentences_vec_array)\n",
    "    \n",
    "    #choose sentence for each cluster\n",
    "    from sklearn.metrics import pairwise_distances_argmin_min\n",
    "\n",
    "    avg = []\n",
    "    for j in range(n_clusters):\n",
    "        idx = np.where(kmeans.labels_ == j)[0]\n",
    "        avg.append(np.mean(idx))\n",
    "\n",
    "    closest, _ = pairwise_distances_argmin_min(kmeans.cluster_centers_, sentences_vec_array)\n",
    "    ordering = sorted(range(n_clusters), key=lambda k: avg[k])\n",
    "    summary = '\\n\\n   '.join([sentences[closest[idx]] for idx in ordering])\n",
    "    summary_e = ' '.join([sentences[closest[idx]] for idx in ordering])\n",
    "    \n",
    "    #Number of words in final text\n",
    "    words_out = ViTokenizer.tokenize(summary)\n",
    "    number_of_words_out = len(words_out.split())\n",
    "    \n",
    "    \n",
    "    #print(\"tom tat: \")\n",
    "    #print(words_out)\n",
    "    print(summary_e)\n",
    "    print(\"Number_of_sentences: \" + str(number_of_sentences))\n",
    "    print(\"number_of_words_in: \" + str(number_of_words_in))\n",
    "    print(\"number_of_words_out: \" + str(number_of_words_out))\n",
    "    print(\"div: \" + str((number_of_words_out/number_of_words_in)*100))\n",
    "    print(\"number_of_cluster: \" + str(n_clusters))\n",
    "    return summary\n",
    "    \n",
    "    \n",
    "    "
   ]
  },
  {
   "cell_type": "code",
   "execution_count": null,
   "id": "ef88c75a",
   "metadata": {},
   "outputs": [
    {
     "name": "stdout",
     "output_type": "stream",
     "text": [
      "Hàng trăm trang trại, nhà cửa không móng, không trụ sắt cùng cây cối được trồng dày đặc trên đất dự kiến giải tỏa làm cao tốc Bắc Nam phía Đông.\n",
      "\n",
      "Cuối giờ chiều 17/3, tại một nhà dân có mặt tiền đường Hồ Chí Minh nhánh Đông, đoạn qua thôn Phú Hòa, xã Phú Thủy, huyện Lệ Thủy, tỉnh Quảng Bình, hơn chục thợ xây gấp rút hoàn thành ba dãy chuồng trại cho gia chủ. Ở dãy chuồng phía sau, năm thợ xây đang cắt thép, đưa tấm lợp xi măng lên mái. Các cột chống mái, thanh đà và đòn tay đều làm từ gỗ tạp, neo buộc sơ sài, thừa ra phía ngoài tấm lợp. Móng chuồng xây nông, tường không có trụ sắt.\n",
      "Dãy chuồng ở giữa đã hoàn thành tường bao, mái được chống đỡ bằng những cây tre lồ ô to đã khô. Dãy chuồng trại phía trước sử dụng xà gồ sắt, lợp tôn, thợ đang xây tường. Ba dãy chuồng trại này rộng hàng trăm mét vuông. Dự kiến trong 2-3 ngày tới, việc xây dựng sẽ hoàn tất.\n",
      "\n",
      "Trên diện tích vườn còn lại, chủ nhà thuê máy xúc cỡ nhỏ về đào hố trồng hàng trăm cây chuối, thơm, sâm cau, sanh... xen kẽ nhau dày đặc. Trong vườn có cắm một cọc bê tông cao khoảng 50 cm, sơn trắng ở dưới, đỏ phía trên. Cọc có ghi chữ \"GPMB\" dọc theo trụ, mặt chữ hướng về tim đường Hồ Chí Minh.\n",
      "\n",
      "Chủ nhà cho biết nếu bị giải tỏa, đất vườn nhà ông chỉ được đền bù mấy chục nghìn đồng mỗi mét vuông, trong khi mỗi mét ngang đất mặt tiền đường Hồ Chí Minh bán tới 50 triệu đồng. Nếu xây chuồng trại, ông có thể hưởng phần chênh lệch vì mỗi mét vuông xây dựng giá thành 500.000-600.000 đồng, trong khi giá trị nhà nước đền bù cao hơn nhiều lần.\n",
      "\n",
      "Tuy nhiên, ông cũng thừa nhận xây dựng chuồng trại chờ đền bù như \"đặt bẫy giữa rừng, nếu cao tốc không đi qua vườn, không được đền bù coi như mất hết\".\n",
      "Dọc đường Hồ Chí Minh qua thôn Phú Hòa, hàng chục đống gạch không nung, cát sạn, xi măng và cây cối đang được tập kết để xây dựng chuồng trại, lập trang trại. Những dãy chuồng cao quá đầu người, rộng hàng chục đến hàng trăm mét vuông được xây san sát nhau. Chủ nhà liên tục quan sát, đốc thúc nhóm thợ xây dựng cho kịp tiến độ.\n",
      "\n",
      "Tại thị trấn Nông trường Lệ Ninh, các xã Sơn Thủy, Trường Thủy, huyện Lệ Thủy, người dân cũng đang xây dựng nhà cửa, cơi nới trái phép. Các công trình này đều nằm sát đường Hồ Chí Minh nhánh Đông, vị trí dự kiến cao tốc Bắc Nam phía Đông sẽ đi qua. UBND thị trấn Nông trường Lệ Ninh đã đình chỉ 20 trường hợp do xây dựng không giấy phép và xây trên đất nông nghiệp.\n",
      "\n",
      "32 km cao tốc Bắc Nam phía Đông sẽ đi qua 5 xã, thị trấn của huyện Lệ Thủy, dự kiến có 150 hộ phải di dời, giải tỏa. Ngày 16/3, huyện nhận bàn giao cột mốc giải phóng mặt bằng đi qua 3 xã. Số cột mốc còn lại dự kiến bàn giao chậm nhất cuối tháng 6. Tuy nhiên, thời gian qua, các đơn vị khảo sát thực địa, thống nhất hướng tuyến với địa phương nên dù chưa cắm mốc, người dân đoán biết được hướng tuyến, tự ý xây dựng ồ ạt chờ đền bù.\n",
      "\n",
      "Ông Nguyễn Xuân Tường, Trưởng phòng Tài nguyên và Môi trường, kiêm Phó chủ tịch Hội đồng giải phóng mặt bằng huyện Lệ Thủy, cho biết nhiều hộ dân xây dựng sai quy định, cố tình tạo lập tài sản trên đất nông nghiệp. \"Tổ phản ứng nhanh của huyện lập nhiều biên bản hiện trường làm cơ sở giải phóng mặt bằng sau này. Những trường hợp vi phạm sẽ không được đền bù\", ông Tường nói.\n"
     ]
    },
    {
     "name": "stderr",
     "output_type": "stream",
     "text": [
      "C:\\Users\\lego2\\anaconda3\\envs\\python36-clone-GUI\\lib\\site-packages\\ipykernel_launcher.py:31: DeprecationWarning: Call to deprecated `wv` (Attribute will be removed in 4.0.0, use self instead).\n"
     ]
    },
    {
     "name": "stdout",
     "output_type": "stream",
     "text": [
      "Dãy chuồng ở giữa đã hoàn thành tường bao, mái được chống đỡ bằng những cây tre lồ ô to đã khô. Trên diện tích vườn còn lại, chủ nhà thuê máy xúc cỡ nhỏ về đào hố trồng hàng trăm cây chuối, thơm, sâm cau, sanh... xen kẽ nhau dày đặc. Chủ nhà cho biết nếu bị giải tỏa, đất vườn nhà ông chỉ được đền bù mấy chục nghìn đồng mỗi mét vuông, trong khi mỗi mét ngang đất mặt tiền đường Hồ Chí Minh bán tới 50 triệu đồng. 32 km cao tốc Bắc Nam phía Đông sẽ đi qua 5 xã, thị trấn của huyện Lệ Thủy, dự kiến có 150 hộ phải di dời, giải tỏa. Những trường hợp vi phạm sẽ không được đền bù\", ông Tường nói. Tuy nhiên, thời gian qua, các đơn vị khảo sát thực địa, thống nhất hướng tuyến với địa phương nên dù chưa cắm mốc, người dân đoán biết được hướng tuyến, tự ý xây dựng ồ ạt chờ đền bù. Ông Nguyễn Xuân Tường, Trưởng phòng Tài nguyên và Môi trường, kiêm Phó chủ tịch Hội đồng giải phóng mặt bằng huyện Lệ Thủy, cho biết nhiều hộ dân xây dựng sai quy định, cố tình tạo lập tài sản trên đất nông nghiệp.\n",
      "Number_of_sentences: 28\n",
      "number_of_words_in: 529\n",
      "number_of_words_out: 196\n",
      "div: 37.051039697542535\n",
      "number_of_cluster: 7\n",
      "Hàng trăm trang trại, nhà cửa không móng, không trụ sắt cùng cây cối được trồng dày đặc trên đất dự kiến giải tỏa làm cao tốc Bắc Nam phía Đông.\n",
      "\n",
      "Cuối giờ chiều 17/3, tại một nhà dân có mặt tiền đường Hồ Chí Minh nhánh Đông, đoạn qua thôn Phú Hòa, xã Phú Thủy, huyện Lệ Thủy, tỉnh Quảng Bình, hơn chục thợ xây gấp rút hoàn thành ba dãy chuồng trại cho gia chủ. Ở dãy chuồng phía sau, năm thợ xây đang cắt thép, đưa tấm lợp xi măng lên mái. Các cột chống mái, thanh đà và đòn tay đều làm từ gỗ tạp, neo buộc sơ sài, thừa ra phía ngoài tấm lợp. Móng chuồng xây nông, tường không có trụ sắt.\n",
      "Dãy chuồng ở giữa đã hoàn thành tường bao, mái được chống đỡ bằng những cây tre lồ ô to đã khô. Dãy chuồng trại phía trước sử dụng xà gồ sắt, lợp tôn, thợ đang xây tường. Ba dãy chuồng trại này rộng hàng trăm mét vuông. Dự kiến trong 2-3 ngày tới, việc xây dựng sẽ hoàn tất.\n",
      "\n",
      "Trên diện tích vườn còn lại, chủ nhà thuê máy xúc cỡ nhỏ về đào hố trồng hàng trăm cây chuối, thơm, sâm cau, sanh... xen kẽ nhau dày đặc. Trong vườn có cắm một cọc bê tông cao khoảng 50 cm, sơn trắng ở dưới, đỏ phía trên. Cọc có ghi chữ \"GPMB\" dọc theo trụ, mặt chữ hướng về tim đường Hồ Chí Minh.\n",
      "\n",
      "Chủ nhà cho biết nếu bị giải tỏa, đất vườn nhà ông chỉ được đền bù mấy chục nghìn đồng mỗi mét vuông, trong khi mỗi mét ngang đất mặt tiền đường Hồ Chí Minh bán tới 50 triệu đồng. Nếu xây chuồng trại, ông có thể hưởng phần chênh lệch vì mỗi mét vuông xây dựng giá thành 500.000-600.000 đồng, trong khi giá trị nhà nước đền bù cao hơn nhiều lần.\n",
      "\n",
      "Tuy nhiên, ông cũng thừa nhận xây dựng chuồng trại chờ đền bù như \"đặt bẫy giữa rừng, nếu cao tốc không đi qua vườn, không được đền bù coi như mất hết\".\n",
      "Dọc đường Hồ Chí Minh qua thôn Phú Hòa, hàng chục đống gạch không nung, cát sạn, xi măng và cây cối đang được tập kết để xây dựng chuồng trại, lập trang trại. Những dãy chuồng cao quá đầu người, rộng hàng chục đến hàng trăm mét vuông được xây san sát nhau. Chủ nhà liên tục quan sát, đốc thúc nhóm thợ xây dựng cho kịp tiến độ.\n",
      "\n",
      "Tại thị trấn Nông trường Lệ Ninh, các xã Sơn Thủy, Trường Thủy, huyện Lệ Thủy, người dân cũng đang xây dựng nhà cửa, cơi nới trái phép. Các công trình này đều nằm sát đường Hồ Chí Minh nhánh Đông, vị trí dự kiến cao tốc Bắc Nam phía Đông sẽ đi qua. UBND thị trấn Nông trường Lệ Ninh đã đình chỉ 20 trường hợp do xây dựng không giấy phép và xây trên đất nông nghiệp.\n",
      "\n",
      "32 km cao tốc Bắc Nam phía Đông sẽ đi qua 5 xã, thị trấn của huyện Lệ Thủy, dự kiến có 150 hộ phải di dời, giải tỏa. Ngày 16/3, huyện nhận bàn giao cột mốc giải phóng mặt bằng đi qua 3 xã. Số cột mốc còn lại dự kiến bàn giao chậm nhất cuối tháng 6. Tuy nhiên, thời gian qua, các đơn vị khảo sát thực địa, thống nhất hướng tuyến với địa phương nên dù chưa cắm mốc, người dân đoán biết được hướng tuyến, tự ý xây dựng ồ ạt chờ đền bù.\n",
      "\n",
      "Ông Nguyễn Xuân Tường, Trưởng phòng Tài nguyên và Môi trường, kiêm Phó chủ tịch Hội đồng giải phóng mặt bằng huyện Lệ Thủy, cho biết nhiều hộ dân xây dựng sai quy định, cố tình tạo lập tài sản trên đất nông nghiệp. \"Tổ phản ứng nhanh của huyện lập nhiều biên bản hiện trường làm cơ sở giải phóng mặt bằng sau này. Những trường hợp vi phạm sẽ không được đền bù\", ông Tường nói.\n"
     ]
    },
    {
     "name": "stderr",
     "output_type": "stream",
     "text": [
      "C:\\Users\\lego2\\anaconda3\\envs\\python36-clone-GUI\\lib\\site-packages\\ipykernel_launcher.py:31: DeprecationWarning: Call to deprecated `wv` (Attribute will be removed in 4.0.0, use self instead).\n"
     ]
    },
    {
     "name": "stdout",
     "output_type": "stream",
     "text": [
      "Cuối giờ chiều 17/3, tại một nhà dân có mặt tiền đường Hồ Chí Minh nhánh Đông, đoạn qua thôn Phú Hòa, xã Phú Thủy, huyện Lệ Thủy, tỉnh Quảng Bình, hơn chục thợ xây gấp rút hoàn thành ba dãy chuồng trại cho gia chủ. Dãy chuồng trại phía trước sử dụng xà gồ sắt, lợp tôn, thợ đang xây tường. Trên diện tích vườn còn lại, chủ nhà thuê máy xúc cỡ nhỏ về đào hố trồng hàng trăm cây chuối, thơm, sâm cau, sanh... xen kẽ nhau dày đặc. Chủ nhà cho biết nếu bị giải tỏa, đất vườn nhà ông chỉ được đền bù mấy chục nghìn đồng mỗi mét vuông, trong khi mỗi mét ngang đất mặt tiền đường Hồ Chí Minh bán tới 50 triệu đồng. Dọc đường Hồ Chí Minh qua thôn Phú Hòa, hàng chục đống gạch không nung, cát sạn, xi măng và cây cối đang được tập kết để xây dựng chuồng trại, lập trang trại. Những trường hợp vi phạm sẽ không được đền bù\", ông Tường nói. Tuy nhiên, ông cũng thừa nhận xây dựng chuồng trại chờ đền bù như \"đặt bẫy giữa rừng, nếu cao tốc không đi qua vườn, không được đền bù coi như mất hết\". Tại thị trấn Nông trường Lệ Ninh, các xã Sơn Thủy, Trường Thủy, huyện Lệ Thủy, người dân cũng đang xây dựng nhà cửa, cơi nới trái phép. 32 km cao tốc Bắc Nam phía Đông sẽ đi qua 5 xã, thị trấn của huyện Lệ Thủy, dự kiến có 150 hộ phải di dời, giải tỏa. Ông Nguyễn Xuân Tường, Trưởng phòng Tài nguyên và Môi trường, kiêm Phó chủ tịch Hội đồng giải phóng mặt bằng huyện Lệ Thủy, cho biết nhiều hộ dân xây dựng sai quy định, cố tình tạo lập tài sản trên đất nông nghiệp.\n",
      "Number_of_sentences: 28\n",
      "number_of_words_in: 529\n",
      "number_of_words_out: 287\n",
      "div: 54.25330812854442\n",
      "number_of_cluster: 10\n"
     ]
    }
   ],
   "source": [
    "if __name__ == \"__main__\":\n",
    "    window = Tk()\n",
    "\n",
    "    window.geometry(\"1005x571\")\n",
    "    window.configure(bg = \"#ffffff\")\n",
    "    window.title(\"Auto Text Summarization\")\n",
    "    canvas = Canvas(\n",
    "        window,\n",
    "        bg = \"#ffffff\",\n",
    "        height = 571,\n",
    "        width = 1005,\n",
    "        bd = 0,\n",
    "        highlightthickness = 0,\n",
    "        relief = \"ridge\")\n",
    "    canvas.place(x = 0, y = 0)\n",
    "\n",
    "    background_img = PhotoImage(file = f\"GUI/background.png\")\n",
    "    background = canvas.create_image(\n",
    "        496.5, 291.0,\n",
    "        image=background_img)\n",
    "\n",
    "    entry0_img = PhotoImage(file = f\"GUI/img_textBox0.png\")\n",
    "    entry0_bg = canvas.create_image(\n",
    "        253.5, 280.5,\n",
    "        image = entry0_img)\n",
    "\n",
    "    entry0 = Text(\n",
    "        bd = 0,\n",
    "        bg = \"#feffff\",\n",
    "        highlightthickness = 0,\n",
    "        wrap=WORD)\n",
    "\n",
    "    entry0.place(\n",
    "        x = 35.0, y = 56,\n",
    "        width = 437.0,\n",
    "        height = 457)\n",
    "\n",
    "    entry1_img = PhotoImage(file = f\"GUI/img_textBox1.png\")\n",
    "    entry1_bg = canvas.create_image(\n",
    "        754.5, 280.5,\n",
    "        image = entry1_img)\n",
    "\n",
    "    entry1 = Text(\n",
    "        bd = 0,\n",
    "        bg = \"#feffff\",\n",
    "        highlightthickness = 0,\n",
    "        wrap=WORD)\n",
    "\n",
    "    entry1.place(\n",
    "        x = 536.0, y = 56,\n",
    "        width = 437.0,\n",
    "        height = 457)\n",
    "    \n",
    "    scale = Scale(\n",
    "        window,\n",
    "        from_=1,\n",
    "        to=5,\n",
    "        orient = 'horizontal',\n",
    "        length = 150,)\n",
    "    scale.place(x = 115, y = 5)\n",
    "    \n",
    "    label = Label(window, text = \"Mức độ tóm tắt:\")\n",
    "    label.place(x = 25, y = 5)\n",
    "\n",
    "    img0 = PhotoImage(file = f\"GUI/img0.png\")\n",
    "    b0 = Button(\n",
    "        image = img0,\n",
    "        borderwidth = 0,\n",
    "        highlightthickness = 0,\n",
    "        command = lambda:btn_clicked(),\n",
    "        relief = \"flat\")\n",
    "\n",
    "    b0.place(\n",
    "        x = 200, y = 525,\n",
    "        width = 108,\n",
    "        height = 39)\n",
    "    \n",
    "    window.resizable(False, False)\n",
    "    window.mainloop()"
   ]
  },
  {
   "cell_type": "code",
   "execution_count": null,
   "id": "4cb4a0fd",
   "metadata": {},
   "outputs": [],
   "source": []
  },
  {
   "cell_type": "code",
   "execution_count": null,
   "id": "6d8a1f46",
   "metadata": {},
   "outputs": [],
   "source": []
  },
  {
   "cell_type": "code",
   "execution_count": null,
   "id": "56985900",
   "metadata": {},
   "outputs": [],
   "source": []
  },
  {
   "cell_type": "code",
   "execution_count": null,
   "id": "6ca2fc10",
   "metadata": {},
   "outputs": [],
   "source": []
  },
  {
   "cell_type": "code",
   "execution_count": null,
   "id": "c0221fab",
   "metadata": {},
   "outputs": [],
   "source": []
  },
  {
   "cell_type": "code",
   "execution_count": null,
   "id": "7cc2b6b5",
   "metadata": {},
   "outputs": [],
   "source": []
  },
  {
   "cell_type": "code",
   "execution_count": null,
   "id": "4a6eec32",
   "metadata": {},
   "outputs": [],
   "source": []
  },
  {
   "cell_type": "code",
   "execution_count": null,
   "id": "02722ade",
   "metadata": {},
   "outputs": [],
   "source": []
  },
  {
   "cell_type": "code",
   "execution_count": null,
   "id": "f5f68ad4",
   "metadata": {},
   "outputs": [],
   "source": []
  },
  {
   "cell_type": "code",
   "execution_count": null,
   "id": "255bb8bb",
   "metadata": {},
   "outputs": [],
   "source": []
  },
  {
   "cell_type": "code",
   "execution_count": null,
   "id": "44c49fe3",
   "metadata": {},
   "outputs": [],
   "source": []
  },
  {
   "cell_type": "code",
   "execution_count": null,
   "id": "67a2fe4e",
   "metadata": {},
   "outputs": [],
   "source": []
  },
  {
   "cell_type": "code",
   "execution_count": null,
   "id": "52374add",
   "metadata": {},
   "outputs": [],
   "source": []
  },
  {
   "cell_type": "code",
   "execution_count": null,
   "id": "21c65930",
   "metadata": {},
   "outputs": [],
   "source": [
    "\n"
   ]
  },
  {
   "cell_type": "code",
   "execution_count": 9,
   "id": "fe416d93",
   "metadata": {},
   "outputs": [],
   "source": []
  },
  {
   "cell_type": "code",
   "execution_count": null,
   "id": "acffd507",
   "metadata": {},
   "outputs": [],
   "source": []
  },
  {
   "cell_type": "code",
   "execution_count": null,
   "id": "f6cb5f13",
   "metadata": {},
   "outputs": [],
   "source": [
    "\n"
   ]
  },
  {
   "cell_type": "code",
   "execution_count": null,
   "id": "c85b2524",
   "metadata": {},
   "outputs": [],
   "source": []
  },
  {
   "cell_type": "code",
   "execution_count": null,
   "id": "ecc94851",
   "metadata": {
    "scrolled": true
   },
   "outputs": [],
   "source": []
  },
  {
   "cell_type": "code",
   "execution_count": null,
   "id": "002aba1b",
   "metadata": {},
   "outputs": [],
   "source": []
  }
 ],
 "metadata": {
  "kernelspec": {
   "display_name": "Python 3",
   "language": "python",
   "name": "python3"
  },
  "language_info": {
   "codemirror_mode": {
    "name": "ipython",
    "version": 3
   },
   "file_extension": ".py",
   "mimetype": "text/x-python",
   "name": "python",
   "nbconvert_exporter": "python",
   "pygments_lexer": "ipython3",
   "version": "3.6.13"
  }
 },
 "nbformat": 4,
 "nbformat_minor": 5
}
