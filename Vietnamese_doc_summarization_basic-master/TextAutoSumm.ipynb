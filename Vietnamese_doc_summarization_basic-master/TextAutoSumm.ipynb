{
 "cells": [
  {
   "cell_type": "markdown",
   "id": "042951a5",
   "metadata": {},
   "source": [
    "# Import lib"
   ]
  },
  {
   "cell_type": "code",
   "execution_count": 62,
   "id": "b195b8fb",
   "metadata": {},
   "outputs": [],
   "source": [
    "import pickle\n",
    "import numpy as np\n",
    "import string\n",
    "import re\n",
    "from pyvi import ViTokenizer\n",
    "import matplotlib.pyplot as plt\n",
    "import nltk\n",
    "#from nltk.tokenize import word_tokenize"
   ]
  },
  {
   "cell_type": "code",
   "execution_count": 63,
   "id": "3cd6d8b4",
   "metadata": {},
   "outputs": [],
   "source": [
    "pattern = r'[' + string.punctuation +']'"
   ]
  },
  {
   "cell_type": "code",
   "execution_count": 64,
   "id": "27618608",
   "metadata": {
    "scrolled": true
   },
   "outputs": [],
   "source": [
    "sentences = (\"Trong khi đó, trong kỳ họp Quốc hội bất thường khai mạc ngày 4/1, Chính phủ có trình Quốc hội dự thảo một luật sửa 8 luật (trong đó có Luật Đầu tư), nhưng lại không có nội dung về sửa đổi phân cấp, phân quyền chấp thuận chủ trương đầu tư xây dựng khu công nghiệp. 'Chúng tôi đề nghị Chính phủ bổ sung vấn đề này vào để sớm sửa quy định. Đi theo với sự phân cấp, phân quyền là tăng cường kiểm tra, giám sát, cá thể hóa trách nhiệm', ông Quảng đề xuất. Được mời phát biểu, Chủ tịch UBND TP.HCM Phan Văn Mãi cũng nhắc đến một luật sửa 8 luật đang được Chính phủ trình Quốc hội. Ông đề nghị sau khi Quốc hội thông qua thì Chính phủ sớm có hướng dẫn, phân cấp, phân quyền để luật đi vào cuộc sống. Những vấn đề cần phân cấp, phân quyền được Chủ tịch UBND TP.HCM đề xuất là phê chuẩn, điều chỉnh cục bộ quy hoạch, tách dự án giải phóng mặt bằng ra khỏi dự án thông thường... Lãnh đạo TP.HCM cũng đề nghị, kiến nghị sớm sửa đổi Luật Đất đai. Là tham luận cuối cùng trong buổi sáng, Bí thư Thành ủy Thái Nguyên Nguyễn Thanh Hải cũng đề nghị quan tâm phân cấp, phân quyền nhiều hơn cho địa phương. Bà Hải đặc biệt nhấn mạnh đến việc triển khai tách dự án giải phóng mặt bằng ra khỏi dự án thông thường, như vậy mới có thể tạo sự đột biến trong việc thu hút đầu tư.\")"
   ]
  },
  {
   "cell_type": "code",
   "execution_count": 65,
   "id": "418dcb6d",
   "metadata": {},
   "outputs": [
    {
     "name": "stdout",
     "output_type": "stream",
     "text": [
      "Trong khi đó, trong kỳ họp Quốc hội bất thường khai mạc ngày 4/1, Chính phủ có trình Quốc hội dự thảo một luật sửa 8 luật (trong đó có Luật Đầu tư), nhưng lại không có nội dung về sửa đổi phân cấp, phân quyền chấp thuận chủ trương đầu tư xây dựng khu công nghiệp. 'Chúng tôi đề nghị Chính phủ bổ sung vấn đề này vào để sớm sửa quy định. Đi theo với sự phân cấp, phân quyền là tăng cường kiểm tra, giám sát, cá thể hóa trách nhiệm', ông Quảng đề xuất. Được mời phát biểu, Chủ tịch UBND TP.HCM Phan Văn Mãi cũng nhắc đến một luật sửa 8 luật đang được Chính phủ trình Quốc hội. Ông đề nghị sau khi Quốc hội thông qua thì Chính phủ sớm có hướng dẫn, phân cấp, phân quyền để luật đi vào cuộc sống. Những vấn đề cần phân cấp, phân quyền được Chủ tịch UBND TP.HCM đề xuất là phê chuẩn, điều chỉnh cục bộ quy hoạch, tách dự án giải phóng mặt bằng ra khỏi dự án thông thường... Lãnh đạo TP.HCM cũng đề nghị, kiến nghị sớm sửa đổi Luật Đất đai. Là tham luận cuối cùng trong buổi sáng, Bí thư Thành ủy Thái Nguyên Nguyễn Thanh Hải cũng đề nghị quan tâm phân cấp, phân quyền nhiều hơn cho địa phương. Bà Hải đặc biệt nhấn mạnh đến việc triển khai tách dự án giải phóng mặt bằng ra khỏi dự án thông thường, như vậy mới có thể tạo sự đột biến trong việc thu hút đầu tư.\n"
     ]
    }
   ],
   "source": [
    "print(sentences)"
   ]
  },
  {
   "cell_type": "code",
   "execution_count": 66,
   "id": "6ca2fc10",
   "metadata": {},
   "outputs": [],
   "source": [
    "#Number of words in input text\n",
    "words_in = ViTokenizer.tokenize(sentences)\n",
    "words_in = re.sub(pattern, '', words_in)\n",
    "number_of_words_in = len(words_in.split())"
   ]
  },
  {
   "cell_type": "code",
   "execution_count": 67,
   "id": "56985900",
   "metadata": {},
   "outputs": [],
   "source": [
    "#sentences=sentences.lower().strip()\n",
    "sentences=sentences.strip()"
   ]
  },
  {
   "cell_type": "code",
   "execution_count": 68,
   "id": "0cae683d",
   "metadata": {},
   "outputs": [
    {
     "data": {
      "text/plain": [
       "\"Trong khi đó, trong kỳ họp Quốc hội bất thường khai mạc ngày 4/1, Chính phủ có trình Quốc hội dự thảo một luật sửa 8 luật (trong đó có Luật Đầu tư), nhưng lại không có nội dung về sửa đổi phân cấp, phân quyền chấp thuận chủ trương đầu tư xây dựng khu công nghiệp. 'Chúng tôi đề nghị Chính phủ bổ sung vấn đề này vào để sớm sửa quy định. Đi theo với sự phân cấp, phân quyền là tăng cường kiểm tra, giám sát, cá thể hóa trách nhiệm', ông Quảng đề xuất. Được mời phát biểu, Chủ tịch UBND TP.HCM Phan Văn Mãi cũng nhắc đến một luật sửa 8 luật đang được Chính phủ trình Quốc hội. Ông đề nghị sau khi Quốc hội thông qua thì Chính phủ sớm có hướng dẫn, phân cấp, phân quyền để luật đi vào cuộc sống. Những vấn đề cần phân cấp, phân quyền được Chủ tịch UBND TP.HCM đề xuất là phê chuẩn, điều chỉnh cục bộ quy hoạch, tách dự án giải phóng mặt bằng ra khỏi dự án thông thường... Lãnh đạo TP.HCM cũng đề nghị, kiến nghị sớm sửa đổi Luật Đất đai. Là tham luận cuối cùng trong buổi sáng, Bí thư Thành ủy Thái Nguyên Nguyễn Thanh Hải cũng đề nghị quan tâm phân cấp, phân quyền nhiều hơn cho địa phương. Bà Hải đặc biệt nhấn mạnh đến việc triển khai tách dự án giải phóng mặt bằng ra khỏi dự án thông thường, như vậy mới có thể tạo sự đột biến trong việc thu hút đầu tư.\""
      ]
     },
     "execution_count": 68,
     "metadata": {},
     "output_type": "execute_result"
    }
   ],
   "source": [
    "sentences"
   ]
  },
  {
   "cell_type": "markdown",
   "id": "0c4ef546",
   "metadata": {},
   "source": [
    "# Sentences Tokenizer"
   ]
  },
  {
   "cell_type": "code",
   "execution_count": 69,
   "id": "c0221fab",
   "metadata": {},
   "outputs": [
    {
     "name": "stdout",
     "output_type": "stream",
     "text": [
      "['Trong khi đó, trong kỳ họp Quốc hội bất thường khai mạc ngày 4/1, Chính phủ có trình Quốc hội dự thảo một luật sửa 8 luật (trong đó có Luật Đầu tư), nhưng lại không có nội dung về sửa đổi phân cấp, phân quyền chấp thuận chủ trương đầu tư xây dựng khu công nghiệp.', \"'Chúng tôi đề nghị Chính phủ bổ sung vấn đề này vào để sớm sửa quy định.\", \"Đi theo với sự phân cấp, phân quyền là tăng cường kiểm tra, giám sát, cá thể hóa trách nhiệm', ông Quảng đề xuất.\", 'Được mời phát biểu, Chủ tịch UBND TP.HCM Phan Văn Mãi cũng nhắc đến một luật sửa 8 luật đang được Chính phủ trình Quốc hội.', 'Ông đề nghị sau khi Quốc hội thông qua thì Chính phủ sớm có hướng dẫn, phân cấp, phân quyền để luật đi vào cuộc sống.', 'Những vấn đề cần phân cấp, phân quyền được Chủ tịch UBND TP.HCM đề xuất là phê chuẩn, điều chỉnh cục bộ quy hoạch, tách dự án giải phóng mặt bằng ra khỏi dự án thông thường... Lãnh đạo TP.HCM cũng đề nghị, kiến nghị sớm sửa đổi Luật Đất đai.', 'Là tham luận cuối cùng trong buổi sáng, Bí thư Thành ủy Thái Nguyên Nguyễn Thanh Hải cũng đề nghị quan tâm phân cấp, phân quyền nhiều hơn cho địa phương.', 'Bà Hải đặc biệt nhấn mạnh đến việc triển khai tách dự án giải phóng mặt bằng ra khỏi dự án thông thường, như vậy mới có thể tạo sự đột biến trong việc thu hút đầu tư.']\n",
      "Number_of_sentences: 8\n"
     ]
    }
   ],
   "source": [
    "sentences = nltk.sent_tokenize(sentences)\n",
    "print(sentences)\n",
    "number_of_sentences = len(sentences)\n",
    "print(\"Number_of_sentences: \" + str(number_of_sentences))"
   ]
  },
  {
   "cell_type": "markdown",
   "id": "7c18a5d8",
   "metadata": {},
   "source": [
    "# Sentences to vector"
   ]
  },
  {
   "cell_type": "code",
   "execution_count": 70,
   "id": "7cc2b6b5",
   "metadata": {},
   "outputs": [],
   "source": [
    "import sklearn.model_selection\n",
    "from gensim.models import KeyedVectors \n",
    "\n",
    "\n",
    "w2v = KeyedVectors.load_word2vec_format(\"Vectors-sg/vi-300-5-40000-5-fullsplit-sg-token.vec\")"
   ]
  },
  {
   "cell_type": "code",
   "execution_count": 71,
   "id": "4a6eec32",
   "metadata": {},
   "outputs": [],
   "source": [
    "vocab = w2v.vocab"
   ]
  },
  {
   "cell_type": "code",
   "execution_count": 72,
   "id": "02722ade",
   "metadata": {},
   "outputs": [
    {
     "name": "stderr",
     "output_type": "stream",
     "text": [
      "C:\\Users\\lego2\\anaconda3\\envs\\python36-clone-GUI\\lib\\site-packages\\ipykernel_launcher.py:9: DeprecationWarning: Call to deprecated `wv` (Attribute will be removed in 4.0.0, use self instead).\n",
      "  if __name__ == '__main__':\n"
     ]
    }
   ],
   "source": [
    "sentences_vec_array = []\n",
    "for sentence in sentences:\n",
    "    sentence = re.sub(pattern, '', sentence)\n",
    "    sentence = ViTokenizer.tokenize(sentence).strip()\n",
    "    words = sentence.split()\n",
    "    sentence_vec = np.zeros((300))\n",
    "    for word in words:\n",
    "        if word in vocab:\n",
    "            sentence_vec+=w2v.wv[word]\n",
    "    sentences_vec_array.append(sentence_vec)\n"
   ]
  },
  {
   "cell_type": "code",
   "execution_count": null,
   "id": "f5f68ad4",
   "metadata": {},
   "outputs": [],
   "source": []
  },
  {
   "cell_type": "code",
   "execution_count": 73,
   "id": "255bb8bb",
   "metadata": {},
   "outputs": [],
   "source": [
    "from sklearn.cluster import KMeans\n",
    "\n",
    "n_clusters = 3\n",
    "#n_clusters = round(number_of_sentences/2)\n",
    "kmeans = KMeans(n_clusters=n_clusters)\n",
    "kmeans = kmeans.fit(sentences_vec_array)"
   ]
  },
  {
   "cell_type": "code",
   "execution_count": 82,
   "id": "44c49fe3",
   "metadata": {},
   "outputs": [],
   "source": [
    "\n",
    "from sklearn.metrics import pairwise_distances_argmin_min\n",
    "\n",
    "avg = []\n",
    "for j in range(n_clusters):\n",
    "    idx = np.where(kmeans.labels_ == j)[0]\n",
    "    avg.append(np.mean(idx))\n",
    "\n",
    "closest, _ = pairwise_distances_argmin_min(kmeans.cluster_centers_, sentences_vec_array)\n",
    "ordering = sorted(range(n_clusters), key=lambda k: avg[k])\n",
    "summary = '\\n'.join([sentences[closest[idx]] for idx in ordering])"
   ]
  },
  {
   "cell_type": "code",
   "execution_count": null,
   "id": "a0b7b841",
   "metadata": {},
   "outputs": [],
   "source": []
  },
  {
   "cell_type": "code",
   "execution_count": 83,
   "id": "52374add",
   "metadata": {},
   "outputs": [
    {
     "name": "stdout",
     "output_type": "stream",
     "text": [
      "tom tat: \n",
      "Trong khi đó, trong kỳ họp Quốc hội bất thường khai mạc ngày 4/1, Chính phủ có trình Quốc hội dự thảo một luật sửa 8 luật (trong đó có Luật Đầu tư), nhưng lại không có nội dung về sửa đổi phân cấp, phân quyền chấp thuận chủ trương đầu tư xây dựng khu công nghiệp.\n",
      "Ông đề nghị sau khi Quốc hội thông qua thì Chính phủ sớm có hướng dẫn, phân cấp, phân quyền để luật đi vào cuộc sống.\n",
      "Những vấn đề cần phân cấp, phân quyền được Chủ tịch UBND TP.HCM đề xuất là phê chuẩn, điều chỉnh cục bộ quy hoạch, tách dự án giải phóng mặt bằng ra khỏi dự án thông thường... Lãnh đạo TP.HCM cũng đề nghị, kiến nghị sớm sửa đổi Luật Đất đai.\n"
     ]
    }
   ],
   "source": [
    "print(\"tom tat: \")\n",
    "print(summary)"
   ]
  },
  {
   "cell_type": "code",
   "execution_count": 78,
   "id": "67a2fe4e",
   "metadata": {},
   "outputs": [
    {
     "name": "stdout",
     "output_type": "stream",
     "text": [
      "Trong khi đó , trong kỳ họp Quốc_hội bất_thường khai_mạc ngày 4 / 1 , Chính_phủ có trình Quốc_hội dự_thảo một luật sửa 8 luật ( trong đó có Luật Đầu_tư ) , nhưng lại không có nội_dung về sửa_đổi phân_cấp , phân_quyền chấp_thuận chủ_trương đầu_tư xây_dựng khu công_nghiệp . Ông đề_nghị sau khi Quốc_hội thông_qua thì Chính_phủ sớm có hướng_dẫn , phân_cấp , phân_quyền để luật đi vào cuộc_sống . Những vấn_đề cần phân_cấp , phân_quyền được Chủ_tịch UBND TP. HCM đề_xuất là phê_chuẩn , điều_chỉnh cục_bộ quy_hoạch , tách dự_án giải_phóng mặt_bằng ra khỏi dự_án thông_thường ... Lãnh_đạo TP. HCM cũng đề_nghị , kiến_nghị sớm sửa_đổi Luật Đất_đai .\n"
     ]
    }
   ],
   "source": [
    "#Number of words in final text\n",
    "words_out = ViTokenizer.tokenize(summary)\n",
    "#words_out = re.sub(pattern, '', words_out)\n",
    "print(words_out)\n",
    "number_of_words_out = len(words_out.split())"
   ]
  },
  {
   "cell_type": "code",
   "execution_count": 58,
   "id": "21c65930",
   "metadata": {},
   "outputs": [
    {
     "name": "stdout",
     "output_type": "stream",
     "text": [
      "number_of_words_in: 185\n",
      "number_of_words_out: 111\n",
      "div: 60.0\n"
     ]
    }
   ],
   "source": [
    "print(\"number_of_words_in: \" + str(number_of_words_in))\n",
    "print(\"number_of_words_out: \" + str(number_of_words_out))\n",
    "print(\"div: \" + str((number_of_words_out/number_of_words_in)*100))\n"
   ]
  },
  {
   "cell_type": "code",
   "execution_count": 17,
   "id": "f4d4ca05",
   "metadata": {},
   "outputs": [
    {
     "name": "stdout",
     "output_type": "stream",
     "text": [
      "[2 1 1 0 1 1 1 1]\n"
     ]
    }
   ],
   "source": [
    "\n",
    "label = kmeans.fit_predict(sentences_vec_array)\n",
    "print(label)\n",
    "#sentences_vec_array[1]"
   ]
  },
  {
   "cell_type": "code",
   "execution_count": 18,
   "id": "fe416d93",
   "metadata": {},
   "outputs": [],
   "source": [
    "#filter rows of original data\n",
    "#filtered_label0 = sentences_vec_array[label == 0]\n",
    "\n",
    "\n",
    "#plotting the results\n",
    "#plt.scatter(filtered_label0[:,0] , filtered_label0[:,1])\n",
    "#plt.show()"
   ]
  },
  {
   "cell_type": "code",
   "execution_count": 51,
   "id": "acffd507",
   "metadata": {},
   "outputs": [
    {
     "data": {
      "text/plain": [
       "[('hổ,', 0.686018705368042),\n",
       " ('hổ.', 0.6467523574829102),\n",
       " ('thẹn', 0.5598877668380737),\n",
       " ('khỉ', 0.5351430177688599),\n",
       " ('Rắn', 0.5308876037597656),\n",
       " ('vồ', 0.515699028968811),\n",
       " ('mèo', 0.4956623315811157),\n",
       " ('sấu', 0.48269033432006836),\n",
       " ('đực', 0.4806899428367615),\n",
       " ('gấu', 0.4764585494995117)]"
      ]
     },
     "execution_count": 51,
     "metadata": {},
     "output_type": "execute_result"
    }
   ],
   "source": [
    "w2v.most_similar('hổ')\n"
   ]
  },
  {
   "cell_type": "code",
   "execution_count": null,
   "id": "f6cb5f13",
   "metadata": {},
   "outputs": [],
   "source": [
    "\n"
   ]
  },
  {
   "cell_type": "code",
   "execution_count": null,
   "id": "c85b2524",
   "metadata": {},
   "outputs": [],
   "source": []
  },
  {
   "cell_type": "code",
   "execution_count": null,
   "id": "ecc94851",
   "metadata": {
    "scrolled": true
   },
   "outputs": [],
   "source": []
  }
 ],
 "metadata": {
  "kernelspec": {
   "display_name": "Python 3",
   "language": "python",
   "name": "python3"
  },
  "language_info": {
   "codemirror_mode": {
    "name": "ipython",
    "version": 3
   },
   "file_extension": ".py",
   "mimetype": "text/x-python",
   "name": "python",
   "nbconvert_exporter": "python",
   "pygments_lexer": "ipython3",
   "version": "3.6.13"
  }
 },
 "nbformat": 4,
 "nbformat_minor": 5
}
