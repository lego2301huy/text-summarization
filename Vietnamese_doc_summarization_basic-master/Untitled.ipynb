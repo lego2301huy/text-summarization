{
 "cells": [
  {
   "cell_type": "markdown",
   "id": "042951a5",
   "metadata": {},
   "source": [
    "# Import lib"
   ]
  },
  {
   "cell_type": "code",
   "execution_count": 1,
   "id": "b195b8fb",
   "metadata": {},
   "outputs": [],
   "source": [
    "import pickle\n",
    "import numpy as np\n",
    "import string\n",
    "import re\n",
    "from pyvi import ViTokenizer\n",
    "import matplotlib.pyplot as plt\n",
    "import nltk\n",
    "#from nltk.tokenize import word_tokenize"
   ]
  },
  {
   "cell_type": "code",
   "execution_count": 2,
   "id": "3cd6d8b4",
   "metadata": {},
   "outputs": [],
   "source": [
    "pattern = r'[' + string.punctuation +']'"
   ]
  },
  {
   "cell_type": "code",
   "execution_count": 3,
   "id": "27618608",
   "metadata": {
    "scrolled": true
   },
   "outputs": [],
   "source": [
    "sentences = (\"Trong khi đó, trong kỳ họp Quốc hội bất thường khai mạc ngày 4/1, Chính phủ có trình Quốc hội dự thảo một luật sửa 8 luật (trong đó có Luật Đầu tư), nhưng lại không có nội dung về sửa đổi phân cấp, phân quyền chấp thuận chủ trương đầu tư xây dựng khu công nghiệp. 'Chúng tôi đề nghị Chính phủ bổ sung vấn đề này vào để sớm sửa quy định. Đi theo với sự phân cấp, phân quyền là tăng cường kiểm tra, giám sát, cá thể hóa trách nhiệm', ông Quảng đề xuất. Được mời phát biểu, Chủ tịch UBND TP.HCM Phan Văn Mãi cũng nhắc đến một luật sửa 8 luật đang được Chính phủ trình Quốc hội. Ông đề nghị sau khi Quốc hội thông qua thì Chính phủ sớm có hướng dẫn, phân cấp, phân quyền để luật đi vào cuộc sống. Những vấn đề cần phân cấp, phân quyền được Chủ tịch UBND TP.HCM đề xuất là phê chuẩn, điều chỉnh cục bộ quy hoạch, tách dự án giải phóng mặt bằng ra khỏi dự án thông thường... Lãnh đạo TP.HCM cũng đề nghị, kiến nghị sớm sửa đổi Luật Đất đai. Là tham luận cuối cùng trong buổi sáng, Bí thư Thành ủy Thái Nguyên Nguyễn Thanh Hải cũng đề nghị quan tâm phân cấp, phân quyền nhiều hơn cho địa phương. Bà Hải đặc biệt nhấn mạnh đến việc triển khai tách dự án giải phóng mặt bằng ra khỏi dự án thông thường, như vậy mới có thể tạo sự đột biến trong việc thu hút đầu tư.\")"
   ]
  },
  {
   "cell_type": "code",
   "execution_count": 4,
   "id": "418dcb6d",
   "metadata": {},
   "outputs": [
    {
     "name": "stdout",
     "output_type": "stream",
     "text": [
      "Trong khi đó, trong kỳ họp Quốc hội bất thường khai mạc ngày 4/1, Chính phủ có trình Quốc hội dự thảo một luật sửa 8 luật (trong đó có Luật Đầu tư), nhưng lại không có nội dung về sửa đổi phân cấp, phân quyền chấp thuận chủ trương đầu tư xây dựng khu công nghiệp. 'Chúng tôi đề nghị Chính phủ bổ sung vấn đề này vào để sớm sửa quy định. Đi theo với sự phân cấp, phân quyền là tăng cường kiểm tra, giám sát, cá thể hóa trách nhiệm', ông Quảng đề xuất. Được mời phát biểu, Chủ tịch UBND TP.HCM Phan Văn Mãi cũng nhắc đến một luật sửa 8 luật đang được Chính phủ trình Quốc hội. Ông đề nghị sau khi Quốc hội thông qua thì Chính phủ sớm có hướng dẫn, phân cấp, phân quyền để luật đi vào cuộc sống. Những vấn đề cần phân cấp, phân quyền được Chủ tịch UBND TP.HCM đề xuất là phê chuẩn, điều chỉnh cục bộ quy hoạch, tách dự án giải phóng mặt bằng ra khỏi dự án thông thường... Lãnh đạo TP.HCM cũng đề nghị, kiến nghị sớm sửa đổi Luật Đất đai. Là tham luận cuối cùng trong buổi sáng, Bí thư Thành ủy Thái Nguyên Nguyễn Thanh Hải cũng đề nghị quan tâm phân cấp, phân quyền nhiều hơn cho địa phương. Bà Hải đặc biệt nhấn mạnh đến việc triển khai tách dự án giải phóng mặt bằng ra khỏi dự án thông thường, như vậy mới có thể tạo sự đột biến trong việc thu hút đầu tư.\n"
     ]
    }
   ],
   "source": [
    "print(sentences)"
   ]
  },
  {
   "cell_type": "code",
   "execution_count": 5,
   "id": "6ca2fc10",
   "metadata": {},
   "outputs": [],
   "source": [
    "#Number of words in input text\n",
    "words_in = ViTokenizer.tokenize(sentences)\n",
    "words_in = re.sub(pattern, '', words_in)\n",
    "number_of_words_in = len(words_in.split())"
   ]
  },
  {
   "cell_type": "code",
   "execution_count": 6,
   "id": "56985900",
   "metadata": {},
   "outputs": [],
   "source": [
    "sentences=sentences.lower().strip()"
   ]
  },
  {
   "cell_type": "markdown",
   "id": "0c4ef546",
   "metadata": {},
   "source": [
    "# Sentences Tokenizer"
   ]
  },
  {
   "cell_type": "code",
   "execution_count": 7,
   "id": "c0221fab",
   "metadata": {},
   "outputs": [
    {
     "name": "stdout",
     "output_type": "stream",
     "text": [
      "['trong khi đó, trong kỳ họp quốc hội bất thường khai mạc ngày 4/1, chính phủ có trình quốc hội dự thảo một luật sửa 8 luật (trong đó có luật đầu tư), nhưng lại không có nội dung về sửa đổi phân cấp, phân quyền chấp thuận chủ trương đầu tư xây dựng khu công nghiệp.', \"'chúng tôi đề nghị chính phủ bổ sung vấn đề này vào để sớm sửa quy định.\", \"đi theo với sự phân cấp, phân quyền là tăng cường kiểm tra, giám sát, cá thể hóa trách nhiệm', ông quảng đề xuất.\", 'được mời phát biểu, chủ tịch ubnd tp.hcm phan văn mãi cũng nhắc đến một luật sửa 8 luật đang được chính phủ trình quốc hội.', 'ông đề nghị sau khi quốc hội thông qua thì chính phủ sớm có hướng dẫn, phân cấp, phân quyền để luật đi vào cuộc sống.', 'những vấn đề cần phân cấp, phân quyền được chủ tịch ubnd tp.hcm đề xuất là phê chuẩn, điều chỉnh cục bộ quy hoạch, tách dự án giải phóng mặt bằng ra khỏi dự án thông thường... lãnh đạo tp.hcm cũng đề nghị, kiến nghị sớm sửa đổi luật đất đai.', 'là tham luận cuối cùng trong buổi sáng, bí thư thành ủy thái nguyên nguyễn thanh hải cũng đề nghị quan tâm phân cấp, phân quyền nhiều hơn cho địa phương.', 'bà hải đặc biệt nhấn mạnh đến việc triển khai tách dự án giải phóng mặt bằng ra khỏi dự án thông thường, như vậy mới có thể tạo sự đột biến trong việc thu hút đầu tư.']\n",
      "Number_of_sentences: 8\n"
     ]
    }
   ],
   "source": [
    "sentences = nltk.sent_tokenize(sentences)\n",
    "print(sentences)\n",
    "number_of_sentences = len(sentences)\n",
    "print(\"Number_of_sentences: \" + str(number_of_sentences))"
   ]
  },
  {
   "cell_type": "markdown",
   "id": "7c18a5d8",
   "metadata": {},
   "source": [
    "# Sentences to vector"
   ]
  },
  {
   "cell_type": "code",
   "execution_count": 8,
   "id": "7cc2b6b5",
   "metadata": {},
   "outputs": [],
   "source": [
    "import sklearn.model_selection\n",
    "from gensim.models import KeyedVectors \n",
    "\n",
    "\n",
    "w2v = KeyedVectors.load_word2vec_format(\"Vectors/vi-300-5-40000-5-fullsplit.vec\")"
   ]
  },
  {
   "cell_type": "code",
   "execution_count": 9,
   "id": "4a6eec32",
   "metadata": {},
   "outputs": [],
   "source": [
    "vocab = w2v.vocab"
   ]
  },
  {
   "cell_type": "code",
   "execution_count": 10,
   "id": "02722ade",
   "metadata": {},
   "outputs": [
    {
     "name": "stderr",
     "output_type": "stream",
     "text": [
      "C:\\Users\\lego2\\anaconda3\\envs\\base36clone\\lib\\site-packages\\ipykernel_launcher.py:8: DeprecationWarning: Call to deprecated `wv` (Attribute will be removed in 4.0.0, use self instead).\n",
      "  \n"
     ]
    }
   ],
   "source": [
    "sentences_vec_array = []\n",
    "for sentence in sentences:\n",
    "    sentence = ViTokenizer.tokenize(sentence)\n",
    "    words = sentence.split(\" \")\n",
    "    sentence_vec = np.zeros((300))\n",
    "    for word in words:\n",
    "        if word in vocab:\n",
    "            sentence_vec+=w2v.wv[word]\n",
    "    sentences_vec_array.append(sentence_vec)\n"
   ]
  },
  {
   "cell_type": "code",
   "execution_count": 11,
   "id": "f5f68ad4",
   "metadata": {},
   "outputs": [],
   "source": [
    "#write sentences s vectors to file\n",
    "with open('sentence_vec.txt', 'w') as f:\n",
    "    f.write(str(sentences_vec_array))"
   ]
  },
  {
   "cell_type": "code",
   "execution_count": 12,
   "id": "255bb8bb",
   "metadata": {},
   "outputs": [],
   "source": [
    "from sklearn.cluster import KMeans\n",
    "\n",
    "n_clusters = 3\n",
    "#n_clusters = round(number_of_sentences/2)\n",
    "kmeans = KMeans(n_clusters=n_clusters)\n",
    "kmeans = kmeans.fit(sentences_vec_array)"
   ]
  },
  {
   "cell_type": "code",
   "execution_count": 22,
   "id": "44c49fe3",
   "metadata": {},
   "outputs": [
    {
     "name": "stdout",
     "output_type": "stream",
     "text": [
      "bà hải đặc biệt nhấn mạnh đến việc triển khai tách dự án giải phóng mặt bằng ra khỏi dự án thông thường, như vậy mới có thể tạo sự đột biến trong việc thu hút đầu tư.\n"
     ]
    }
   ],
   "source": [
    "print(sentences[7])\n",
    "from sklearn.metrics import pairwise_distances_argmin_min\n",
    "\n",
    "avg = []\n",
    "for j in range(n_clusters):\n",
    "    idx = np.where(kmeans.labels_ == j)[0]\n",
    "    avg.append(np.mean(idx))\n",
    "\n",
    "closest, _ = pairwise_distances_argmin_min(kmeans.cluster_centers_, sentences_vec_array)\n",
    "ordering = sorted(range(n_clusters), key=lambda k: avg[k])\n",
    "summary = ' '.join([sentences[closest[idx]] for idx in ordering])"
   ]
  },
  {
   "cell_type": "code",
   "execution_count": 14,
   "id": "67a2fe4e",
   "metadata": {},
   "outputs": [
    {
     "name": "stdout",
     "output_type": "stream",
     "text": [
      "trong khi đó  trong kỳ họp quốchội bấtthường khaimạc ngày 4  1  chínhphủ có trình quốchội dựthảo một luật sửa 8 luật  trong đó có luật đầutư   nhưng lại không có nộidung về sửađổi phâncấp  phânquyền chấpthuận chủtrương đầutư xâydựng khu côngnghiệp  được mời phátbiểu  chủtịch ubnd tp  hcm phan văn mãi cũng nhắc đến một luật sửa 8 luật đang được chínhphủ trình quốchội  ông đềnghị sau khi quốchội thôngqua thì chínhphủ sớm có hướngdẫn  phâncấp  phânquyền để luật đi vào cuộcsống \n"
     ]
    }
   ],
   "source": [
    "#Number of words in final text\n",
    "words_out = ViTokenizer.tokenize(summary)\n",
    "words_out = re.sub(pattern, '', words_out)\n",
    "print(words_out)\n",
    "number_of_words_out = len(words_out.split())"
   ]
  },
  {
   "cell_type": "code",
   "execution_count": 15,
   "id": "52374add",
   "metadata": {},
   "outputs": [
    {
     "name": "stdout",
     "output_type": "stream",
     "text": [
      "tom tat: \n",
      "trong khi đó, trong kỳ họp quốc hội bất thường khai mạc ngày 4/1, chính phủ có trình quốc hội dự thảo một luật sửa 8 luật (trong đó có luật đầu tư), nhưng lại không có nội dung về sửa đổi phân cấp, phân quyền chấp thuận chủ trương đầu tư xây dựng khu công nghiệp. được mời phát biểu, chủ tịch ubnd tp.hcm phan văn mãi cũng nhắc đến một luật sửa 8 luật đang được chính phủ trình quốc hội. ông đề nghị sau khi quốc hội thông qua thì chính phủ sớm có hướng dẫn, phân cấp, phân quyền để luật đi vào cuộc sống.\n"
     ]
    }
   ],
   "source": [
    "print(\"tom tat: \")\n",
    "print(summary)"
   ]
  },
  {
   "cell_type": "code",
   "execution_count": 16,
   "id": "21c65930",
   "metadata": {},
   "outputs": [
    {
     "name": "stdout",
     "output_type": "stream",
     "text": [
      "number_of_words_in: 185\n",
      "number_of_words_out: 83\n",
      "div: 44.86486486486487\n"
     ]
    }
   ],
   "source": [
    "print(\"number_of_words_in: \" + str(number_of_words_in))\n",
    "print(\"number_of_words_out: \" + str(number_of_words_out))\n",
    "print(\"div: \" + str((number_of_words_out/number_of_words_in)*100))\n"
   ]
  },
  {
   "cell_type": "code",
   "execution_count": 17,
   "id": "f4d4ca05",
   "metadata": {},
   "outputs": [
    {
     "name": "stdout",
     "output_type": "stream",
     "text": [
      "[2 1 1 0 1 1 1 1]\n"
     ]
    },
    {
     "data": {
      "text/plain": [
       "array([  7.26179934,  -2.51742956,   1.47542972,  -2.59605275,\n",
       "        -0.08255792,  -6.82170093,   0.68941185,   8.13680509,\n",
       "         7.8233494 ,   6.10988832,   1.40352758,   0.33617781,\n",
       "         0.39005089,  -0.31713026,   0.45671709,  -4.06479073,\n",
       "         2.92250883,   0.3954662 ,   1.51267572,   2.85488117,\n",
       "         4.00109428,  -2.62608861,  -4.89385427,   0.27167219,\n",
       "         1.04228896,  -0.80862807,  -6.89682098,  -4.75463372,\n",
       "        -5.01024939,   1.52116971,  -2.70341925,   0.07946451,\n",
       "         0.80373024,   2.55649459,  -1.91580606,  -0.81470838,\n",
       "        -1.76852542,  -9.57755107, -11.14719432,   6.02448627,\n",
       "        -4.49260157,  16.63316332,   4.29879919,   1.24751601,\n",
       "        -3.31413592,  -8.87552245,   0.76121334, -11.57246426,\n",
       "        -2.90556316,   0.930082  ,  -6.77502388,   7.21446717,\n",
       "         3.43705015,  -4.15521033,  -1.25353613,   4.98669185,\n",
       "         2.75508623,  -0.05481331,   9.24590717,  -3.32178175,\n",
       "         7.05664777,  -9.17820701, -12.55851742,  -3.13898194,\n",
       "        -4.25393467,  -4.62730899,  -3.99259574, -11.70864058,\n",
       "       -18.72530413,   6.73788798,  -2.0021099 ,  -6.48583685,\n",
       "         7.11493318,  -3.54725192,   9.65060642,   2.9649763 ,\n",
       "         5.39129217,   5.16994277,   5.18532425,  -0.86103429,\n",
       "         6.11012909,  -7.06803628,  -3.35494344,  -1.05848682,\n",
       "        -5.18731559,  -1.40125171, -14.08818114, -13.033135  ,\n",
       "         4.00920445,   0.35796492,   2.25345789,  13.11666423,\n",
       "        -2.10087322,  10.11525037,  -1.59550688, -13.43378824,\n",
       "        -0.71249743,  -7.30931032,   4.00607554,   5.78981744,\n",
       "        -1.68523127,  -2.96400975,   2.03214532,  -5.13617408,\n",
       "         4.69345078,   0.63584239,  -1.55171779,  -1.85794253,\n",
       "        -9.85079783,   3.6560055 ,  -6.14220704,   0.11948285,\n",
       "         2.13189404,   0.88692646,  -5.88124119,   2.99593213,\n",
       "         7.83165553, -12.51177663,   0.99772265,   3.35919187,\n",
       "        -1.34309556,   6.19791743,   3.56324176,  -4.84528989,\n",
       "         6.34960154,  -6.6979762 ,  -3.7820175 ,   0.97512081,\n",
       "        -1.35194445,   0.66125154,   5.97779141,   6.37869331,\n",
       "       -10.05963147,   3.30372943,  -1.0111869 ,   2.67651939,\n",
       "        -0.67330095,   6.45472999,   2.69842988,   4.53595742,\n",
       "         4.18226805,  -8.84654413,  -6.29222792,   1.91787748,\n",
       "        -2.99758871,   2.23734421,  -1.27259818,   5.9238742 ,\n",
       "       -13.17050436,  -6.14852983,  -3.12185587,   6.13020504,\n",
       "        -2.74965919,   8.3741339 ,  -2.58430538,   9.38177997,\n",
       "        -6.13217905,   5.12204186,   3.73097368,  -0.18460872,\n",
       "        -3.83005732,   6.09420013,  -4.91370711,   5.35550508,\n",
       "        -6.22303849,  -0.57102378,  -2.59532739,  -3.22525738,\n",
       "         2.90052249,   5.05495855, -14.73660928,  -2.39746976,\n",
       "        -1.65392146,  -4.68046874,  -4.59791031,  -3.29088514,\n",
       "         5.17841897, -10.65331762,  -5.69797421,   3.3546167 ,\n",
       "        -0.36582896,  -1.4672772 ,  -9.15772489,   3.07370743,\n",
       "         4.86538894,  -1.66821868,   7.04070032,  -0.72365642,\n",
       "        10.21783911,   2.78089933,  -4.1357529 ,  -8.00736398,\n",
       "        -0.3238606 ,  -0.12682966,  -6.25328505,  -9.60781397,\n",
       "         1.40137893,   7.56844003,  -0.06365691,  -3.96883747,\n",
       "        -1.93315664,  -3.77838087,  10.56279431,  -5.95286955,\n",
       "        -6.5567452 ,  -4.84864631,  -6.87973353,   5.11200927,\n",
       "         7.87160656,   8.67752564,   1.76363026,  -6.45040801,\n",
       "        -1.60415889,   9.57657273,   0.41550376,  -0.50223781,\n",
       "        -3.4382869 ,   2.6373902 ,   6.87101544,   5.47579002,\n",
       "        -0.44571581,   7.37622227,   6.44588941,   0.05505839,\n",
       "         4.90075839,   0.42086643,  14.18018675,  -5.55357097,\n",
       "        -2.90003964,   0.08626333,   3.81103634,  -6.12197387,\n",
       "         5.66875136,   3.58810219,   2.3308791 ,  -7.50795758,\n",
       "       -14.44095719,   4.60968684,  -6.84830192,   2.87694982,\n",
       "        -1.81265733,  -9.9978383 ,   4.11720788,   0.55156812,\n",
       "         2.26844085,  -0.92902444, -11.03946561,   1.6719033 ,\n",
       "        -9.33209508,   3.02018819,  -2.53265837,  -6.71170406,\n",
       "        -0.24473009,   2.41618381,  -4.94254576,   0.05528117,\n",
       "        -8.70050403,  -8.22269186,  -3.91974318,   2.66668811,\n",
       "         2.49142015,  -1.09233218,  -2.6838356 ,   2.93424684,\n",
       "         1.40822348, -16.29545693, -10.94001794,   7.45088768,\n",
       "        -0.22081442,  -3.27542607,  -1.10497831,  -1.61094308,\n",
       "         5.32943869,  -4.25708234,  -2.08016175,   1.22877684,\n",
       "        -0.34457113,   0.31831597,   6.58227451,  -0.89305435,\n",
       "         8.74574888,   5.89555513,   4.2636471 ,  -2.81418468,\n",
       "         1.80145152,  -7.51987211,   2.30409592,  -5.97922421,\n",
       "        -0.97891164,   0.64488682,  -1.39360222,   2.70670387,\n",
       "        -3.53796253,  -8.62844767,   2.98809832,   0.35749856,\n",
       "         5.42549055,  -8.49372628,  -9.07992601,   2.91048732])"
      ]
     },
     "execution_count": 17,
     "metadata": {},
     "output_type": "execute_result"
    }
   ],
   "source": [
    "\n",
    "label = kmeans.fit_predict(sentences_vec_array)\n",
    "print(label)\n",
    "#sentences_vec_array[1]"
   ]
  },
  {
   "cell_type": "code",
   "execution_count": 18,
   "id": "fe416d93",
   "metadata": {},
   "outputs": [],
   "source": [
    "#filter rows of original data\n",
    "#filtered_label0 = sentences_vec_array[label == 0]\n",
    "\n",
    "\n",
    "#plotting the results\n",
    "#plt.scatter(filtered_label0[:,0] , filtered_label0[:,1])\n",
    "#plt.show()"
   ]
  },
  {
   "cell_type": "code",
   "execution_count": null,
   "id": "acffd507",
   "metadata": {},
   "outputs": [],
   "source": [
    "\n"
   ]
  },
  {
   "cell_type": "code",
   "execution_count": null,
   "id": "f6cb5f13",
   "metadata": {},
   "outputs": [],
   "source": [
    "\n"
   ]
  },
  {
   "cell_type": "code",
   "execution_count": null,
   "id": "c85b2524",
   "metadata": {},
   "outputs": [],
   "source": []
  },
  {
   "cell_type": "code",
   "execution_count": null,
   "id": "ecc94851",
   "metadata": {
    "scrolled": true
   },
   "outputs": [],
   "source": []
  }
 ],
 "metadata": {
  "kernelspec": {
   "display_name": "Python 3",
   "language": "python",
   "name": "python3"
  },
  "language_info": {
   "codemirror_mode": {
    "name": "ipython",
    "version": 3
   },
   "file_extension": ".py",
   "mimetype": "text/x-python",
   "name": "python",
   "nbconvert_exporter": "python",
   "pygments_lexer": "ipython3",
   "version": "3.6.13"
  }
 },
 "nbformat": 4,
 "nbformat_minor": 5
}
