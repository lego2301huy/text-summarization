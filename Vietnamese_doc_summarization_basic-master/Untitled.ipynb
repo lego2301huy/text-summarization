{
 "cells": [
  {
   "cell_type": "markdown",
   "id": "042951a5",
   "metadata": {},
   "source": [
    "# Import lib"
   ]
  },
  {
   "cell_type": "code",
   "execution_count": 1,
   "id": "b195b8fb",
   "metadata": {},
   "outputs": [],
   "source": [
    "import pickle\n",
    "import numpy as np\n",
    "import string\n",
    "import re\n",
    "from pyvi import ViTokenizer\n",
    "import matplotlib.pyplot as plt\n",
    "import nltk\n",
    "\n",
    "from tkinter import *\n",
    "#from nltk.tokenize import word_tokenize"
   ]
  },
  {
   "cell_type": "code",
   "execution_count": 2,
   "id": "3cd6d8b4",
   "metadata": {},
   "outputs": [],
   "source": [
    "pattern = r'[' + string.punctuation +']'"
   ]
  },
  {
   "cell_type": "code",
   "execution_count": 3,
   "id": "27618608",
   "metadata": {
    "scrolled": true
   },
   "outputs": [],
   "source": [
    "#sentences = (\"Trong khi đó, trong kỳ họp Quốc hội bất thường khai mạc ngày 4/1, Chính phủ có trình Quốc hội dự thảo một luật sửa 8 luật (trong đó có Luật Đầu tư), nhưng lại không có nội dung về sửa đổi phân cấp, phân quyền chấp thuận chủ trương đầu tư xây dựng khu công nghiệp. 'Chúng tôi đề nghị Chính phủ bổ sung vấn đề này vào để sớm sửa quy định. Đi theo với sự phân cấp, phân quyền là tăng cường kiểm tra, giám sát, cá thể hóa trách nhiệm', ông Quảng đề xuất. Được mời phát biểu, Chủ tịch UBND TP.HCM Phan Văn Mãi cũng nhắc đến một luật sửa 8 luật đang được Chính phủ trình Quốc hội. Ông đề nghị sau khi Quốc hội thông qua thì Chính phủ sớm có hướng dẫn, phân cấp, phân quyền để luật đi vào cuộc sống. Những vấn đề cần phân cấp, phân quyền được Chủ tịch UBND TP.HCM đề xuất là phê chuẩn, điều chỉnh cục bộ quy hoạch, tách dự án giải phóng mặt bằng ra khỏi dự án thông thường... Lãnh đạo TP.HCM cũng đề nghị, kiến nghị sớm sửa đổi Luật Đất đai. Là tham luận cuối cùng trong buổi sáng, Bí thư Thành ủy Thái Nguyên Nguyễn Thanh Hải cũng đề nghị quan tâm phân cấp, phân quyền nhiều hơn cho địa phương. Bà Hải đặc biệt nhấn mạnh đến việc triển khai tách dự án giải phóng mặt bằng ra khỏi dự án thông thường, như vậy mới có thể tạo sự đột biến trong việc thu hút đầu tư.\")"
   ]
  },
  {
   "cell_type": "code",
   "execution_count": 4,
   "id": "9a11a1b8",
   "metadata": {},
   "outputs": [],
   "source": [
    "\n",
    "def btn_clicked():\n",
    "    entry1.delete('1.0', END)\n",
    "    entry1.insert(END, \"Loading.....\")\n",
    "    sentences = entry0.get(\"1.0\", \"end-1c\")\n",
    "    \n",
    "    \n",
    "    print(sentences)\n",
    "    \n",
    "    #Number of words in input text\n",
    "    words_in = ViTokenizer.tokenize(sentences)\n",
    "    words_in = re.sub(pattern, '', words_in)\n",
    "    number_of_words_in = len(words_in.split())\n",
    "    \n",
    "    sentences=sentences.lower().strip()\n",
    "    \n",
    "    sentences = nltk.sent_tokenize(sentences)\n",
    "    #print(sentences)\n",
    "    number_of_sentences = len(sentences)\n",
    "    print(\"Number_of_sentences: \" + str(number_of_sentences))\n",
    "    \n",
    "    import sklearn.model_selection\n",
    "    from gensim.models import KeyedVectors \n",
    "    w2v = KeyedVectors.load_word2vec_format(\"Vectors/vi-300-5-40000-5-fullsplit.vec\")\n",
    "    \n",
    "    vocab = w2v.vocab\n",
    "    \n",
    "    sentences_vec_array = []\n",
    "    for sentence in sentences:\n",
    "        sentence = ViTokenizer.tokenize(sentence)\n",
    "        words = sentence.split(\" \")\n",
    "        sentence_vec = np.zeros((300))\n",
    "        for word in words:\n",
    "            if word in vocab:\n",
    "                sentence_vec+=w2v.wv[word]\n",
    "        sentences_vec_array.append(sentence_vec)\n",
    "        \n",
    "    #write sentences s vectors to file\n",
    "    #with open('sentence_vec.txt', 'w') as f:\n",
    "    #f.write(str(sentences_vec_array))\n",
    "    \n",
    "    from sklearn.cluster import KMeans\n",
    "\n",
    "    #n_clusters = 3\n",
    "    n_clusters = round((number_of_sentences/10)*4)\n",
    "    kmeans = KMeans(n_clusters=n_clusters)\n",
    "    kmeans = kmeans.fit(sentences_vec_array)\n",
    "    \n",
    "    from sklearn.metrics import pairwise_distances_argmin_min\n",
    "\n",
    "    avg = []\n",
    "    for j in range(n_clusters):\n",
    "        idx = np.where(kmeans.labels_ == j)[0]\n",
    "        avg.append(np.mean(idx))\n",
    "\n",
    "    closest, _ = pairwise_distances_argmin_min(kmeans.cluster_centers_, sentences_vec_array)\n",
    "    ordering = sorted(range(n_clusters), key=lambda k: avg[k])\n",
    "    summary = ' '.join([sentences[closest[idx]] for idx in ordering])\n",
    "    \n",
    "    #Number of words in final text\n",
    "    words_out = ViTokenizer.tokenize(summary)\n",
    "    words_out = re.sub(pattern, '', words_out)\n",
    "    #print(words_out)\n",
    "    number_of_words_out = len(words_out.split())\n",
    "    \n",
    "    #print(\"tom tat: \")\n",
    "    #print(summary)\n",
    "    \n",
    "    entry1.delete('1.0', END)\n",
    "    entry1.insert(END, summary)\n",
    "    \n",
    "    print(\"number_of_words_in: \" + str(number_of_words_in))\n",
    "    print(\"number_of_words_out: \" + str(number_of_words_out))\n",
    "    print(\"div: \" + str((number_of_words_out/number_of_words_in)*100))\n",
    "    "
   ]
  },
  {
   "cell_type": "code",
   "execution_count": 5,
   "id": "d673538c",
   "metadata": {},
   "outputs": [
    {
     "name": "stdout",
     "output_type": "stream",
     "text": [
      "Theo thống kê giao dịch, thời điểm ông chủ tập đoàn này bán “chui” cổ phiếu, thị giá FLC giao dịch đang ở mức 7.100-7.700 đồng. Như vậy ông Trịnh Văn Quyết có thể đã thu về không dưới 400 tỷ đồng theo giá thị trường từ đợt bán “chui” cổ phiếu này.\n",
      "\n",
      "Đây cũng là giai đoạn cổ phiếu FLC có thanh khoản cao vượt trội so với bình quân, lên tới hàng chục triệu đơn vị mỗi phiên, đỉnh điểm là phiên 23/10 lên đến 48 triệu đơn vị. Cổ phiếu FLC sau đó cũng rơi nhanh về khoảng 5.700 đồng, tức giảm hơn 20% giá trị so với lúc bán.\n",
      "\n",
      "Điều đáng nói là số tiền mà đại gia Trịnh Văn Quyết bị xử phạt vì hành vi bán chui 57 triệu cổ phiếu chỉ là 130 triệu đồng.\n",
      "\n",
      "Trong khi đó ngay sáng nay, Ủy ban Chứng khoán Nhà nước thông báo đã nhận được báo cáo của HoSE đề ngày 10/1 về việc ông Trịnh Văn Quyết đã giao dịch bán 74,8 triệu cổ phiếu FLC mà không báo cáo, không công bố thông tin trước khi thực hiện giao dịch. UBCKNN đang phối hợp với các cơ quan liên quan để xem xét xử lý vi phạm của cá nhân này theo quy định.\n",
      "Number_of_sentences: 7\n"
     ]
    },
    {
     "name": "stderr",
     "output_type": "stream",
     "text": [
      "C:\\Users\\lego2\\anaconda3\\envs\\python36-clone-GUI\\lib\\site-packages\\ipykernel_launcher.py:34: DeprecationWarning: Call to deprecated `wv` (Attribute will be removed in 4.0.0, use self instead).\n"
     ]
    },
    {
     "name": "stdout",
     "output_type": "stream",
     "text": [
      "number_of_words_in: 178\n",
      "number_of_words_out: 97\n",
      "div: 54.49438202247191\n"
     ]
    },
    {
     "ename": "KeyboardInterrupt",
     "evalue": "",
     "output_type": "error",
     "traceback": [
      "\u001b[1;31m---------------------------------------------------------------------------\u001b[0m",
      "\u001b[1;31mKeyboardInterrupt\u001b[0m                         Traceback (most recent call last)",
      "\u001b[1;32m<ipython-input-5-30a2ed219c3b>\u001b[0m in \u001b[0;36m<module>\u001b[1;34m\u001b[0m\n\u001b[0;32m     62\u001b[0m \u001b[1;33m\u001b[0m\u001b[0m\n\u001b[0;32m     63\u001b[0m \u001b[0mwindow\u001b[0m\u001b[1;33m.\u001b[0m\u001b[0mresizable\u001b[0m\u001b[1;33m(\u001b[0m\u001b[1;32mFalse\u001b[0m\u001b[1;33m,\u001b[0m \u001b[1;32mFalse\u001b[0m\u001b[1;33m)\u001b[0m\u001b[1;33m\u001b[0m\u001b[1;33m\u001b[0m\u001b[0m\n\u001b[1;32m---> 64\u001b[1;33m \u001b[0mwindow\u001b[0m\u001b[1;33m.\u001b[0m\u001b[0mmainloop\u001b[0m\u001b[1;33m(\u001b[0m\u001b[1;33m)\u001b[0m\u001b[1;33m\u001b[0m\u001b[1;33m\u001b[0m\u001b[0m\n\u001b[0m",
      "\u001b[1;32m~\\anaconda3\\envs\\python36-clone-GUI\\lib\\tkinter\\__init__.py\u001b[0m in \u001b[0;36mmainloop\u001b[1;34m(self, n)\u001b[0m\n\u001b[0;32m   1281\u001b[0m     \u001b[1;32mdef\u001b[0m \u001b[0mmainloop\u001b[0m\u001b[1;33m(\u001b[0m\u001b[0mself\u001b[0m\u001b[1;33m,\u001b[0m \u001b[0mn\u001b[0m\u001b[1;33m=\u001b[0m\u001b[1;36m0\u001b[0m\u001b[1;33m)\u001b[0m\u001b[1;33m:\u001b[0m\u001b[1;33m\u001b[0m\u001b[1;33m\u001b[0m\u001b[0m\n\u001b[0;32m   1282\u001b[0m         \u001b[1;34m\"\"\"Call the mainloop of Tk.\"\"\"\u001b[0m\u001b[1;33m\u001b[0m\u001b[1;33m\u001b[0m\u001b[0m\n\u001b[1;32m-> 1283\u001b[1;33m         \u001b[0mself\u001b[0m\u001b[1;33m.\u001b[0m\u001b[0mtk\u001b[0m\u001b[1;33m.\u001b[0m\u001b[0mmainloop\u001b[0m\u001b[1;33m(\u001b[0m\u001b[0mn\u001b[0m\u001b[1;33m)\u001b[0m\u001b[1;33m\u001b[0m\u001b[1;33m\u001b[0m\u001b[0m\n\u001b[0m\u001b[0;32m   1284\u001b[0m     \u001b[1;32mdef\u001b[0m \u001b[0mquit\u001b[0m\u001b[1;33m(\u001b[0m\u001b[0mself\u001b[0m\u001b[1;33m)\u001b[0m\u001b[1;33m:\u001b[0m\u001b[1;33m\u001b[0m\u001b[1;33m\u001b[0m\u001b[0m\n\u001b[0;32m   1285\u001b[0m         \u001b[1;34m\"\"\"Quit the Tcl interpreter. All widgets will be destroyed.\"\"\"\u001b[0m\u001b[1;33m\u001b[0m\u001b[1;33m\u001b[0m\u001b[0m\n",
      "\u001b[1;31mKeyboardInterrupt\u001b[0m: "
     ]
    }
   ],
   "source": [
    "window = Tk()\n",
    "\n",
    "window.geometry(\"1000x573\")\n",
    "window.configure(bg = \"#ffffff\")\n",
    "canvas = Canvas(\n",
    "    window,\n",
    "    bg = \"#ffffff\",\n",
    "    height = 573,\n",
    "    width = 1000,\n",
    "    bd = 0,\n",
    "    highlightthickness = 0,\n",
    "    relief = \"ridge\")\n",
    "canvas.place(x = 0, y = 0)\n",
    "\n",
    "background_img = PhotoImage(file = f\"GUI/background.png\")\n",
    "background = canvas.create_image(\n",
    "    246.5, 291.0,\n",
    "    image=background_img)\n",
    "\n",
    "entry0_img = PhotoImage(file = f\"GUI/img_textBox0.png\")\n",
    "entry0_bg = canvas.create_image(\n",
    "    253.5, 280.5,\n",
    "    image = entry0_img)\n",
    "\n",
    "entry0 = Text(\n",
    "    bd = 0,\n",
    "    bg = \"#ecfeff\",\n",
    "    highlightthickness = 0)\n",
    "\n",
    "entry0.place(\n",
    "    x = 35.0, y = 51,\n",
    "    width = 437.0,\n",
    "    height = 457)\n",
    "\n",
    "entry1_img = PhotoImage(file = f\"GUI/img_textBox1.png\")\n",
    "entry1_bg = canvas.create_image(\n",
    "    756.5, 280.5,\n",
    "    image = entry1_img)\n",
    "\n",
    "entry1 = Text(\n",
    "    bd = 0,\n",
    "    bg = \"#cefcff\",\n",
    "    highlightthickness = 0)\n",
    "\n",
    "entry1.place(\n",
    "    x = 538.0, y = 51,\n",
    "    width = 437.0,\n",
    "    height = 457)\n",
    "\n",
    "img0 = PhotoImage(file = f\"GUI/img0.png\")\n",
    "b0 = Button(\n",
    "    image = img0,\n",
    "    borderwidth = 0,\n",
    "    highlightthickness = 0,\n",
    "    command = lambda:btn_clicked(),\n",
    "    relief = \"flat\")\n",
    "\n",
    "b0.place(\n",
    "    x = 200, y = 520,\n",
    "    width = 108,\n",
    "    height = 39)\n",
    "\n",
    "window.resizable(False, False)\n",
    "window.mainloop()"
   ]
  },
  {
   "cell_type": "code",
   "execution_count": null,
   "id": "a9e503ca",
   "metadata": {},
   "outputs": [],
   "source": []
  },
  {
   "cell_type": "code",
   "execution_count": null,
   "id": "418dcb6d",
   "metadata": {},
   "outputs": [],
   "source": []
  },
  {
   "cell_type": "code",
   "execution_count": null,
   "id": "6ca2fc10",
   "metadata": {},
   "outputs": [],
   "source": []
  },
  {
   "cell_type": "code",
   "execution_count": null,
   "id": "56985900",
   "metadata": {},
   "outputs": [],
   "source": []
  },
  {
   "cell_type": "markdown",
   "id": "0c4ef546",
   "metadata": {},
   "source": [
    "# Sentences Tokenizer"
   ]
  },
  {
   "cell_type": "code",
   "execution_count": null,
   "id": "c0221fab",
   "metadata": {},
   "outputs": [],
   "source": []
  },
  {
   "cell_type": "markdown",
   "id": "7c18a5d8",
   "metadata": {},
   "source": [
    "# Sentences to vector"
   ]
  },
  {
   "cell_type": "code",
   "execution_count": null,
   "id": "7cc2b6b5",
   "metadata": {},
   "outputs": [],
   "source": []
  },
  {
   "cell_type": "code",
   "execution_count": null,
   "id": "4a6eec32",
   "metadata": {},
   "outputs": [],
   "source": []
  },
  {
   "cell_type": "code",
   "execution_count": null,
   "id": "02722ade",
   "metadata": {},
   "outputs": [],
   "source": []
  },
  {
   "cell_type": "code",
   "execution_count": null,
   "id": "f5f68ad4",
   "metadata": {},
   "outputs": [],
   "source": []
  },
  {
   "cell_type": "code",
   "execution_count": null,
   "id": "255bb8bb",
   "metadata": {},
   "outputs": [],
   "source": []
  },
  {
   "cell_type": "code",
   "execution_count": null,
   "id": "44c49fe3",
   "metadata": {},
   "outputs": [],
   "source": []
  },
  {
   "cell_type": "code",
   "execution_count": null,
   "id": "67a2fe4e",
   "metadata": {},
   "outputs": [],
   "source": []
  },
  {
   "cell_type": "code",
   "execution_count": null,
   "id": "52374add",
   "metadata": {},
   "outputs": [],
   "source": []
  },
  {
   "cell_type": "code",
   "execution_count": null,
   "id": "21c65930",
   "metadata": {},
   "outputs": [],
   "source": [
    "\n"
   ]
  },
  {
   "cell_type": "code",
   "execution_count": null,
   "id": "f4d4ca05",
   "metadata": {},
   "outputs": [],
   "source": [
    "\n",
    "label = kmeans.fit_predict(sentences_vec_array)\n",
    "print(label)\n",
    "#sentences_vec_array[1]"
   ]
  },
  {
   "cell_type": "code",
   "execution_count": null,
   "id": "fe416d93",
   "metadata": {},
   "outputs": [],
   "source": [
    "#filter rows of original data\n",
    "#filtered_label0 = sentences_vec_array[label == 0]\n",
    "\n",
    "\n",
    "#plotting the results\n",
    "#plt.scatter(filtered_label0[:,0] , filtered_label0[:,1])\n",
    "#plt.show()"
   ]
  },
  {
   "cell_type": "code",
   "execution_count": null,
   "id": "acffd507",
   "metadata": {},
   "outputs": [],
   "source": []
  },
  {
   "cell_type": "code",
   "execution_count": null,
   "id": "f6cb5f13",
   "metadata": {},
   "outputs": [],
   "source": [
    "\n"
   ]
  },
  {
   "cell_type": "code",
   "execution_count": null,
   "id": "c85b2524",
   "metadata": {},
   "outputs": [],
   "source": []
  },
  {
   "cell_type": "code",
   "execution_count": null,
   "id": "ecc94851",
   "metadata": {
    "scrolled": true
   },
   "outputs": [],
   "source": []
  },
  {
   "cell_type": "code",
   "execution_count": null,
   "id": "bbe89b7f",
   "metadata": {},
   "outputs": [],
   "source": []
  }
 ],
 "metadata": {
  "kernelspec": {
   "display_name": "Python 3",
   "language": "python",
   "name": "python3"
  }
 },
 "nbformat": 4,
 "nbformat_minor": 5
}
