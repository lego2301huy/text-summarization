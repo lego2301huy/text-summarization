{
 "cells": [
  {
   "cell_type": "markdown",
   "id": "042951a5",
   "metadata": {},
   "source": [
    "# Import lib"
   ]
  },
  {
   "cell_type": "code",
   "execution_count": 149,
   "id": "b195b8fb",
   "metadata": {},
   "outputs": [],
   "source": [
    "import pickle\n",
    "import numpy as np\n",
    "import string\n",
    "import re\n",
    "from pyvi import ViTokenizer\n",
    "import matplotlib.pyplot as plt\n",
    "import nltk\n",
    "from nltk.tokenize import word_tokenize"
   ]
  },
  {
   "cell_type": "code",
   "execution_count": 150,
   "id": "3cd6d8b4",
   "metadata": {},
   "outputs": [],
   "source": [
    "pattern = r'[' + string.punctuation +']'"
   ]
  },
  {
   "cell_type": "code",
   "execution_count": 151,
   "id": "27618608",
   "metadata": {
    "scrolled": true
   },
   "outputs": [],
   "source": [
    "sentences = (\"Trong khi đó, trong kỳ họp Quốc hội bất thường khai mạc ngày 4/1, Chính phủ có trình Quốc hội dự thảo một luật sửa 8 luật (trong đó có Luật Đầu tư), nhưng lại không có nội dung về sửa đổi phân cấp, phân quyền chấp thuận chủ trương đầu tư xây dựng khu công nghiệp. 'Chúng tôi đề nghị Chính phủ bổ sung vấn đề này vào để sớm sửa quy định. Đi theo với sự phân cấp, phân quyền là tăng cường kiểm tra, giám sát, cá thể hóa trách nhiệm', ông Quảng đề xuất. Được mời phát biểu, Chủ tịch UBND TP.HCM Phan Văn Mãi cũng nhắc đến một luật sửa 8 luật đang được Chính phủ trình Quốc hội. Ông đề nghị sau khi Quốc hội thông qua thì Chính phủ sớm có hướng dẫn, phân cấp, phân quyền để luật đi vào cuộc sống. Những vấn đề cần phân cấp, phân quyền được Chủ tịch UBND TP.HCM đề xuất là phê chuẩn, điều chỉnh cục bộ quy hoạch, tách dự án giải phóng mặt bằng ra khỏi dự án thông thường... Lãnh đạo TP.HCM cũng đề nghị, kiến nghị sớm sửa đổi Luật Đất đai. Là tham luận cuối cùng trong buổi sáng, Bí thư Thành ủy Thái Nguyên Nguyễn Thanh Hải cũng đề nghị quan tâm phân cấp, phân quyền nhiều hơn cho địa phương. Bà Hải đặc biệt nhấn mạnh đến việc triển khai tách dự án giải phóng mặt bằng ra khỏi dự án thông thường, như vậy mới có thể tạo sự đột biến trong việc thu hút đầu tư.\")"
   ]
  },
  {
   "cell_type": "code",
   "execution_count": 152,
   "id": "418dcb6d",
   "metadata": {},
   "outputs": [
    {
     "name": "stdout",
     "output_type": "stream",
     "text": [
      "Trong khi đó, trong kỳ họp Quốc hội bất thường khai mạc ngày 4/1, Chính phủ có trình Quốc hội dự thảo một luật sửa 8 luật (trong đó có Luật Đầu tư), nhưng lại không có nội dung về sửa đổi phân cấp, phân quyền chấp thuận chủ trương đầu tư xây dựng khu công nghiệp. 'Chúng tôi đề nghị Chính phủ bổ sung vấn đề này vào để sớm sửa quy định. Đi theo với sự phân cấp, phân quyền là tăng cường kiểm tra, giám sát, cá thể hóa trách nhiệm', ông Quảng đề xuất. Được mời phát biểu, Chủ tịch UBND TP.HCM Phan Văn Mãi cũng nhắc đến một luật sửa 8 luật đang được Chính phủ trình Quốc hội. Ông đề nghị sau khi Quốc hội thông qua thì Chính phủ sớm có hướng dẫn, phân cấp, phân quyền để luật đi vào cuộc sống. Những vấn đề cần phân cấp, phân quyền được Chủ tịch UBND TP.HCM đề xuất là phê chuẩn, điều chỉnh cục bộ quy hoạch, tách dự án giải phóng mặt bằng ra khỏi dự án thông thường... Lãnh đạo TP.HCM cũng đề nghị, kiến nghị sớm sửa đổi Luật Đất đai. Là tham luận cuối cùng trong buổi sáng, Bí thư Thành ủy Thái Nguyên Nguyễn Thanh Hải cũng đề nghị quan tâm phân cấp, phân quyền nhiều hơn cho địa phương. Bà Hải đặc biệt nhấn mạnh đến việc triển khai tách dự án giải phóng mặt bằng ra khỏi dự án thông thường, như vậy mới có thể tạo sự đột biến trong việc thu hút đầu tư.\n"
     ]
    }
   ],
   "source": [
    "print(sentences)"
   ]
  },
  {
   "cell_type": "code",
   "execution_count": 153,
   "id": "6ca2fc10",
   "metadata": {},
   "outputs": [],
   "source": [
    "#Number of words in input text\n",
    "words_in = ViTokenizer.tokenize(sentences)\n",
    "words_in = re.sub(pattern, '', words_in)\n",
    "number_of_words_in = len(words_in.split())"
   ]
  },
  {
   "cell_type": "code",
   "execution_count": 154,
   "id": "56985900",
   "metadata": {},
   "outputs": [],
   "source": [
    "sentences=sentences.lower().strip()"
   ]
  },
  {
   "cell_type": "markdown",
   "id": "0c4ef546",
   "metadata": {},
   "source": [
    "# Sentences Tokenizer"
   ]
  },
  {
   "cell_type": "code",
   "execution_count": 155,
   "id": "c0221fab",
   "metadata": {},
   "outputs": [
    {
     "name": "stdout",
     "output_type": "stream",
     "text": [
      "['trong khi đó, trong kỳ họp quốc hội bất thường khai mạc ngày 4/1, chính phủ có trình quốc hội dự thảo một luật sửa 8 luật (trong đó có luật đầu tư), nhưng lại không có nội dung về sửa đổi phân cấp, phân quyền chấp thuận chủ trương đầu tư xây dựng khu công nghiệp.', \"'chúng tôi đề nghị chính phủ bổ sung vấn đề này vào để sớm sửa quy định.\", \"đi theo với sự phân cấp, phân quyền là tăng cường kiểm tra, giám sát, cá thể hóa trách nhiệm', ông quảng đề xuất.\", 'được mời phát biểu, chủ tịch ubnd tp.hcm phan văn mãi cũng nhắc đến một luật sửa 8 luật đang được chính phủ trình quốc hội.', 'ông đề nghị sau khi quốc hội thông qua thì chính phủ sớm có hướng dẫn, phân cấp, phân quyền để luật đi vào cuộc sống.', 'những vấn đề cần phân cấp, phân quyền được chủ tịch ubnd tp.hcm đề xuất là phê chuẩn, điều chỉnh cục bộ quy hoạch, tách dự án giải phóng mặt bằng ra khỏi dự án thông thường... lãnh đạo tp.hcm cũng đề nghị, kiến nghị sớm sửa đổi luật đất đai.', 'là tham luận cuối cùng trong buổi sáng, bí thư thành ủy thái nguyên nguyễn thanh hải cũng đề nghị quan tâm phân cấp, phân quyền nhiều hơn cho địa phương.', 'bà hải đặc biệt nhấn mạnh đến việc triển khai tách dự án giải phóng mặt bằng ra khỏi dự án thông thường, như vậy mới có thể tạo sự đột biến trong việc thu hút đầu tư.']\n",
      "8\n"
     ]
    }
   ],
   "source": [
    "sentences = nltk.sent_tokenize(sentences)\n",
    "print(sentences)\n",
    "number_of_sentences = len(sentences)\n",
    "print(number_of_sentences)"
   ]
  },
  {
   "cell_type": "markdown",
   "id": "7c18a5d8",
   "metadata": {},
   "source": [
    "# # Sentences to vector"
   ]
  },
  {
   "cell_type": "code",
   "execution_count": 156,
   "id": "7cc2b6b5",
   "metadata": {},
   "outputs": [],
   "source": [
    "import sklearn.model_selection\n",
    "from gensim.models import KeyedVectors \n",
    "\n",
    "\n",
    "w2v = KeyedVectors.load_word2vec_format(\"Vectors/vi-300-5-20000-5-fullsplit.vec\")"
   ]
  },
  {
   "cell_type": "code",
   "execution_count": 157,
   "id": "4a6eec32",
   "metadata": {},
   "outputs": [],
   "source": [
    "vocab = w2v.vocab"
   ]
  },
  {
   "cell_type": "code",
   "execution_count": 158,
   "id": "02722ade",
   "metadata": {},
   "outputs": [
    {
     "name": "stderr",
     "output_type": "stream",
     "text": [
      "C:\\Users\\lego2\\anaconda3\\envs\\base36clone\\lib\\site-packages\\ipykernel_launcher.py:8: DeprecationWarning: Call to deprecated `wv` (Attribute will be removed in 4.0.0, use self instead).\n",
      "  \n"
     ]
    }
   ],
   "source": [
    "X = []\n",
    "for sentence in sentences:\n",
    "    sentence = ViTokenizer.tokenize(sentence)\n",
    "    words = sentence.split(\" \")\n",
    "    sentence_vec = np.zeros((300))\n",
    "    for word in words:\n",
    "        if word in vocab:\n",
    "            sentence_vec+=w2v.wv[word]\n",
    "    X.append(sentence_vec)"
   ]
  },
  {
   "cell_type": "code",
   "execution_count": 159,
   "id": "ecc94851",
   "metadata": {
    "scrolled": true
   },
   "outputs": [
    {
     "name": "stdout",
     "output_type": "stream",
     "text": [
      "8\n"
     ]
    }
   ],
   "source": [
    "print(number_of_sentences)"
   ]
  },
  {
   "cell_type": "code",
   "execution_count": 160,
   "id": "255bb8bb",
   "metadata": {},
   "outputs": [],
   "source": [
    "from sklearn.cluster import KMeans\n",
    "\n",
    "n_clusters = 3\n",
    "kmeans = KMeans(n_clusters=n_clusters)\n",
    "kmeans = kmeans.fit(X)"
   ]
  },
  {
   "cell_type": "code",
   "execution_count": 161,
   "id": "44c49fe3",
   "metadata": {},
   "outputs": [],
   "source": [
    "from sklearn.metrics import pairwise_distances_argmin_min\n",
    "\n",
    "avg = []\n",
    "for j in range(n_clusters):\n",
    "    idx = np.where(kmeans.labels_ == j)[0]\n",
    "    avg.append(np.mean(idx))\n",
    "closest, _ = pairwise_distances_argmin_min(kmeans.cluster_centers_, X)\n",
    "ordering = sorted(range(n_clusters), key=lambda k: avg[k])\n",
    "summary = ' '.join([sentences[closest[idx]] for idx in ordering])"
   ]
  },
  {
   "cell_type": "code",
   "execution_count": 162,
   "id": "fe416d93",
   "metadata": {},
   "outputs": [
    {
     "data": {
      "text/plain": [
       "'trong khi đó, trong kỳ họp quốc hội bất thường khai mạc ngày 4/1, chính phủ có trình quốc hội dự thảo một luật sửa 8 luật (trong đó có luật đầu tư), nhưng lại không có nội dung về sửa đổi phân cấp, phân quyền chấp thuận chủ trương đầu tư xây dựng khu công nghiệp. được mời phát biểu, chủ tịch ubnd tp.hcm phan văn mãi cũng nhắc đến một luật sửa 8 luật đang được chính phủ trình quốc hội. ông đề nghị sau khi quốc hội thông qua thì chính phủ sớm có hướng dẫn, phân cấp, phân quyền để luật đi vào cuộc sống.'"
      ]
     },
     "execution_count": 162,
     "metadata": {},
     "output_type": "execute_result"
    }
   ],
   "source": [
    "summary"
   ]
  },
  {
   "cell_type": "code",
   "execution_count": 163,
   "id": "67a2fe4e",
   "metadata": {},
   "outputs": [],
   "source": [
    "#Number of words in final text\n",
    "words_out = ViTokenizer.tokenize(summary)\n",
    "words_out = re.sub(pattern, '', words_out)\n",
    "number_of_words_out = len(words_out.split())"
   ]
  },
  {
   "cell_type": "code",
   "execution_count": 164,
   "id": "21c65930",
   "metadata": {},
   "outputs": [
    {
     "name": "stdout",
     "output_type": "stream",
     "text": [
      "185\n"
     ]
    }
   ],
   "source": [
    "print(number_of_words_in)"
   ]
  },
  {
   "cell_type": "code",
   "execution_count": 165,
   "id": "acffd507",
   "metadata": {},
   "outputs": [
    {
     "name": "stdout",
     "output_type": "stream",
     "text": [
      "83\n"
     ]
    }
   ],
   "source": [
    "print(number_of_words_out)"
   ]
  },
  {
   "cell_type": "code",
   "execution_count": 166,
   "id": "f6cb5f13",
   "metadata": {},
   "outputs": [
    {
     "name": "stdout",
     "output_type": "stream",
     "text": [
      "45\n"
     ]
    }
   ],
   "source": [
    "print(round((number_of_words_out/number_of_words_in)*100))"
   ]
  },
  {
   "cell_type": "code",
   "execution_count": null,
   "id": "d9850e32",
   "metadata": {},
   "outputs": [],
   "source": []
  }
 ],
 "metadata": {
  "kernelspec": {
   "display_name": "Python 3",
   "language": "python",
   "name": "python3"
  },
  "language_info": {
   "codemirror_mode": {
    "name": "ipython",
    "version": 3
   },
   "file_extension": ".py",
   "mimetype": "text/x-python",
   "name": "python",
   "nbconvert_exporter": "python",
   "pygments_lexer": "ipython3",
   "version": "3.6.13"
  }
 },
 "nbformat": 4,
 "nbformat_minor": 5
}
