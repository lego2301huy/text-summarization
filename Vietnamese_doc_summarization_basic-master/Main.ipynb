{
 "cells": [
  {
   "cell_type": "markdown",
   "metadata": {},
   "source": [
    "# Import library"
   ]
  },
  {
   "cell_type": "code",
   "execution_count": 47,
   "metadata": {},
   "outputs": [],
   "source": [
    "import pickle\n",
    "import numpy as np\n",
    "from pyvi import ViTokenizer"
   ]
  },
  {
   "cell_type": "markdown",
   "metadata": {},
   "source": [
    "# Loading data"
   ]
  },
  {
   "cell_type": "code",
   "execution_count": 48,
   "metadata": {},
   "outputs": [],
   "source": [
    "#Load\n",
    "with open ('neg.pkl', 'rb') as fp:\n",
    "    contents = pickle.load(fp)"
   ]
  },
  {
   "cell_type": "code",
   "execution_count": 49,
   "metadata": {},
   "outputs": [],
   "source": [
    "#Pre-processing\n",
    "contents_parsed = []\n",
    "for content in contents[0:10]:\n",
    "    contents_parsed.append(content.lower().strip())"
   ]
  },
  {
   "cell_type": "code",
   "execution_count": 50,
   "metadata": {},
   "outputs": [],
   "source": [
    "textindex=9"
   ]
  },
  {
   "cell_type": "code",
   "execution_count": null,
   "metadata": {},
   "outputs": [],
   "source": []
  },
  {
   "cell_type": "code",
   "execution_count": 51,
   "metadata": {},
   "outputs": [
    {
     "name": "stdout",
     "output_type": "stream",
     "text": [
      "Cấp chủ quyền, phép xây dựng: 'Kẽ hở' để hành dân  Mua bán hợp pháp không được cấp chủ quyền; nhà ở hợp pháp không được cấp phép xây dựng, nhưng lại được phép bán lại... Đó là thực trạng tại một số địa phương thuộc TP HCM.  Tháng 11/2002, bà Bùi Ngọc Thuận mua một lô đất 81 m2 ở khu phố 6, thị trấn An Lạc, huyện Bình Chánh cũ (TP HCM) của bà Nguyễn Thị Nụ. Bà Thuận làm đơn xin được cấp chủ quyền nhà nhưng không được UBND thị trấn xác nhận với lý do mà cán bộ địa chính nêu ra (bằng giấy viết tay): Đất xin sử dụng có một phần bị ảnh hưởng bởi quy hoạch giải tỏa khu dân cư quận 3.  Sau nửa năm khiếu nại, tháng 5/2003, UBND thị trấn An Lạc xin lỗi bà Thuận vì để bà phải đi lại nhiều lần và hứa sẽ kiểm điểm cán bộ địa chính có thái độ không khiêm tốn khi tiếp nhận hồ sơ. Đồng thời, chính quyền thị trấn đồng ý xác nhận và chuyển hồ sơ của bà Thuận lên huyện.  Tại huyện, sau 2 tháng chờ đợi, hồ sơ của bà Thuận lại bị trả về với lý do vị trí xin sử dụng đất có một phần nằm trên đường dự phóng. Có lẽ bà Thuận cũng đành chấp nhận nếu không phát hiện căn nhà liền kề với khu đất mà bà xin hợp thức hóa đã được cấp chủ quyền vào tháng 11/2003.  Tháng 2 vừa qua, bà Thuận lại tiếp tục nộp hồ sơ xin được cấp chủ quyền. Lúc này khu vực nhà bà đã thuộc quận Bình Tân (tách ra từ huyện Bình Chánh), Phòng Quản lý đô thị (QLĐT) quận Bình Tân lại xác nhận vị trí sử dụng đất có một phần nằm trong lộ giới đường vành đai trong theo quy hoạch khu dân cư phía nam đường Hùng Vương được phê duyệt từ tháng 9/1997.   Trong khi đó, nếu áp dụng theo các quy định về cấp chủ quyền nhà hiện hành, lô đất của bà Thuận vẫn được cấp chủ quyền vì chỉ bị ảnh hưởng bởi một phần chứ không nằm hoàn toàn trong khu quy hoạch.  Tháng 3/2001, ông Hà Văn Trung ở phường 12, quận Gò Vấp mua một miếng đất rộng 35 m2 trong khu dân cư, có nguồn gốc hợp lệ và được chính quyền phường, quận xác nhận.   Do bức bách về chỗ ở, ông Trung xây tạm một căn nhà tường gạch, mái tôn trên miếng đất đã mua. Mới đây, khi biết chủ trương của thành phố là cấp chủ quyền nhà đại trà (chỉ trừ trường hợp vi phạm quy hoạch), ông Trung nộp hồ sơ lên quận nhưng bị trả về với lý do: nhà chưa kê khai năm 1999 và diện tích quá nhỏ dưới 35 m2 nên không giải quyết. Tuy nhiên, thành phố không hề quy định những trường hợp trên không được cấp chủ quyền.   Do bị ảnh hưởng bởi dự án mở rộng vòng xoay Điện Biên Phủ, gia đình bà Phan Thị Thanh (gồm 11 người) được bố trí hai lô đất A17 và A25, cư xá Nguyên Hồng, phường 11, quận Bình Thạnh. Tháng 12/2003, bà Thanh phải bán bớt lô A25 để có tiền trả tiền xây nhà trên lô A17. Người mua đất là ông Bùi Hy Long.   Khi tiến hành làm hồ sơ xin chuyển quyền sử dụng đất để làm tiếp thủ tục xin phép xây dựng, ông Long bất ngờ khi nhận được văn bản của Phòng QLĐT quận Bình Thạnh ghi rõ: Hiện nay chủ đầu tư (Công ty Thanh niên xung phong - chủ đầu tư dự án cư xá Nguyên Hồng) chưa bàn giao cơ sở hạ tầng cho UBND quận Bình Thạnh. Do đó, phòng QLĐT chưa thể xem xét cấp phép xây dựng trong khu vực này. Ông Long chỉ có quyền sử dụng đất hoặc chuyển nhượng quyền sử dụng đất của mình cho người khác. Trường hợp ông Long không đồng ý chuyển nhượng quyền sử dụng đất thì liên hệ phòng QLĐT gặp bà Loan trong vòng hai ngày để phòng QLĐT ngưng giải quyết và trả hồ sơ theo quy định.  Gia đình anh Nguyễn Hạnh Vũ ở quận Bình Thạnh cũng không được cấp phép xây dựng dù cầm trong tay tờ giấy hồng (chủ quyền nhà) đã hơn một năm. Lý do: căn nhà anh mua nằm trong quy hoạch khu dân cư liên phường 1, 2, 3, 14 do Kiến trúc sư trưởng thành phố phê duyệt tháng 2/1999 và đang được UBND quận Bình Thạnh điều chỉnh.   Tháng 2/2004, nghe tin sẽ bãi bỏ quy hoạch bất khả thi, anh Vũ làm lại đơn xin phép xây nhà nhưng phòng QLĐT yêu cầu anh chỉ sửa chữa nhà theo hiện trạng chứ không được phép xây.    \n"
     ]
    }
   ],
   "source": [
    "print(contents[textindex])"
   ]
  },
  {
   "cell_type": "code",
   "execution_count": 52,
   "metadata": {
    "scrolled": true
   },
   "outputs": [
    {
     "name": "stdout",
     "output_type": "stream",
     "text": [
      "cấp chủ quyền, phép xây dựng: 'kẽ hở' để hành dân  mua bán hợp pháp không được cấp chủ quyền; nhà ở hợp pháp không được cấp phép xây dựng, nhưng lại được phép bán lại... đó là thực trạng tại một số địa phương thuộc tp hcm.  tháng 11/2002, bà bùi ngọc thuận mua một lô đất 81 m2 ở khu phố 6, thị trấn an lạc, huyện bình chánh cũ (tp hcm) của bà nguyễn thị nụ. bà thuận làm đơn xin được cấp chủ quyền nhà nhưng không được ubnd thị trấn xác nhận với lý do mà cán bộ địa chính nêu ra (bằng giấy viết tay): đất xin sử dụng có một phần bị ảnh hưởng bởi quy hoạch giải tỏa khu dân cư quận 3.  sau nửa năm khiếu nại, tháng 5/2003, ubnd thị trấn an lạc xin lỗi bà thuận vì để bà phải đi lại nhiều lần và hứa sẽ kiểm điểm cán bộ địa chính có thái độ không khiêm tốn khi tiếp nhận hồ sơ. đồng thời, chính quyền thị trấn đồng ý xác nhận và chuyển hồ sơ của bà thuận lên huyện.  tại huyện, sau 2 tháng chờ đợi, hồ sơ của bà thuận lại bị trả về với lý do vị trí xin sử dụng đất có một phần nằm trên đường dự phóng. có lẽ bà thuận cũng đành chấp nhận nếu không phát hiện căn nhà liền kề với khu đất mà bà xin hợp thức hóa đã được cấp chủ quyền vào tháng 11/2003.  tháng 2 vừa qua, bà thuận lại tiếp tục nộp hồ sơ xin được cấp chủ quyền. lúc này khu vực nhà bà đã thuộc quận bình tân (tách ra từ huyện bình chánh), phòng quản lý đô thị (qlđt) quận bình tân lại xác nhận vị trí sử dụng đất có một phần nằm trong lộ giới đường vành đai trong theo quy hoạch khu dân cư phía nam đường hùng vương được phê duyệt từ tháng 9/1997.   trong khi đó, nếu áp dụng theo các quy định về cấp chủ quyền nhà hiện hành, lô đất của bà thuận vẫn được cấp chủ quyền vì chỉ bị ảnh hưởng bởi một phần chứ không nằm hoàn toàn trong khu quy hoạch.  tháng 3/2001, ông hà văn trung ở phường 12, quận gò vấp mua một miếng đất rộng 35 m2 trong khu dân cư, có nguồn gốc hợp lệ và được chính quyền phường, quận xác nhận.   do bức bách về chỗ ở, ông trung xây tạm một căn nhà tường gạch, mái tôn trên miếng đất đã mua. mới đây, khi biết chủ trương của thành phố là cấp chủ quyền nhà đại trà (chỉ trừ trường hợp vi phạm quy hoạch), ông trung nộp hồ sơ lên quận nhưng bị trả về với lý do: nhà chưa kê khai năm 1999 và diện tích quá nhỏ dưới 35 m2 nên không giải quyết. tuy nhiên, thành phố không hề quy định những trường hợp trên không được cấp chủ quyền.   do bị ảnh hưởng bởi dự án mở rộng vòng xoay điện biên phủ, gia đình bà phan thị thanh (gồm 11 người) được bố trí hai lô đất a17 và a25, cư xá nguyên hồng, phường 11, quận bình thạnh. tháng 12/2003, bà thanh phải bán bớt lô a25 để có tiền trả tiền xây nhà trên lô a17. người mua đất là ông bùi hy long.   khi tiến hành làm hồ sơ xin chuyển quyền sử dụng đất để làm tiếp thủ tục xin phép xây dựng, ông long bất ngờ khi nhận được văn bản của phòng qlđt quận bình thạnh ghi rõ: hiện nay chủ đầu tư (công ty thanh niên xung phong - chủ đầu tư dự án cư xá nguyên hồng) chưa bàn giao cơ sở hạ tầng cho ubnd quận bình thạnh. do đó, phòng qlđt chưa thể xem xét cấp phép xây dựng trong khu vực này. ông long chỉ có quyền sử dụng đất hoặc chuyển nhượng quyền sử dụng đất của mình cho người khác. trường hợp ông long không đồng ý chuyển nhượng quyền sử dụng đất thì liên hệ phòng qlđt gặp bà loan trong vòng hai ngày để phòng qlđt ngưng giải quyết và trả hồ sơ theo quy định.  gia đình anh nguyễn hạnh vũ ở quận bình thạnh cũng không được cấp phép xây dựng dù cầm trong tay tờ giấy hồng (chủ quyền nhà) đã hơn một năm. lý do: căn nhà anh mua nằm trong quy hoạch khu dân cư liên phường 1, 2, 3, 14 do kiến trúc sư trưởng thành phố phê duyệt tháng 2/1999 và đang được ubnd quận bình thạnh điều chỉnh.   tháng 2/2004, nghe tin sẽ bãi bỏ quy hoạch bất khả thi, anh vũ làm lại đơn xin phép xây nhà nhưng phòng qlđt yêu cầu anh chỉ sửa chữa nhà theo hiện trạng chứ không được phép xây.\n"
     ]
    }
   ],
   "source": [
    "print(contents_parsed[textindex])"
   ]
  },
  {
   "cell_type": "markdown",
   "metadata": {},
   "source": [
    "# Sentences Tokenizer"
   ]
  },
  {
   "cell_type": "code",
   "execution_count": 53,
   "metadata": {},
   "outputs": [
    {
     "name": "stderr",
     "output_type": "stream",
     "text": [
      "[nltk_data] Downloading package punkt to\n",
      "[nltk_data]     C:\\Users\\lego2\\AppData\\Roaming\\nltk_data...\n",
      "[nltk_data]   Package punkt is already up-to-date!\n"
     ]
    },
    {
     "data": {
      "text/plain": [
       "True"
      ]
     },
     "execution_count": 53,
     "metadata": {},
     "output_type": "execute_result"
    }
   ],
   "source": [
    "import nltk\n",
    "nltk.download('punkt')"
   ]
  },
  {
   "cell_type": "code",
   "execution_count": 54,
   "metadata": {},
   "outputs": [],
   "source": [
    "sentences = nltk.sent_tokenize(contents_parsed[textindex])"
   ]
  },
  {
   "cell_type": "code",
   "execution_count": 55,
   "metadata": {},
   "outputs": [],
   "source": [
    "#sentences = ('Abraham mở tỷ số ngay phút đầu tiên với pha dứt điểm trong tư thế đang ngã lộn cổ xuống đất. Cũng với pha phản công nhanh, Nicolo Zaniolo nâng tỷ số lên 2-0 ở phút 27 với cú đá về góc hẹp trong thế đối mặt. Đây là bàn đầu của Zaniolo ở Serie A mùa này, và anh cũng đề cao Mourinho khi nói: \"Chúng tôi đã làm đúng như Mourinho yêu cầu, đó là thủ chặt và phản công nhanh. Đây mới là sức mạnh thật sự của Roma, chứ không phải như ở trận thua Inter\".')\n",
    "#sentence.lower().strip()\n",
    "\n",
    "#sentences = nltk.sent_tokenize(sentences)"
   ]
  },
  {
   "cell_type": "code",
   "execution_count": 56,
   "metadata": {},
   "outputs": [
    {
     "name": "stdout",
     "output_type": "stream",
     "text": [
      "[\"cấp chủ quyền, phép xây dựng: 'kẽ hở' để hành dân  mua bán hợp pháp không được cấp chủ quyền; nhà ở hợp pháp không được cấp phép xây dựng, nhưng lại được phép bán lại... đó là thực trạng tại một số địa phương thuộc tp hcm.\", 'tháng 11/2002, bà bùi ngọc thuận mua một lô đất 81 m2 ở khu phố 6, thị trấn an lạc, huyện bình chánh cũ (tp hcm) của bà nguyễn thị nụ.', 'bà thuận làm đơn xin được cấp chủ quyền nhà nhưng không được ubnd thị trấn xác nhận với lý do mà cán bộ địa chính nêu ra (bằng giấy viết tay): đất xin sử dụng có một phần bị ảnh hưởng bởi quy hoạch giải tỏa khu dân cư quận 3.  sau nửa năm khiếu nại, tháng 5/2003, ubnd thị trấn an lạc xin lỗi bà thuận vì để bà phải đi lại nhiều lần và hứa sẽ kiểm điểm cán bộ địa chính có thái độ không khiêm tốn khi tiếp nhận hồ sơ.', 'đồng thời, chính quyền thị trấn đồng ý xác nhận và chuyển hồ sơ của bà thuận lên huyện.', 'tại huyện, sau 2 tháng chờ đợi, hồ sơ của bà thuận lại bị trả về với lý do vị trí xin sử dụng đất có một phần nằm trên đường dự phóng.', 'có lẽ bà thuận cũng đành chấp nhận nếu không phát hiện căn nhà liền kề với khu đất mà bà xin hợp thức hóa đã được cấp chủ quyền vào tháng 11/2003.', 'tháng 2 vừa qua, bà thuận lại tiếp tục nộp hồ sơ xin được cấp chủ quyền.', 'lúc này khu vực nhà bà đã thuộc quận bình tân (tách ra từ huyện bình chánh), phòng quản lý đô thị (qlđt) quận bình tân lại xác nhận vị trí sử dụng đất có một phần nằm trong lộ giới đường vành đai trong theo quy hoạch khu dân cư phía nam đường hùng vương được phê duyệt từ tháng 9/1997.', 'trong khi đó, nếu áp dụng theo các quy định về cấp chủ quyền nhà hiện hành, lô đất của bà thuận vẫn được cấp chủ quyền vì chỉ bị ảnh hưởng bởi một phần chứ không nằm hoàn toàn trong khu quy hoạch.', 'tháng 3/2001, ông hà văn trung ở phường 12, quận gò vấp mua một miếng đất rộng 35 m2 trong khu dân cư, có nguồn gốc hợp lệ và được chính quyền phường, quận xác nhận.', 'do bức bách về chỗ ở, ông trung xây tạm một căn nhà tường gạch, mái tôn trên miếng đất đã mua.', 'mới đây, khi biết chủ trương của thành phố là cấp chủ quyền nhà đại trà (chỉ trừ trường hợp vi phạm quy hoạch), ông trung nộp hồ sơ lên quận nhưng bị trả về với lý do: nhà chưa kê khai năm 1999 và diện tích quá nhỏ dưới 35 m2 nên không giải quyết.', 'tuy nhiên, thành phố không hề quy định những trường hợp trên không được cấp chủ quyền.', 'do bị ảnh hưởng bởi dự án mở rộng vòng xoay điện biên phủ, gia đình bà phan thị thanh (gồm 11 người) được bố trí hai lô đất a17 và a25, cư xá nguyên hồng, phường 11, quận bình thạnh.', 'tháng 12/2003, bà thanh phải bán bớt lô a25 để có tiền trả tiền xây nhà trên lô a17.', 'người mua đất là ông bùi hy long.', 'khi tiến hành làm hồ sơ xin chuyển quyền sử dụng đất để làm tiếp thủ tục xin phép xây dựng, ông long bất ngờ khi nhận được văn bản của phòng qlđt quận bình thạnh ghi rõ: hiện nay chủ đầu tư (công ty thanh niên xung phong - chủ đầu tư dự án cư xá nguyên hồng) chưa bàn giao cơ sở hạ tầng cho ubnd quận bình thạnh.', 'do đó, phòng qlđt chưa thể xem xét cấp phép xây dựng trong khu vực này.', 'ông long chỉ có quyền sử dụng đất hoặc chuyển nhượng quyền sử dụng đất của mình cho người khác.', 'trường hợp ông long không đồng ý chuyển nhượng quyền sử dụng đất thì liên hệ phòng qlđt gặp bà loan trong vòng hai ngày để phòng qlđt ngưng giải quyết và trả hồ sơ theo quy định.', 'gia đình anh nguyễn hạnh vũ ở quận bình thạnh cũng không được cấp phép xây dựng dù cầm trong tay tờ giấy hồng (chủ quyền nhà) đã hơn một năm.', 'lý do: căn nhà anh mua nằm trong quy hoạch khu dân cư liên phường 1, 2, 3, 14 do kiến trúc sư trưởng thành phố phê duyệt tháng 2/1999 và đang được ubnd quận bình thạnh điều chỉnh.', 'tháng 2/2004, nghe tin sẽ bãi bỏ quy hoạch bất khả thi, anh vũ làm lại đơn xin phép xây nhà nhưng phòng qlđt yêu cầu anh chỉ sửa chữa nhà theo hiện trạng chứ không được phép xây.']\n"
     ]
    }
   ],
   "source": [
    "print(sentences)"
   ]
  },
  {
   "cell_type": "code",
   "execution_count": 57,
   "metadata": {},
   "outputs": [
    {
     "name": "stdout",
     "output_type": "stream",
     "text": [
      "[\"cấp chủ quyền, phép xây dựng: 'kẽ hở' để hành dân  mua bán hợp pháp không được cấp chủ quyền; nhà ở hợp pháp không được cấp phép xây dựng, nhưng lại được phép bán lại... đó là thực trạng tại một số địa phương thuộc tp hcm.\", 'tháng 11/2002, bà bùi ngọc thuận mua một lô đất 81 m2 ở khu phố 6, thị trấn an lạc, huyện bình chánh cũ (tp hcm) của bà nguyễn thị nụ.', 'bà thuận làm đơn xin được cấp chủ quyền nhà nhưng không được ubnd thị trấn xác nhận với lý do mà cán bộ địa chính nêu ra (bằng giấy viết tay): đất xin sử dụng có một phần bị ảnh hưởng bởi quy hoạch giải tỏa khu dân cư quận 3.  sau nửa năm khiếu nại, tháng 5/2003, ubnd thị trấn an lạc xin lỗi bà thuận vì để bà phải đi lại nhiều lần và hứa sẽ kiểm điểm cán bộ địa chính có thái độ không khiêm tốn khi tiếp nhận hồ sơ.', 'đồng thời, chính quyền thị trấn đồng ý xác nhận và chuyển hồ sơ của bà thuận lên huyện.', 'tại huyện, sau 2 tháng chờ đợi, hồ sơ của bà thuận lại bị trả về với lý do vị trí xin sử dụng đất có một phần nằm trên đường dự phóng.', 'có lẽ bà thuận cũng đành chấp nhận nếu không phát hiện căn nhà liền kề với khu đất mà bà xin hợp thức hóa đã được cấp chủ quyền vào tháng 11/2003.', 'tháng 2 vừa qua, bà thuận lại tiếp tục nộp hồ sơ xin được cấp chủ quyền.', 'lúc này khu vực nhà bà đã thuộc quận bình tân (tách ra từ huyện bình chánh), phòng quản lý đô thị (qlđt) quận bình tân lại xác nhận vị trí sử dụng đất có một phần nằm trong lộ giới đường vành đai trong theo quy hoạch khu dân cư phía nam đường hùng vương được phê duyệt từ tháng 9/1997.', 'trong khi đó, nếu áp dụng theo các quy định về cấp chủ quyền nhà hiện hành, lô đất của bà thuận vẫn được cấp chủ quyền vì chỉ bị ảnh hưởng bởi một phần chứ không nằm hoàn toàn trong khu quy hoạch.', 'tháng 3/2001, ông hà văn trung ở phường 12, quận gò vấp mua một miếng đất rộng 35 m2 trong khu dân cư, có nguồn gốc hợp lệ và được chính quyền phường, quận xác nhận.', 'do bức bách về chỗ ở, ông trung xây tạm một căn nhà tường gạch, mái tôn trên miếng đất đã mua.', 'mới đây, khi biết chủ trương của thành phố là cấp chủ quyền nhà đại trà (chỉ trừ trường hợp vi phạm quy hoạch), ông trung nộp hồ sơ lên quận nhưng bị trả về với lý do: nhà chưa kê khai năm 1999 và diện tích quá nhỏ dưới 35 m2 nên không giải quyết.', 'tuy nhiên, thành phố không hề quy định những trường hợp trên không được cấp chủ quyền.', 'do bị ảnh hưởng bởi dự án mở rộng vòng xoay điện biên phủ, gia đình bà phan thị thanh (gồm 11 người) được bố trí hai lô đất a17 và a25, cư xá nguyên hồng, phường 11, quận bình thạnh.', 'tháng 12/2003, bà thanh phải bán bớt lô a25 để có tiền trả tiền xây nhà trên lô a17.', 'người mua đất là ông bùi hy long.', 'khi tiến hành làm hồ sơ xin chuyển quyền sử dụng đất để làm tiếp thủ tục xin phép xây dựng, ông long bất ngờ khi nhận được văn bản của phòng qlđt quận bình thạnh ghi rõ: hiện nay chủ đầu tư (công ty thanh niên xung phong - chủ đầu tư dự án cư xá nguyên hồng) chưa bàn giao cơ sở hạ tầng cho ubnd quận bình thạnh.', 'do đó, phòng qlđt chưa thể xem xét cấp phép xây dựng trong khu vực này.', 'ông long chỉ có quyền sử dụng đất hoặc chuyển nhượng quyền sử dụng đất của mình cho người khác.', 'trường hợp ông long không đồng ý chuyển nhượng quyền sử dụng đất thì liên hệ phòng qlđt gặp bà loan trong vòng hai ngày để phòng qlđt ngưng giải quyết và trả hồ sơ theo quy định.', 'gia đình anh nguyễn hạnh vũ ở quận bình thạnh cũng không được cấp phép xây dựng dù cầm trong tay tờ giấy hồng (chủ quyền nhà) đã hơn một năm.', 'lý do: căn nhà anh mua nằm trong quy hoạch khu dân cư liên phường 1, 2, 3, 14 do kiến trúc sư trưởng thành phố phê duyệt tháng 2/1999 và đang được ubnd quận bình thạnh điều chỉnh.', 'tháng 2/2004, nghe tin sẽ bãi bỏ quy hoạch bất khả thi, anh vũ làm lại đơn xin phép xây nhà nhưng phòng qlđt yêu cầu anh chỉ sửa chữa nhà theo hiện trạng chứ không được phép xây.']\n"
     ]
    }
   ],
   "source": [
    "print(sentences)"
   ]
  },
  {
   "cell_type": "markdown",
   "metadata": {},
   "source": [
    "# Sentences to vector"
   ]
  },
  {
   "cell_type": "code",
   "execution_count": 58,
   "metadata": {
    "scrolled": false
   },
   "outputs": [],
   "source": [
    "import sklearn.model_selection\n",
    "from gensim.models import KeyedVectors \n",
    "\n",
    "\n",
    "w2v = KeyedVectors.load_word2vec_format(\"vi-300-5-40000-5.vec\")"
   ]
  },
  {
   "cell_type": "code",
   "execution_count": 59,
   "metadata": {},
   "outputs": [],
   "source": [
    "vocab = w2v.vocab"
   ]
  },
  {
   "cell_type": "code",
   "execution_count": 60,
   "metadata": {
    "scrolled": true
   },
   "outputs": [
    {
     "name": "stderr",
     "output_type": "stream",
     "text": [
      "C:\\Users\\lego2\\anaconda3\\envs\\base36clone\\lib\\site-packages\\ipykernel_launcher.py:8: DeprecationWarning: Call to deprecated `wv` (Attribute will be removed in 4.0.0, use self instead).\n",
      "  \n"
     ]
    }
   ],
   "source": [
    "X = []\n",
    "for sentence in sentences:\n",
    "    sentence = ViTokenizer.tokenize(sentence)\n",
    "    words = sentence.split(\" \")\n",
    "    sentence_vec = np.zeros((300))\n",
    "    for word in words:\n",
    "        if word in vocab:\n",
    "            sentence_vec+=w2v.wv[word]\n",
    "    X.append(sentence_vec)"
   ]
  },
  {
   "cell_type": "code",
   "execution_count": 61,
   "metadata": {},
   "outputs": [],
   "source": [
    "###\n",
    "\n",
    "from sklearn.cluster import KMeans\n",
    "\n",
    "n_clusters = 5\n",
    "kmeans = KMeans(n_clusters=n_clusters)\n",
    "kmeans = kmeans.fit(X)"
   ]
  },
  {
   "cell_type": "code",
   "execution_count": 62,
   "metadata": {},
   "outputs": [],
   "source": [
    "from sklearn.metrics import pairwise_distances_argmin_min\n",
    "\n",
    "avg = []\n",
    "for j in range(n_clusters):\n",
    "    idx = np.where(kmeans.labels_ == j)[0]\n",
    "    avg.append(np.mean(idx))\n",
    "closest, _ = pairwise_distances_argmin_min(kmeans.cluster_centers_, X)\n",
    "ordering = sorted(range(n_clusters), key=lambda k: avg[k])\n",
    "summary = ' '.join([sentences[closest[idx]] for idx in ordering])"
   ]
  },
  {
   "cell_type": "code",
   "execution_count": 63,
   "metadata": {},
   "outputs": [
    {
     "data": {
      "text/plain": [
       "'bà thuận làm đơn xin được cấp chủ quyền nhà nhưng không được ubnd thị trấn xác nhận với lý do mà cán bộ địa chính nêu ra (bằng giấy viết tay): đất xin sử dụng có một phần bị ảnh hưởng bởi quy hoạch giải tỏa khu dân cư quận 3.  sau nửa năm khiếu nại, tháng 5/2003, ubnd thị trấn an lạc xin lỗi bà thuận vì để bà phải đi lại nhiều lần và hứa sẽ kiểm điểm cán bộ địa chính có thái độ không khiêm tốn khi tiếp nhận hồ sơ. lúc này khu vực nhà bà đã thuộc quận bình tân (tách ra từ huyện bình chánh), phòng quản lý đô thị (qlđt) quận bình tân lại xác nhận vị trí sử dụng đất có một phần nằm trong lộ giới đường vành đai trong theo quy hoạch khu dân cư phía nam đường hùng vương được phê duyệt từ tháng 9/1997. tháng 3/2001, ông hà văn trung ở phường 12, quận gò vấp mua một miếng đất rộng 35 m2 trong khu dân cư, có nguồn gốc hợp lệ và được chính quyền phường, quận xác nhận. mới đây, khi biết chủ trương của thành phố là cấp chủ quyền nhà đại trà (chỉ trừ trường hợp vi phạm quy hoạch), ông trung nộp hồ sơ lên quận nhưng bị trả về với lý do: nhà chưa kê khai năm 1999 và diện tích quá nhỏ dưới 35 m2 nên không giải quyết. do đó, phòng qlđt chưa thể xem xét cấp phép xây dựng trong khu vực này.'"
      ]
     },
     "execution_count": 63,
     "metadata": {},
     "output_type": "execute_result"
    }
   ],
   "source": [
    "summary"
   ]
  },
  {
   "cell_type": "code",
   "execution_count": null,
   "metadata": {},
   "outputs": [],
   "source": []
  }
 ],
 "metadata": {
  "kernelspec": {
   "display_name": "Python 3",
   "language": "python",
   "name": "python3"
  },
  "language_info": {
   "codemirror_mode": {
    "name": "ipython",
    "version": 3
   },
   "file_extension": ".py",
   "mimetype": "text/x-python",
   "name": "python",
   "nbconvert_exporter": "python",
   "pygments_lexer": "ipython3",
   "version": "3.6.13"
  }
 },
 "nbformat": 4,
 "nbformat_minor": 2
}
